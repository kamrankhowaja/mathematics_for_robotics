{
 "cells": [
  {
   "cell_type": "markdown",
   "id": "03415cb2",
   "metadata": {
    "deletable": false,
    "editable": false,
    "nbassignment": {
     "type": "header"
    },
    "nbgrader": {
     "cell_type": "markdown",
     "checksum": "fdefd62fc826f77414b58d875aad1347",
     "grade": false,
     "grade_id": "HeaderA",
     "locked": true,
     "schema_version": 3,
     "solution": false,
     "task": false
    }
   },
   "source": [
    "<div class=\"alert alert-block alert-info\">\n",
    "    <h1>Mathematics for Robotics and Control - SS24</h1>\n",
    "    <h3>General Information:</h3>\n",
    "    <p>Please do not add or delete any cells. Answers belong into the corresponding cells (below the question). If a function is given (either as a signature or a full function), you <b>should not change the name, arguments or return value</b> of the function.</p>\n",
    "    <p>If you encounter empty cells underneath the answer that can not be edited, please ignore them, they are for testing purposes.</p>\n",
    "    <p>When editing an assignment there can be the case that there are variables in the kernel. To make sure your assignment works, please restart the kernel and run all cells before submitting (e.g. via <i>Kernel -> Restart & Run All</i>).</p>\n",
    "    <p>Code cells where you are supposed to give your answer often include the line  <code>raise NotImplementedError</code>. This makes it easier to automatically grade answers. If you edit the cell please outcomment or delete this line.</p>\n",
    "    <h3>Submission:</h3>\n",
    "    <p>Please submit your notebook via the web interface (in the main view -> Assignments -> Submit). The assignments are due on <b>Sunday</b> at <b> 20:00 </b> CEST.</p>\n",
    "    <h3>Group Work:</h3>\n",
    "    <p>Group work is allowed! If you are working in a group, please write your student IDs (ending with -2s) in the designated cell below.</p>\n",
    "    <h3>Questions about the Assignment:</h3>\n",
    "    <p>If you have questions about the assignment please post them in the LEA forum before the deadline.</p>\n",
    "    \n",
    "</div>"
   ]
  },
  {
   "cell_type": "code",
   "execution_count": null,
   "id": "0f243861",
   "metadata": {
    "nbassignment": {
     "type": "group_info"
    }
   },
   "outputs": [],
   "source": [
    "# Please fill in the usernames of all your team members\n",
    "\n",
    "member1 = ''\n",
    "member2 = ''"
   ]
  },
  {
   "cell_type": "markdown",
   "id": "25e96bc2",
   "metadata": {
    "deletable": false,
    "editable": false,
    "nbgrader": {
     "cell_type": "markdown",
     "checksum": "ff02ea842ba7723d935b30b617a6cfd7",
     "grade": false,
     "grade_id": "taskheader_1",
     "locked": true,
     "schema_version": 3,
     "solution": false,
     "task": false
    }
   },
   "source": [
    "# Task 1\n",
    "\n",
    "**[10 Point(s)]**"
   ]
  },
  {
   "cell_type": "markdown",
   "id": "f15d3ca1",
   "metadata": {
    "deletable": false,
    "editable": false,
    "nbgrader": {
     "cell_type": "markdown",
     "checksum": "9a0991c378fd13164e918e868f740fa8",
     "grade": false,
     "grade_id": "UnknownLaundry_A_Header",
     "locked": true,
     "schema_version": 3,
     "solution": false,
     "task": false
    }
   },
   "source": [
    "# UnknownLaundry\n",
    "\n",
    "The following is a scenario that can be fully appreciated only when living in a shared house. Suppose that you are doing your laundry and, while taking it out of the washing machine, you notice a pair of socks that looks strange to you. You thus ask yourself: are these actually my socks? Suppose that, out of 100 times of doing laundry, you:\n",
    "* find a pair of socks that doesn't belong to you two times\n",
    "* are suspicious about socks that don't belong to you 99 times\n",
    "* are suspicious about your own socks five times"
   ]
  },
  {
   "cell_type": "markdown",
   "id": "66788cf6",
   "metadata": {
    "deletable": false,
    "editable": false,
    "nbgrader": {
     "cell_type": "markdown",
     "checksum": "4133ff3d9f5005e5f21ff971bcdf6f7b",
     "grade": false,
     "grade_id": "UnknownLaundry_A_Description0",
     "locked": true,
     "schema_version": 3,
     "solution": false,
     "task": false
    }
   },
   "source": [
    "What is the probability that the suspicious pair of socks is not yours?"
   ]
  },
  {
   "cell_type": "code",
   "execution_count": null,
   "id": "dea8b038",
   "metadata": {
    "ExecuteTime": {
     "end_time": "2024-10-12T18:34:10.604664Z",
     "start_time": "2024-10-12T18:34:10.592485Z"
    },
    "deletable": false,
    "nbgrader": {
     "cell_type": "code",
     "checksum": "ff2d2e5fcd526610ac900e8e24cbfb3f",
     "grade": false,
     "grade_id": "UnknownLaundry_A",
     "locked": false,
     "schema_version": 3,
     "solution": true,
     "task": false
    }
   },
   "outputs": [],
   "source": [
    "#Given Data NS=Not your Socks \n",
    "P_NS = 2/100\n",
    "P_Suspicious_NS = 99/100\n",
    "P_Suspicious_S = 5/100\n",
    "P_NS_Suspicious = \"Unknown\"\n",
    "\n",
    "#inference \n",
    "P_Suspicious = (P_Suspicious_NS * P_NS) + (P_Suspicious_S * (1- P_NS))\n",
    "\n",
    "P_NS_Suspicious = (P_Suspicious_NS * P_NS)/(P_Suspicious)\n",
    "\n",
    "print(\"Probability that the suspicious pair of socks is not yours is {}\".format(P_NS_Suspicious))"
   ]
  },
  {
   "cell_type": "code",
   "execution_count": null,
   "id": "056ac6b6",
   "metadata": {
    "deletable": false,
    "editable": false,
    "nbgrader": {
     "cell_type": "code",
     "checksum": "fdd3d90e73d06fbbe92cd50c21c0bfd6",
     "grade": true,
     "grade_id": "test_UnknownLaundry_A0",
     "locked": true,
     "points": 10,
     "schema_version": 3,
     "solution": false,
     "task": false
    }
   },
   "outputs": [],
   "source": [
    "# This cell contains tests for your solution\n"
   ]
  },
  {
   "cell_type": "markdown",
   "id": "1bddfde1",
   "metadata": {
    "deletable": false,
    "editable": false,
    "nbgrader": {
     "cell_type": "markdown",
     "checksum": "cada680616327e83f09a256cd569a6bb",
     "grade": false,
     "grade_id": "taskheader_2",
     "locked": true,
     "schema_version": 3,
     "solution": false,
     "task": false
    }
   },
   "source": [
    "# Task 2\n",
    "\n",
    "**[25 Point(s)]**"
   ]
  },
  {
   "cell_type": "markdown",
   "id": "8e2d157a",
   "metadata": {
    "deletable": false,
    "editable": false,
    "nbgrader": {
     "cell_type": "markdown",
     "checksum": "9f871a24f7c3ef0bd48b127f3de936d7",
     "grade": false,
     "grade_id": "ObjectClassification_AObjectClassification_BObjectClassification_CObjectClassification_DObjectClassification_E_Header",
     "locked": true,
     "schema_version": 3,
     "solution": false,
     "task": false
    }
   },
   "source": [
    "# ObjectClassification\n",
    "\n",
    "Assume that you have trained a robot to detect and classify insects in your house. Based on some evaluation on a test set, you know that your detector has a false positive rate of $0.3$ for houseflies (i.e. an insect is incorrectly classified as a housefly in $30\\%$ of the test cases) and a false negative rate of $0.05$ (i.e. a fly is not classified as such in $10\\%$ of the test cases).\n"
   ]
  },
  {
   "cell_type": "markdown",
   "id": "fa322e7f",
   "metadata": {
    "deletable": false,
    "editable": false,
    "nbgrader": {
     "cell_type": "markdown",
     "checksum": "6acfa24a23b6ac98ec2b41e9d9ab08f5",
     "grade": false,
     "grade_id": "taskheader_2_1",
     "locked": true,
     "schema_version": 3,
     "solution": false,
     "task": false
    }
   },
   "source": [
    "## Task 2.1\n",
    "\n",
    "**[8 Point(s)]**"
   ]
  },
  {
   "cell_type": "code",
   "execution_count": null,
   "id": "5d97b738",
   "metadata": {
    "deletable": false,
    "editable": false,
    "nbgrader": {
     "cell_type": "code",
     "checksum": "80b79a7f9ada2e91e8aefcc73762733e",
     "grade": false,
     "grade_id": "ObjectClassification_A_Description0",
     "locked": true,
     "schema_version": 3,
     "solution": false,
     "task": false
    }
   },
   "outputs": [],
   "source": [
    "from typing import Sequence, Dict\n",
    "\n",
    "import numpy as np\n",
    "import matplotlib.pyplot as plt"
   ]
  },
  {
   "cell_type": "markdown",
   "id": "a233e129",
   "metadata": {
    "deletable": false,
    "editable": false,
    "nbgrader": {
     "cell_type": "markdown",
     "checksum": "45ae0e6824de42361e88529bd3a2c5e3",
     "grade": false,
     "grade_id": "ObjectClassification_A_Description1",
     "locked": true,
     "schema_version": 3,
     "solution": false,
     "task": false
    }
   },
   "source": [
    "Assume the detector reports that a fly has been detected. Find the probability that a fly was indeed detected if we know that the detection is performed in winter (assume that the probability of detecting a fly in winter is $0.01$). Should we trust the output of the detector if it reports that the fly was detected with $0.9$ probability?"
   ]
  },
  {
   "cell_type": "code",
   "execution_count": null,
   "id": "20d1c339",
   "metadata": {
    "ExecuteTime": {
     "end_time": "2024-10-13T07:33:00.980368Z",
     "start_time": "2024-10-13T07:33:00.966468Z"
    },
    "deletable": false,
    "nbgrader": {
     "cell_type": "code",
     "checksum": "f8e5d36ff44dbf81b3103bff7b32fa41",
     "grade": false,
     "grade_id": "ObjectClassification_A",
     "locked": false,
     "schema_version": 3,
     "solution": true,
     "task": false
    }
   },
   "outputs": [],
   "source": [
    "p_fly_given_detection = ...\n",
    "p_positive_when_fly_present = 0.95\n",
    "p_fly_already_present = 0.01\n",
    "p_positive_fly_not_present = 0.3\n",
    "p_no_fly_present = 0.99\n",
    "\n",
    "p_fly_given_detection = (p_positive_when_fly_present*p_fly_already_present)/((p_positive_when_fly_present*p_fly_already_present)+(p_positive_fly_not_present*p_no_fly_present))\n",
    "\n",
    "print('Fly probability: {0}'.format(p_fly_given_detection))"
   ]
  },
  {
   "cell_type": "code",
   "execution_count": null,
   "id": "4e77be7f",
   "metadata": {
    "deletable": false,
    "editable": false,
    "nbgrader": {
     "cell_type": "code",
     "checksum": "1d2222560ddb940c7e06c7957fc84eda",
     "grade": true,
     "grade_id": "test_ObjectClassification_A0",
     "locked": true,
     "points": 8,
     "schema_version": 3,
     "solution": false,
     "task": false
    }
   },
   "outputs": [],
   "source": [
    "# This cell contains tests for your solution\n"
   ]
  },
  {
   "cell_type": "markdown",
   "id": "e79a0612",
   "metadata": {
    "deletable": false,
    "editable": false,
    "nbgrader": {
     "cell_type": "markdown",
     "checksum": "6177e48a080dfa148b0aba2637808843",
     "grade": false,
     "grade_id": "taskheader_2_2",
     "locked": true,
     "schema_version": 3,
     "solution": false,
     "task": false
    }
   },
   "source": [
    "## Task 2.2\n",
    "\n",
    "**[2 Point(s)]**"
   ]
  },
  {
   "cell_type": "markdown",
   "id": "7b0c5c3c",
   "metadata": {
    "deletable": false,
    "editable": false,
    "nbgrader": {
     "cell_type": "markdown",
     "checksum": "3b001369322efa23748ebe7041c99a7a",
     "grade": false,
     "grade_id": "ObjectClassification_B_Description0",
     "locked": true,
     "schema_version": 3,
     "solution": false,
     "task": false
    }
   },
   "source": [
    "Write your observations about the behaviour of the detector here."
   ]
  },
  {
   "cell_type": "markdown",
   "id": "b90afc8f",
   "metadata": {
    "deletable": false,
    "nbgrader": {
     "cell_type": "markdown",
     "checksum": "618559c3cf81baf2aaddbac5490a4321",
     "grade": true,
     "grade_id": "ObjectClassification_B",
     "locked": false,
     "points": 2,
     "schema_version": 3,
     "solution": true,
     "task": false
    }
   },
   "source": [
    "Based on the results, the detector is not working well in winter as the chances of detecting a fly are very low."
   ]
  },
  {
   "cell_type": "markdown",
   "id": "1a8d2852",
   "metadata": {
    "deletable": false,
    "editable": false,
    "nbgrader": {
     "cell_type": "markdown",
     "checksum": "a32d9434328f3e5d26d17e9cc7701d20",
     "grade": false,
     "grade_id": "taskheader_2_3",
     "locked": true,
     "schema_version": 3,
     "solution": false,
     "task": false
    }
   },
   "source": [
    "## Task 2.3\n",
    "\n",
    "**[5 Point(s)]**"
   ]
  },
  {
   "cell_type": "markdown",
   "id": "e2fe5099",
   "metadata": {
    "deletable": false,
    "editable": false,
    "nbgrader": {
     "cell_type": "markdown",
     "checksum": "2739ec2820f7ef0e6e0a19bab42e607c",
     "grade": false,
     "grade_id": "ObjectClassification_C_Description0",
     "locked": true,
     "schema_version": 3,
     "solution": false,
     "task": false
    }
   },
   "source": [
    "(How) Does the above probability change if the detection is performed in summer (assume that the probability of detecting a fly in summer increases to 0.6)?"
   ]
  },
  {
   "cell_type": "code",
   "execution_count": null,
   "id": "9617dc48",
   "metadata": {
    "ExecuteTime": {
     "end_time": "2024-10-13T07:35:24.719856Z",
     "start_time": "2024-10-13T07:35:24.714018Z"
    },
    "deletable": false,
    "nbgrader": {
     "cell_type": "code",
     "checksum": "3f1a264e7ff6c1dc96b0f0a1f4f1606d",
     "grade": false,
     "grade_id": "ObjectClassification_C",
     "locked": false,
     "schema_version": 3,
     "solution": true,
     "task": false
    }
   },
   "outputs": [],
   "source": [
    "# please assign p_fly_given_detection_summer to your final solution\n",
    "p_fly_given_detection_summer = ...\n",
    "p_positive_when_fly_present = 0.95\n",
    "p_fly_already_present = 0.6\n",
    "p_positive_fly_not_present = 0.3\n",
    "p_no_fly_present = 0.4\n",
    "\n",
    "# YOUR CODE HERE\n",
    "p_fly_given_detection_summer = (p_positive_when_fly_present*p_fly_already_present)/((p_positive_when_fly_present*p_fly_already_present)+(p_positive_fly_not_present*p_no_fly_present))\n",
    "\n",
    "print('Fly probability summer: {0}'.format(p_fly_given_detection_summer))\n",
    "\n",
    "#raise NotImplementedError()"
   ]
  },
  {
   "cell_type": "code",
   "execution_count": null,
   "id": "2be45f4e",
   "metadata": {
    "deletable": false,
    "editable": false,
    "nbgrader": {
     "cell_type": "code",
     "checksum": "69d1e822096901e1304ecb416d55da56",
     "grade": true,
     "grade_id": "test_ObjectClassification_C0",
     "locked": true,
     "points": 5,
     "schema_version": 3,
     "solution": false,
     "task": false
    }
   },
   "outputs": [],
   "source": [
    "# This cell contains tests for your solution\n"
   ]
  },
  {
   "cell_type": "markdown",
   "id": "f4b15037",
   "metadata": {
    "deletable": false,
    "editable": false,
    "nbgrader": {
     "cell_type": "markdown",
     "checksum": "8af13cfa7cefea25e0917e4233e3a3f8",
     "grade": false,
     "grade_id": "taskheader_2_4",
     "locked": true,
     "schema_version": 3,
     "solution": false,
     "task": false
    }
   },
   "source": [
    "## Task 2.4\n",
    "\n",
    "**[8 Point(s)]**"
   ]
  },
  {
   "cell_type": "markdown",
   "id": "0ca0bfeb",
   "metadata": {
    "deletable": false,
    "editable": false,
    "nbgrader": {
     "cell_type": "markdown",
     "checksum": "d443caaefebb9fe05a37769f942f5b3a",
     "grade": false,
     "grade_id": "ObjectClassification_D_Description0",
     "locked": true,
     "schema_version": 3,
     "solution": false,
     "task": false
    }
   },
   "source": [
    "You are not satisfied by the performance of your detector, so you collect more diverse data and retrain it. After retraining and based on the test set evaluation, you know that the detector's false positive rate for houseflies has dropped to $0.001$ and the false negative rate has decreased to $0.01$. Can we trust the detector now if it reports that a fly has been detected with $0.9$ probability, both in the winter and the summer case?"
   ]
  },
  {
   "cell_type": "code",
   "execution_count": null,
   "id": "68acefd6",
   "metadata": {
    "ExecuteTime": {
     "end_time": "2024-10-13T07:46:57.599624Z",
     "start_time": "2024-10-13T07:46:57.593575Z"
    },
    "deletable": false,
    "nbgrader": {
     "cell_type": "code",
     "checksum": "4aba735d55d21d85745b29208c21d8fa",
     "grade": false,
     "grade_id": "ObjectClassification_D",
     "locked": false,
     "schema_version": 3,
     "solution": true,
     "task": false
    }
   },
   "outputs": [],
   "source": [
    "#p_positive_when_fly_present = 0.99\n",
    "#p_fly_already_present = 0.01\n",
    "#p_positive_fly_not_present = 0.001\n",
    "#p_no_fly_present = 0.99\n",
    "\n",
    "p_fly_given_detection_after_retraining_winter = (0.99*0.01)/((0.99*0.01)+(0.001*0.99))\n",
    "print('Winter detection probability: {0}'.format(p_fly_given_detection_after_retraining_winter))\n",
    "\n",
    "#p_positive_when_fly_present = 0.99\n",
    "#p_fly_already_present = 0.6\n",
    "#p_positive_fly_not_present = 0.001\n",
    "#p_no_fly_present = 0.4\n",
    "                                                             \n",
    "p_fly_given_detection_after_retraining_summer = (0.99*0.6)/((0.99*0.6)+(0.001*0.4))\n",
    "print('Summer detection probability: {0}'.format(p_fly_given_detection_after_retraining_summer))\n",
    "\n",
    "# YOUR CODE HERE\n",
    "#raise NotImplementedError()"
   ]
  },
  {
   "cell_type": "code",
   "execution_count": null,
   "id": "a1c16fd3",
   "metadata": {
    "deletable": false,
    "editable": false,
    "nbgrader": {
     "cell_type": "code",
     "checksum": "122464336b43248b73538e18a027cf17",
     "grade": true,
     "grade_id": "test_ObjectClassification_D0",
     "locked": true,
     "points": 8,
     "schema_version": 3,
     "solution": false,
     "task": false
    }
   },
   "outputs": [],
   "source": [
    "# This cell contains tests for your solution\n"
   ]
  },
  {
   "cell_type": "markdown",
   "id": "ce49d3e0",
   "metadata": {
    "deletable": false,
    "editable": false,
    "nbgrader": {
     "cell_type": "markdown",
     "checksum": "bae7830d1abde5c57c137cbb001f503c",
     "grade": false,
     "grade_id": "taskheader_2_5",
     "locked": true,
     "schema_version": 3,
     "solution": false,
     "task": false
    }
   },
   "source": [
    "## Task 2.5\n",
    "\n",
    "**[2 Point(s)]**"
   ]
  },
  {
   "cell_type": "markdown",
   "id": "97c163bf",
   "metadata": {
    "deletable": false,
    "editable": false,
    "nbgrader": {
     "cell_type": "markdown",
     "checksum": "1bbcc7b43a7cbe4597aeb8d878bdd88c",
     "grade": false,
     "grade_id": "ObjectClassification_E_Description0",
     "locked": true,
     "schema_version": 3,
     "solution": false,
     "task": false
    }
   },
   "source": [
    "Write your observations about the behaviour of the detector after retraining in the cell given below.\n"
   ]
  },
  {
   "cell_type": "markdown",
   "id": "fa7b4460",
   "metadata": {
    "deletable": false,
    "nbgrader": {
     "cell_type": "markdown",
     "checksum": "ce8d5483330266c127d0836b47dbfdfc",
     "grade": true,
     "grade_id": "ObjectClassification_E",
     "locked": false,
     "points": 2,
     "schema_version": 3,
     "solution": true,
     "task": false
    }
   },
   "source": [
    "After retraining the detector, it seems to be working more accurately. The decrease in false poitive rate points out that the detector might correctly detect that the fly is not present in the room when it actually isn't, and vice versa."
   ]
  },
  {
   "cell_type": "markdown",
   "id": "fc3bcf29",
   "metadata": {
    "deletable": false,
    "editable": false,
    "nbgrader": {
     "cell_type": "markdown",
     "checksum": "49d69aca56ed9a5bcd3eea38479a31f9",
     "grade": false,
     "grade_id": "taskheader_3",
     "locked": true,
     "schema_version": 3,
     "solution": false,
     "task": false
    }
   },
   "source": [
    "# Task 3\n",
    "\n",
    "**[20 Point(s)]**"
   ]
  },
  {
   "cell_type": "markdown",
   "id": "ed67004f",
   "metadata": {
    "deletable": false,
    "editable": false,
    "nbgrader": {
     "cell_type": "markdown",
     "checksum": "f44355302f55d0e9460a630505a3a2ab",
     "grade": false,
     "grade_id": "MedicalDiagnosis_AMedicalDiagnosis_BMedicalDiagnosis_C_Header",
     "locked": true,
     "schema_version": 3,
     "solution": false,
     "task": false
    }
   },
   "source": [
    "# MedicalDiagnosis\n",
    "\n",
    "\n",
    "Imagine you are evaluating the performance of a diagnostic test for a certain medical condition. You have collected the following data:\n",
    "\n",
    "- Number of People Tested (Total Population): 500\n",
    "- Number of People with the Medical Condition: 20\n",
    "\n",
    "You also have information about the test results:\n",
    "\n",
    "- Number of True Positives (Correctly identified individuals with the condition): 15\n",
    "- Number of True Negatives (Correctly identified individuals without the condition): 450\n"
   ]
  },
  {
   "cell_type": "markdown",
   "id": "1cad6fe2",
   "metadata": {
    "deletable": false,
    "editable": false,
    "nbgrader": {
     "cell_type": "markdown",
     "checksum": "9228114ebf19cfcb46b75766c4be0e18",
     "grade": false,
     "grade_id": "taskheader_3_1",
     "locked": true,
     "schema_version": 3,
     "solution": false,
     "task": false
    }
   },
   "source": [
    "## Task 3.1\n",
    "\n",
    "**[10 Point(s)]**"
   ]
  },
  {
   "cell_type": "markdown",
   "id": "bd19aa52",
   "metadata": {
    "deletable": false,
    "editable": false,
    "nbgrader": {
     "cell_type": "markdown",
     "checksum": "f7c72a4ca58aee729f79115946cb0475",
     "grade": false,
     "grade_id": "MedicalDiagnosis_A_Description0",
     "locked": true,
     "schema_version": 3,
     "solution": false,
     "task": false
    }
   },
   "source": [
    "Calculate the following:\n",
    "1. True Positive Rate\n",
    "2. True Negative Rate\n",
    "3. False Positives Rate\n",
    "4. False Negatives Rate\n",
    "\n",
    "And define them as conditional probablities in the form of $P(A|B)$ with both A and B defined!"
   ]
  },
  {
   "cell_type": "code",
   "execution_count": null,
   "id": "d04566d1",
   "metadata": {},
   "outputs": [],
   "source": []
  },
  {
   "cell_type": "code",
   "execution_count": null,
   "id": "205f6bc5",
   "metadata": {
    "ExecuteTime": {
     "end_time": "2024-10-13T08:57:05.524537Z",
     "start_time": "2024-10-13T08:57:05.510043Z"
    },
    "deletable": false,
    "nbgrader": {
     "cell_type": "code",
     "checksum": "43d5786df203510e5790b04b371cb9b7",
     "grade": false,
     "grade_id": "MedicalDiagnosis_A",
     "locked": false,
     "schema_version": 3,
     "solution": true,
     "task": false
    }
   },
   "outputs": [],
   "source": [
    "#assign your results to the following variables\n",
    "tpr = ...\n",
    "tnr = ...\n",
    "fpr = ...\n",
    "fnr = ...\n",
    "\n",
    "total_population = 500\n",
    "Has_Condition = 20 #people_with_medical_condition \n",
    "Does_not_have_condition = 480 #people_without_medical_condition\n",
    "true_positives = 15\n",
    "true_negatives = 450\n",
    "\n",
    "#false_positives = Incorrectly identified individuals without the condition = people_without_medical_condition-true_negatives\n",
    "false_positives = 30 #480-450=30\n",
    "\n",
    "#false_negatives = Incorrectly identified individuals with the condition = people_with_medical_condition-true_positives\n",
    "false_negatives = 5 #20-15=5\n",
    "\n",
    "# YOUR CODE HERE\n",
    "\n",
    "tpr = true_positives/Has_Condition #tpr = P(true_positives | Has_Condition)\n",
    "\n",
    "tnr = true_negatives/Does_not_have_condition #tnr = P(true_negatives | Does_not_have_condition)\n",
    "\n",
    "fpr = false_positives/Does_not_have_condition\n",
    "\n",
    "fnr = false_negatives/Has_Condition\n",
    "\n",
    "#raise NotImplementedError()\n",
    "\n",
    "# Displaying the results\n",
    "print(\"True Positive Rate (TPR): {}\".format(tpr))\n",
    "print(\"True Negative Rate (TNR): {}\".format(tnr))\n",
    "print(\"False Positive Rate (FPR): {}\".format(fpr))\n",
    "print(\"False Negative Rate (FNR): {}\".format(fnr))"
   ]
  },
  {
   "cell_type": "code",
   "execution_count": null,
   "id": "5e0e4652",
   "metadata": {
    "ExecuteTime": {
     "end_time": "2023-12-16T21:35:11.579243Z",
     "start_time": "2023-12-16T21:35:11.570749Z"
    },
    "deletable": false,
    "editable": false,
    "nbgrader": {
     "cell_type": "code",
     "checksum": "e35b5b77ebd5d8cc59f54652ec9f0bed",
     "grade": true,
     "grade_id": "test_MedicalDiagnosis_A0",
     "locked": true,
     "points": 10,
     "schema_version": 3,
     "solution": false,
     "task": false
    }
   },
   "outputs": [],
   "source": [
    "# This cell contains tests for your solution\n"
   ]
  },
  {
   "cell_type": "markdown",
   "id": "9fbbfd8f",
   "metadata": {
    "deletable": false,
    "editable": false,
    "nbgrader": {
     "cell_type": "markdown",
     "checksum": "22ae311cc72cec46a7a19fe02c8d48f5",
     "grade": false,
     "grade_id": "taskheader_3_2",
     "locked": true,
     "schema_version": 3,
     "solution": false,
     "task": false
    }
   },
   "source": [
    "## Task 3.2\n",
    "\n",
    "**[5 Point(s)]**"
   ]
  },
  {
   "cell_type": "markdown",
   "id": "096ffce2",
   "metadata": {
    "deletable": false,
    "editable": false,
    "nbgrader": {
     "cell_type": "markdown",
     "checksum": "7b382670dd40b65c9ab2b741f6ae0d70",
     "grade": false,
     "grade_id": "MedicalDiagnosis_B_Description0",
     "locked": true,
     "schema_version": 3,
     "solution": false,
     "task": false
    }
   },
   "source": [
    "Suppose there is a  medical condition, and you have the following information:\n",
    "\n",
    "- The prior of the condition in the population is 0.01 (1%).\n",
    "- The true positive rate of a diagnostic test is 0.95 (95%).\n",
    "- The true negative rate of the test is 0.90 (90%).\n",
    "\n",
    "Now, given that a person receives a positive test result what is the probability that the person actually carries the disease?"
   ]
  },
  {
   "cell_type": "code",
   "execution_count": null,
   "id": "4d20927e",
   "metadata": {
    "ExecuteTime": {
     "end_time": "2024-10-13T09:14:51.764999Z",
     "start_time": "2024-10-13T09:14:51.751132Z"
    },
    "deletable": false,
    "nbgrader": {
     "cell_type": "code",
     "checksum": "330bb4415d9183ad9013fa3cc3e7026e",
     "grade": false,
     "grade_id": "MedicalDiagnosis_B",
     "locked": false,
     "points": 0,
     "schema_version": 3,
     "solution": true,
     "task": false
    }
   },
   "outputs": [],
   "source": [
    "#assign the results to the following variable\n",
    "p__carries__disease_given_posTest = ...\n",
    "\n",
    "p_prior_have_disease = 0.01\n",
    "p_prior_not_have_disease = 0.99\n",
    "p_positive_person_have_disease = 0.95\n",
    "tnr = 0.90\n",
    "p_positive_person_not_have_disease = 0.10 # 1-tnr = 1 - 0.90 \n",
    "\n",
    "# YOUR CODE HERE\n",
    "p__carries__disease_given_posTest = (p_positive_person_have_disease*p_prior_have_disease)/ ((p_positive_person_have_disease*p_prior_have_disease) + (p_positive_person_not_have_disease*p_prior_not_have_disease))\n",
    "\n",
    "#raise NotImplementedError()\n",
    "\n",
    "print(f\"probability that the person actually carries the disease {p__carries__disease_given_posTest:0.3%}\")"
   ]
  },
  {
   "cell_type": "code",
   "execution_count": null,
   "id": "53ee7ad6",
   "metadata": {
    "ExecuteTime": {
     "end_time": "2023-12-16T21:31:57.896861Z",
     "start_time": "2023-12-16T21:31:57.890038Z"
    },
    "deletable": false,
    "editable": false,
    "nbgrader": {
     "cell_type": "code",
     "checksum": "0e68b350bb309e959c277fbe3de74c23",
     "grade": true,
     "grade_id": "test_MedicalDiagnosis_B0",
     "locked": true,
     "points": 5,
     "schema_version": 3,
     "solution": false,
     "task": false
    }
   },
   "outputs": [],
   "source": [
    "# This cell contains tests for your solution\n"
   ]
  },
  {
   "cell_type": "markdown",
   "id": "347f7b04",
   "metadata": {
    "deletable": false,
    "editable": false,
    "nbgrader": {
     "cell_type": "markdown",
     "checksum": "58e3c8da9932217d0f64d50f593b1f08",
     "grade": false,
     "grade_id": "taskheader_3_3",
     "locked": true,
     "schema_version": 3,
     "solution": false,
     "task": false
    }
   },
   "source": [
    "## Task 3.3\n",
    "\n",
    "**[5 Point(s)]**"
   ]
  },
  {
   "cell_type": "markdown",
   "id": "088aca82",
   "metadata": {
    "deletable": false,
    "editable": false,
    "nbgrader": {
     "cell_type": "markdown",
     "checksum": "496a773d2766d03986f5a5c3ab6a5923",
     "grade": false,
     "grade_id": "MedicalDiagnosis_C_Description0",
     "locked": true,
     "schema_version": 3,
     "solution": false,
     "task": false
    }
   },
   "source": [
    "Suppose there is a medical condition, and you have the following information:\n",
    "\n",
    "- The prior of the condition in the population is 0.1 (10%).\n",
    "- The true positive rate of a diagnostic test is 0.99 (99%).\n",
    "- The false positive rate of the test is 0.1 (10%).\n",
    "\n",
    "Now, given that a person receives a negative test result what is the probability that the person actually carries the disease?"
   ]
  },
  {
   "cell_type": "code",
   "execution_count": null,
   "id": "099e3864",
   "metadata": {
    "ExecuteTime": {
     "end_time": "2024-10-13T09:29:27.612039Z",
     "start_time": "2024-10-13T09:29:27.604418Z"
    },
    "deletable": false,
    "nbgrader": {
     "cell_type": "code",
     "checksum": "d90f813dc094932238361bac609d77db",
     "grade": false,
     "grade_id": "MedicalDiagnosis_C",
     "locked": false,
     "schema_version": 3,
     "solution": true,
     "task": false
    }
   },
   "outputs": [],
   "source": [
    "#assign the results to the following variable\n",
    "p__carries__disease_given_negTest = ...\n",
    "\n",
    "p_prior_have_disease = 0.1\n",
    "p_prior_not_have_disease = 0.9\n",
    "tpr = 0.99\n",
    "p_negative_person_have_disease = 0.01 #1-tpr = 1-0.99 = 0.01\n",
    "fpr = 0.1\n",
    "p_negative_person_not_have_disease = 0.9 # 1-tnr = 1 - 0.10 \n",
    "\n",
    "\n",
    "# YOUR CODE HERE\n",
    "p__carries__disease_given_negTest = (p_negative_person_have_disease*p_prior_have_disease)/ ((p_negative_person_have_disease*p_prior_have_disease) + (p_negative_person_not_have_disease*p_prior_not_have_disease))\n",
    "\n",
    "#raise NotImplementedError()\n",
    "\n",
    "print(f\"probability that the person actually carries the disease {p__carries__disease_given_negTest:0.3%}\")"
   ]
  },
  {
   "cell_type": "code",
   "execution_count": null,
   "id": "e98ab415",
   "metadata": {
    "ExecuteTime": {
     "end_time": "2023-12-16T21:32:15.481610Z",
     "start_time": "2023-12-16T21:32:15.476261Z"
    },
    "deletable": false,
    "editable": false,
    "nbgrader": {
     "cell_type": "code",
     "checksum": "b7179583bb6f032b7e8318edf9f43752",
     "grade": true,
     "grade_id": "test_MedicalDiagnosis_C0",
     "locked": true,
     "points": 5,
     "schema_version": 3,
     "solution": false,
     "task": false
    }
   },
   "outputs": [],
   "source": [
    "# This cell contains tests for your solution\n"
   ]
  },
  {
   "cell_type": "markdown",
   "id": "3f3e2d49",
   "metadata": {
    "deletable": false,
    "editable": false,
    "nbgrader": {
     "cell_type": "markdown",
     "checksum": "3bd6030a70d527a28c7ceec0ac682e96",
     "grade": false,
     "grade_id": "taskheader_4",
     "locked": true,
     "schema_version": 3,
     "solution": false,
     "task": false
    }
   },
   "source": [
    "# Task 4\n",
    "\n",
    "**[10 Point(s)]**"
   ]
  },
  {
   "cell_type": "markdown",
   "id": "e2960fc8",
   "metadata": {
    "deletable": false,
    "editable": false,
    "nbgrader": {
     "cell_type": "markdown",
     "checksum": "21a9e96eaa011b708c3a097b1998bb40",
     "grade": false,
     "grade_id": "ConditionalProbability_AConditionalProbability_BConditionalProbability_CConditionalProbability_D_Header",
     "locked": true,
     "schema_version": 3,
     "solution": false,
     "task": false
    }
   },
   "source": [
    "#  Conditional probability\n",
    "\n",
    "Consider the binary communication channel shown below:\n",
    "\n",
    "![binary_communication_channel](Assignment_01_Bayesian_Probability_files/img/binary_communication_channel.png)\n",
    "\n",
    "The channel input symbol $X$ may take the states $0$ or $1$ and, similarly, the output symbol $Y$ may take the state $0$ or $1$. Due to channel noise, errors may happen: a $0$ may be converted to a $1$ and vice versa a $1$ to a $0$. The channel is characterised by four transition probabilities - $p_0$, $q_0$, $p_1$, and $q_1$ - defined as\n",
    "\n",
    "\\begin{align*}\n",
    "    &p_0 = P(y_1|x_0) \\hspace{2cm} p_1 = P(y_0|x_1) \\\\\n",
    "    &q_0 = P(y_0|x_0) \\hspace{2cm} q_1 = P(y_1|x_1)\n",
    "\\end{align*}\n",
    "\n",
    "where $x_0$ and $x_1$ denote the events $\\{ X = 0 \\}$ and $\\{ X = 1 \\}$ respectively and $y_0$ and $y_1$ denote the events $\\{ Y = 0 \\}$ and $\\{ Y = 1 \\}$ respectively. Note that $p_0 + q_0 = p_1 + q_1 = 1$.\n",
    "\n",
    "Let's now assume that $P(x_0) = 0.5$, $p_0 = 0.1$, and $p_1 = 0.2$.\n"
   ]
  },
  {
   "cell_type": "markdown",
   "id": "936f06b7",
   "metadata": {
    "deletable": false,
    "editable": false,
    "nbgrader": {
     "cell_type": "markdown",
     "checksum": "6a4ca00fd3b38580bcd32636046bcf12",
     "grade": false,
     "grade_id": "taskheader_4_1",
     "locked": true,
     "schema_version": 3,
     "solution": false,
     "task": false
    }
   },
   "source": [
    "## Task 4.1\n",
    "\n",
    "**[2 Point(s)]**"
   ]
  },
  {
   "cell_type": "markdown",
   "id": "61b06218",
   "metadata": {
    "deletable": false,
    "editable": false,
    "nbgrader": {
     "cell_type": "markdown",
     "checksum": "f3b8e9998d4e4a82a46e4dda40ae73bc",
     "grade": false,
     "grade_id": "ConditionalProbability_A_Description0",
     "locked": true,
     "schema_version": 3,
     "solution": false,
     "task": false
    }
   },
   "source": [
    "Find $P(y_0)$ and $P(y_1)$.  \n",
    "Annotate the names of the rules (axioms) which you have used for each equation!"
   ]
  },
  {
   "cell_type": "markdown",
   "id": "7de6734d",
   "metadata": {
    "deletable": false,
    "nbgrader": {
     "cell_type": "markdown",
     "checksum": "1da88c6b273f53a5ec672a4d3966a1a4",
     "grade": true,
     "grade_id": "ConditionalProbability_A",
     "locked": false,
     "points": 2,
     "schema_version": 3,
     "solution": true,
     "task": false
    }
   },
   "source": [
    "### Answer\n",
    "\n",
    "P($y_0$)= 0.55\n",
    "\n",
    "P($y_1$)= 0.45\n",
    "\n",
    "Axioms used:\n",
    "\n",
    "1) Total Probability theorem\n",
    "\n",
    "2) Complement Rule"
   ]
  },
  {
   "cell_type": "markdown",
   "id": "a57fd392",
   "metadata": {
    "deletable": false,
    "editable": false,
    "nbgrader": {
     "cell_type": "markdown",
     "checksum": "a0210d0683bcdbaa1be0de1ff2a272d5",
     "grade": false,
     "grade_id": "taskheader_4_2",
     "locked": true,
     "schema_version": 3,
     "solution": false,
     "task": false
    }
   },
   "source": [
    "## Task 4.2\n",
    "\n",
    "**[2 Point(s)]**"
   ]
  },
  {
   "cell_type": "markdown",
   "id": "ed169409",
   "metadata": {
    "deletable": false,
    "editable": false,
    "nbgrader": {
     "cell_type": "markdown",
     "checksum": "0bf969bc87c13897ffc93cfd8a71eabf",
     "grade": false,
     "grade_id": "ConditionalProbability_B_Description0",
     "locked": true,
     "schema_version": 3,
     "solution": false,
     "task": false
    }
   },
   "source": [
    "If a $0$ is observed at the output, what is the probability that $0$ was the input state?  \n",
    "Explain the root (start point) of you derivation!   \n",
    "Annotate the names of the rules (axioms) which you have used for each equation!"
   ]
  },
  {
   "cell_type": "markdown",
   "id": "6a3df81c",
   "metadata": {
    "deletable": false,
    "nbgrader": {
     "cell_type": "markdown",
     "checksum": "50cabefd025b12e5526e3d378c2e7e6d",
     "grade": true,
     "grade_id": "ConditionalProbability_B",
     "locked": false,
     "points": 2,
     "schema_version": 3,
     "solution": true,
     "task": false
    }
   },
   "source": [
    "### Answer\n",
    "\n",
    "P($x_0|y_0$) = 0.818\n",
    "\n",
    "Axioms Used:\n",
    "\n",
    "1) Bayes theorem\n",
    "2) Total probability theorem"
   ]
  },
  {
   "cell_type": "markdown",
   "id": "29bb6370",
   "metadata": {
    "deletable": false,
    "editable": false,
    "nbgrader": {
     "cell_type": "markdown",
     "checksum": "8290f07291ce257489a462f6fd93c802",
     "grade": false,
     "grade_id": "taskheader_4_3",
     "locked": true,
     "schema_version": 3,
     "solution": false,
     "task": false
    }
   },
   "source": [
    "## Task 4.3\n",
    "\n",
    "**[2 Point(s)]**"
   ]
  },
  {
   "cell_type": "markdown",
   "id": "c75036f6",
   "metadata": {
    "deletable": false,
    "editable": false,
    "nbgrader": {
     "cell_type": "markdown",
     "checksum": "98da2d616e7ae3ec9b1c37f6a070e216",
     "grade": false,
     "grade_id": "ConditionalProbability_C_Description0",
     "locked": true,
     "schema_version": 3,
     "solution": false,
     "task": false
    }
   },
   "source": [
    "If a $1$ is observed at the output, what is the probability that $1$ was the input state?  \n",
    "Annotate the names of the rules (axioms) which you have used for each equation!"
   ]
  },
  {
   "cell_type": "markdown",
   "id": "bae9f610",
   "metadata": {
    "deletable": false,
    "nbgrader": {
     "cell_type": "markdown",
     "checksum": "9d7093e6e0b01ea6718d1b7f588179a4",
     "grade": true,
     "grade_id": "ConditionalProbability_C",
     "locked": false,
     "points": 2,
     "schema_version": 3,
     "solution": true,
     "task": false
    }
   },
   "source": [
    "### Answer\n",
    "\n",
    "P($x_1|y_1$) = 0.889\n",
    "\n",
    "Axioms Used:\n",
    "\n",
    "1) Bayes theorem\n",
    "2) Total probability theorem"
   ]
  },
  {
   "cell_type": "markdown",
   "id": "59d82c08",
   "metadata": {
    "deletable": false,
    "editable": false,
    "nbgrader": {
     "cell_type": "markdown",
     "checksum": "67a68444d8d8208d323cafd970f720cc",
     "grade": false,
     "grade_id": "taskheader_4_4",
     "locked": true,
     "schema_version": 3,
     "solution": false,
     "task": false
    }
   },
   "source": [
    "## Task 4.4\n",
    "\n",
    "**[4 Point(s)]**"
   ]
  },
  {
   "cell_type": "markdown",
   "id": "3a093556",
   "metadata": {
    "deletable": false,
    "editable": false,
    "nbgrader": {
     "cell_type": "markdown",
     "checksum": "07ed218d9219650fd30981a4673b52f3",
     "grade": false,
     "grade_id": "ConditionalProbability_D_Description0",
     "locked": true,
     "schema_version": 3,
     "solution": false,
     "task": false
    }
   },
   "source": [
    "Calculate the probability of error $P_e$.  \n",
    "Annotate the names of the rules (axioms) which you have used for each equation!"
   ]
  },
  {
   "cell_type": "markdown",
   "id": "cfd79eb2",
   "metadata": {
    "deletable": false,
    "nbgrader": {
     "cell_type": "markdown",
     "checksum": "948374486214cb331aa96d3c85f8622a",
     "grade": true,
     "grade_id": "ConditionalProbability_D",
     "locked": false,
     "points": 4,
     "schema_version": 3,
     "solution": true,
     "task": false
    }
   },
   "source": [
    "### Answer\n",
    "\n",
    "$P_e$ = 0.15\n",
    "\n",
    "Axioms Used:\n",
    "\n",
    "1) Total Probability theorem\n",
    "2) Conditional Probability"
   ]
  },
  {
   "cell_type": "markdown",
   "id": "b328603d",
   "metadata": {
    "deletable": false,
    "editable": false,
    "nbgrader": {
     "cell_type": "markdown",
     "checksum": "b8472b67023449443228943a82a77e5b",
     "grade": false,
     "grade_id": "taskheader_5",
     "locked": true,
     "schema_version": 3,
     "solution": false,
     "task": false
    }
   },
   "source": [
    "# Task 5\n",
    "\n",
    "**[40 Point(s)]**"
   ]
  },
  {
   "cell_type": "markdown",
   "id": "d76d0616",
   "metadata": {
    "deletable": false,
    "editable": false,
    "nbgrader": {
     "cell_type": "markdown",
     "checksum": "3659cf7ac96b3254c11e74b649f405cb",
     "grade": false,
     "grade_id": "DiceThrowing_ADiceThrowing_BDiceThrowing_CDiceThrowing_DDiceThrowing_EDiceThrowing_F_Header",
     "locked": true,
     "schema_version": 3,
     "solution": false,
     "task": false
    }
   },
   "source": [
    "# DiceThrowing\n",
    "\n",
    "Assume that a robot observes a long sequence of $n$ die throws $S_n := (a_n, ... ,a_3,a_2,a_1)$, where $S_n$ has either been generated by throwing a fair die (hypothesis $A$) or by throwing an unfair die (hypothesis $B$). Let $P(A|S_n)$ denote the probability of hypothesis $A$ given the sequence of observations, and $P(B|S_n)$ the probability of hypothesis $B$. Initially, the only known information is that of the two distributions $P(n|A)$ and $P(n|B)$, $n = 1, ..., 6$.\n"
   ]
  },
  {
   "cell_type": "markdown",
   "id": "6558f8ee",
   "metadata": {
    "deletable": false,
    "editable": false,
    "nbgrader": {
     "cell_type": "markdown",
     "checksum": "6a2a89de2ab1fb1f1a28f7fcc9b4a3cd",
     "grade": false,
     "grade_id": "taskheader_5_1",
     "locked": true,
     "schema_version": 3,
     "solution": false,
     "task": false
    }
   },
   "source": [
    "## Task 5.1\n",
    "\n",
    "**[2 Point(s)]**"
   ]
  },
  {
   "cell_type": "markdown",
   "id": "8b7cf676",
   "metadata": {
    "deletable": false,
    "editable": false,
    "nbgrader": {
     "cell_type": "markdown",
     "checksum": "505fef98f194d3e10558058a993bae4e",
     "grade": false,
     "grade_id": "DiceThrowing_A_Description0",
     "locked": true,
     "schema_version": 3,
     "solution": false,
     "task": false
    }
   },
   "source": [
    "What is $P(A|S_n) + P(B|S_n)$ equal to and why?"
   ]
  },
  {
   "cell_type": "markdown",
   "id": "88d76cd5",
   "metadata": {
    "deletable": false,
    "nbgrader": {
     "cell_type": "markdown",
     "checksum": "a95a5781ea752bf8a46625c4a0b1bfd5",
     "grade": true,
     "grade_id": "DiceThrowing_A",
     "locked": false,
     "points": 2,
     "schema_version": 3,
     "solution": true,
     "task": false
    }
   },
   "source": [
    "### Answer\n",
    "\n",
    "$P(A|S_n) + P(B|S_n)$ = 1\n",
    "\n",
    "This is because of Law of total probability applied A and B representing two mutually exclusive hypotheses.\n",
    "\n",
    "$P(A|S_n)$: probability that hypothesis A, i.e, fair dice is true, with given sequence of $S_n$ observations.\n",
    "\n",
    "$P(B|S_n)$: probability that hypothesis B, i.e, unfair dice is true, with given sequence of $S_n$ observations.\n",
    "\n",
    "Since these are the only possible probabilities the two events are mutually exclusive. \n",
    "\n",
    "So, by law of total probability $P(A|S_n) + P(B|S_n)$ = 1"
   ]
  },
  {
   "cell_type": "markdown",
   "id": "be57edd0",
   "metadata": {
    "deletable": false,
    "editable": false,
    "nbgrader": {
     "cell_type": "markdown",
     "checksum": "5e54fa40da37434050ed656593cc20d6",
     "grade": false,
     "grade_id": "taskheader_5_2",
     "locked": true,
     "schema_version": 3,
     "solution": false,
     "task": false
    }
   },
   "source": [
    "## Task 5.2\n",
    "\n",
    "**[2 Point(s)]**"
   ]
  },
  {
   "cell_type": "markdown",
   "id": "a559f9ed",
   "metadata": {
    "deletable": false,
    "editable": false,
    "nbgrader": {
     "cell_type": "markdown",
     "checksum": "788271758fd9fbfc2d3b68e7d1e56c34",
     "grade": false,
     "grade_id": "DiceThrowing_B_Description0",
     "locked": true,
     "schema_version": 3,
     "solution": false,
     "task": false
    }
   },
   "source": [
    "What are the prior probabilities of the two hypotheses, namely $P(A)$ and $P(B)$, ***before*** making any observations?"
   ]
  },
  {
   "cell_type": "markdown",
   "id": "ccf66c72",
   "metadata": {
    "deletable": false,
    "nbgrader": {
     "cell_type": "markdown",
     "checksum": "b0ad1d27fe1c14fc0a6ecaa1be04be5f",
     "grade": true,
     "grade_id": "DiceThrowing_B",
     "locked": false,
     "points": 2,
     "schema_version": 3,
     "solution": true,
     "task": false
    }
   },
   "source": [
    "### Answer\n",
    "\n",
    "As discussed earliers P(A) and P(B) are probabilities of two mutually exclusive hypothesis\n",
    "\n",
    "P(A)=probability that dice is fair\n",
    "P(B)=probability that dice is unfair\n",
    "\n",
    "The prior probabilities P(A) and P(B) are chosen based on prior knowledge or assumptions, and they must sum to 1.\n",
    "\n",
    "P(A) + P(B) = 1\n",
    "\n",
    "If no information is provided, it is common to assign equal priors: P(A)=0.5 and P(B)=0.5"
   ]
  },
  {
   "cell_type": "markdown",
   "id": "0da0f702",
   "metadata": {
    "deletable": false,
    "editable": false,
    "nbgrader": {
     "cell_type": "markdown",
     "checksum": "fecc352c79418b8d0ec4de5b11f17aef",
     "grade": false,
     "grade_id": "taskheader_5_3",
     "locked": true,
     "schema_version": 3,
     "solution": false,
     "task": false
    }
   },
   "source": [
    "## Task 5.3\n",
    "\n",
    "**[3 Point(s)]**"
   ]
  },
  {
   "cell_type": "markdown",
   "id": "dbc1e4c5",
   "metadata": {
    "deletable": false,
    "editable": false,
    "nbgrader": {
     "cell_type": "markdown",
     "checksum": "81f250d5370ca277cafddde8907c7be4",
     "grade": false,
     "grade_id": "DiceThrowing_C_Description0",
     "locked": true,
     "schema_version": 3,
     "solution": false,
     "task": false
    }
   },
   "source": [
    "Calculate $P(A|S_n)$ given $P(A|S_{n-1})$."
   ]
  },
  {
   "cell_type": "markdown",
   "id": "faa09b47",
   "metadata": {
    "deletable": false,
    "nbgrader": {
     "cell_type": "markdown",
     "checksum": "498a1e0a05a65c5e0dfb33c2462e4bad",
     "grade": true,
     "grade_id": "DiceThrowing_C",
     "locked": false,
     "points": 3,
     "schema_version": 3,
     "solution": true,
     "task": false
    }
   },
   "source": [
    "### Answer\n"
   ]
  },
  {
   "cell_type": "markdown",
   "id": "4c99e9bd",
   "metadata": {
    "deletable": false,
    "editable": false,
    "nbgrader": {
     "cell_type": "markdown",
     "checksum": "bf8e54f472817043b9f1aa4633331dd2",
     "grade": false,
     "grade_id": "taskheader_5_4",
     "locked": true,
     "schema_version": 3,
     "solution": false,
     "task": false
    }
   },
   "source": [
    "## Task 5.4\n",
    "\n",
    "**[3 Point(s)]**"
   ]
  },
  {
   "cell_type": "markdown",
   "id": "c8bd53ef",
   "metadata": {
    "deletable": false,
    "editable": false,
    "nbgrader": {
     "cell_type": "markdown",
     "checksum": "1f6ff7d991498761c4357b8429c4c8bd",
     "grade": false,
     "grade_id": "DiceThrowing_D_Description0",
     "locked": true,
     "schema_version": 3,
     "solution": false,
     "task": false
    }
   },
   "source": [
    "What is $\\underset{n \\rightarrow \\infty}{\\lim}P(A|S_n)$ and $\\underset{n \\rightarrow \\infty}{\\lim}P(B|S_n)$ (i.e. to which values do we expect $P(A|S_n)$ and $P(B|S_n)$ to converge)?"
   ]
  },
  {
   "cell_type": "markdown",
   "id": "84891077",
   "metadata": {
    "deletable": false,
    "nbgrader": {
     "cell_type": "markdown",
     "checksum": "77c518eb5b4c40d8fde261012bf92d20",
     "grade": true,
     "grade_id": "DiceThrowing_D",
     "locked": false,
     "points": 3,
     "schema_version": 3,
     "solution": true,
     "task": false
    }
   },
   "source": [
    "### Answer\n",
    "\n",
    "YOUR ANSWER HERE"
   ]
  },
  {
   "cell_type": "markdown",
   "id": "8566c139",
   "metadata": {
    "deletable": false,
    "editable": false,
    "nbgrader": {
     "cell_type": "markdown",
     "checksum": "8e5604497f8cb4c38e4828de7a047514",
     "grade": false,
     "grade_id": "taskheader_5_5",
     "locked": true,
     "schema_version": 3,
     "solution": false,
     "task": false
    }
   },
   "source": [
    "## Task 5.5\n",
    "\n",
    "**[25 Point(s)]**"
   ]
  },
  {
   "cell_type": "markdown",
   "id": "10426ba7",
   "metadata": {
    "deletable": false,
    "editable": false,
    "nbgrader": {
     "cell_type": "markdown",
     "checksum": "8a5f37b574fa943da9434e88b897bfa0",
     "grade": false,
     "grade_id": "DiceThrowing_E_Description0",
     "locked": true,
     "schema_version": 3,
     "solution": false,
     "task": false
    }
   },
   "source": [
    "Fill out the function `get_hypothesis_beliefs` that accepts:\n",
    "1. a sequence of observations (given as a list of measurements, e.g. `[2, 1, 6, 3, 2]`)\n",
    "2. the probabilities of the sides of the dice under the different hypothesis  \n",
    "   (given as a dictionary, e.g. for six-sided dice  \n",
    "   `'A': [1/6, 1/6, 1/6, 1/6, 1/6, 1/6],`  \n",
    "   `'B': [2/6, 1/6, 1/6, 1/6, 1/6, 0]`, and\n",
    "3. the prior probabilities of the dice (given as a dictionary, e.g. `{'A': 4/5, 'B': 1/5}`)\n",
    "\n",
    "and returns the beliefs of the two hypotheses $A$ and $B$ after each observation."
   ]
  },
  {
   "cell_type": "code",
   "execution_count": null,
   "id": "72323778",
   "metadata": {
    "ExecuteTime": {
     "end_time": "2024-04-22T08:25:31.162533Z",
     "start_time": "2024-04-22T08:25:30.578894Z"
    },
    "deletable": false,
    "nbgrader": {
     "cell_type": "code",
     "checksum": "2c7f40c6598d183f433f5ba1945b3cf2",
     "grade": false,
     "grade_id": "DiceThrowing_E",
     "locked": false,
     "schema_version": 3,
     "solution": true,
     "task": false
    }
   },
   "outputs": [],
   "source": [
    "from typing import Sequence, Dict\n",
    "\n",
    "import numpy as np\n",
    "import matplotlib.pyplot as plt\n",
    "\n",
    "def get_hypothesis_beliefs(observations: Sequence[int],\n",
    "                           die_probabilities: Dict[str, Sequence[float]],\n",
    "                           prior_probabilities: Dict[str, Sequence[float]]) -> Dict[str, np.ndarray]:\n",
    "    hypothesis_beliefs = {'A': [], 'B': []}\n",
    "\n",
    "# YOUR CODE HERE\n",
    "raise NotImplementedError()\n",
    "\n",
    "    return hypothesis_beliefs    "
   ]
  },
  {
   "cell_type": "code",
   "execution_count": null,
   "id": "879d3584",
   "metadata": {
    "ExecuteTime": {
     "end_time": "2024-04-22T08:25:31.183263Z",
     "start_time": "2024-04-22T08:25:31.167249Z"
    },
    "deletable": false,
    "editable": false,
    "nbgrader": {
     "cell_type": "code",
     "checksum": "a2676d8bc6c9bdda5dd15d9431d76e7b",
     "grade": true,
     "grade_id": "test_DiceThrowing_E0",
     "locked": true,
     "points": 25,
     "schema_version": 3,
     "solution": false,
     "task": false
    }
   },
   "outputs": [],
   "source": [
    "# This cell contains tests for your solution\n"
   ]
  },
  {
   "cell_type": "markdown",
   "id": "5fda2a89",
   "metadata": {
    "deletable": false,
    "editable": false,
    "nbgrader": {
     "cell_type": "markdown",
     "checksum": "71e72ce9d6de9e0f47604294791043c5",
     "grade": false,
     "grade_id": "taskheader_5_6",
     "locked": true,
     "schema_version": 3,
     "solution": false,
     "task": false
    }
   },
   "source": [
    "## Task 5.6\n",
    "\n",
    "**[5 Point(s)]**"
   ]
  },
  {
   "cell_type": "markdown",
   "id": "05c2335e",
   "metadata": {},
   "source": [
    "Please run the cell below to test your implementation. You should obtain the following plot if your implementation is correct:\n",
    "\n",
    "Note: The test probability values are considered as,\n",
    "\n",
    "observations = np.array( [4, 1, 1, 4, 2, 2, 4, 5, 4, 1, 1, 1, 2, 5, 5,\n",
    "                         3, 1, 1, 5, 5, 1, 5, 4, 3, 4, 1, 1, 4, 1, 3] )\n",
    "                         \n",
    "die_probabilities = { 'A': [1./6., 1./6., 1./6., 1./6., 1./6., 1./6.],\n",
    "                      'B': [2./6., 1./6., 1./6., 1./6., 1./6., 0.] }\n",
    "                     \n",
    "prior_probabilities = { 'A': 0.5, 'B': 0.5 }\n",
    "\n",
    "![Hypothesis beliefs](Assignment_01_Bayesian_Probability_files/img/hypothesis_beliefs.png)"
   ]
  },
  {
   "cell_type": "code",
   "execution_count": null,
   "id": "564375fb",
   "metadata": {
    "ExecuteTime": {
     "end_time": "2024-04-22T08:25:31.867780Z",
     "start_time": "2024-04-22T08:25:31.186087Z"
    },
    "deletable": false,
    "editable": false,
    "nbgrader": {
     "cell_type": "code",
     "checksum": "64d4eadb1e0ad6984aa17fc7a1d8e545",
     "grade": false,
     "grade_id": "DiceThrowing_F_Description0",
     "locked": true,
     "schema_version": 3,
     "solution": false,
     "task": false
    }
   },
   "outputs": [],
   "source": [
    "observations = np.array([4, 1, 1, 4, 2, 2, 4, 5, 4, 1, 1, 1, 2, 5, 5,\n",
    "                         3, 1, 1, 5, 5, 1, 5, 4, 3, 4, 1, 1, 4, 1, 3])\n",
    "die_probabilities = {'A': [1./6., 1./6., 1./6., 1./6., 1./6., 1./6.],\n",
    "                     'B': [2./6., 1./6., 1./6., 1./6., 1./6., 0.]}\n",
    "prior_probabilities = {'A': 0.5, 'B': 0.5}\n",
    "hypothesis_beliefs = get_hypothesis_beliefs(observations, die_probabilities, prior_probabilities)\n",
    "\n",
    "plt.plot(hypothesis_beliefs['A'], 'b', label='A')\n",
    "plt.plot(hypothesis_beliefs['B'], 'g', label='B')\n",
    "plt.ylim([0, 1.05])\n",
    "plt.xlabel('Observation')\n",
    "plt.ylabel('Belief')\n",
    "plt.grid()\n",
    "plt.legend()\n",
    "plt.show()"
   ]
  },
  {
   "cell_type": "markdown",
   "id": "e09dc677",
   "metadata": {
    "deletable": false,
    "editable": false,
    "nbgrader": {
     "cell_type": "markdown",
     "checksum": "472f5c0ec6f1e3d827c4c07895aa5c80",
     "grade": false,
     "grade_id": "DiceThrowing_F_Description1",
     "locked": true,
     "schema_version": 3,
     "solution": false,
     "task": false
    }
   },
   "source": [
    "Assume that we observed **6**! What is the should be the new beliefs of the two hypotheses 𝐴 and 𝐵 based on this new observation.   \n",
    "Your Task:\n",
    "1. Use the following cell to calculte the new beliefs.\n",
    "2. Explain why we got that results and what this tells us about the relation between Bayesian reasoning and Boolean logic?"
   ]
  },
  {
   "cell_type": "code",
   "execution_count": null,
   "id": "b4da5a04",
   "metadata": {
    "ExecuteTime": {
     "end_time": "2024-04-22T08:25:32.039281Z",
     "start_time": "2024-04-22T08:25:31.870818Z"
    },
    "deletable": false,
    "nbgrader": {
     "cell_type": "code",
     "checksum": "c741f54c7db831f77f8294d9cb416dc9",
     "grade": false,
     "grade_id": "DiceThrowing_F",
     "locked": false,
     "schema_version": 3,
     "solution": true,
     "task": false
    }
   },
   "outputs": [],
   "source": [
    "new_observations = np.array([4, 1, 1, 4, 2, 2, 4, 5, 4, 1, 1, 6, 2, 5, 5,\n",
    "                         3, 1, 1, 5, 5, 1, 5, 4, 3, 4, 1, 1, 4, 1, 3, 1])\n",
    "\n",
    "hypothesis_beliefs = ...\n",
    "\n",
    "# YOUR CODE HERE\n",
    "raise NotImplementedError()\n",
    "\n",
    "plt.plot(hypothesis_beliefs['A'], 'b', label='A')\n",
    "plt.plot(hypothesis_beliefs['B'], 'g', label='B')\n",
    "plt.ylim([0, 1.05])\n",
    "plt.xlabel('Observation')\n",
    "plt.ylabel('Belief')\n",
    "plt.grid()\n",
    "plt.legend()\n",
    "plt.show()"
   ]
  },
  {
   "cell_type": "code",
   "execution_count": null,
   "id": "7294e57c",
   "metadata": {
    "ExecuteTime": {
     "end_time": "2024-04-22T08:25:32.101365Z",
     "start_time": "2024-04-22T08:25:32.042250Z"
    },
    "deletable": false,
    "editable": false,
    "nbgrader": {
     "cell_type": "code",
     "checksum": "3f9d81b9e0b64b3aff62b2a5820d26d0",
     "grade": true,
     "grade_id": "test_DiceThrowing_F0",
     "locked": true,
     "points": 5,
     "schema_version": 3,
     "solution": false,
     "task": false
    }
   },
   "outputs": [],
   "source": [
    "# This cell contains tests for your solution\n"
   ]
  }
 ],
 "metadata": {
  "kernelspec": {
   "display_name": "Python 3 (ipykernel)",
   "language": "python",
   "name": "python3"
  },
  "language_info": {
   "codemirror_mode": {
    "name": "ipython",
    "version": 3
   },
   "file_extension": ".py",
   "mimetype": "text/x-python",
   "name": "python",
   "nbconvert_exporter": "python",
   "pygments_lexer": "ipython3",
   "version": "3.10.12"
  }
 },
 "nbformat": 4,
 "nbformat_minor": 5
}
