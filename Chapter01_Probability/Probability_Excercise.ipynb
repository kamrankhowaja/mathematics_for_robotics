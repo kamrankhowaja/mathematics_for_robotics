{
 "cells": [
  {
   "cell_type": "markdown",
   "id": "e8c6fc9e-a31b-46a6-9959-2caea4451d10",
   "metadata": {},
   "source": [
    "#### These Excersice helps you to revise probability concepts again but practically "
   ]
  },
  {
   "cell_type": "markdown",
   "id": "e9d056cb-5ad1-43b9-9c16-4b307734bff4",
   "metadata": {},
   "source": [
    "### Question 1\n",
    "\n",
    "This Winter, 5% of all Germans will catch a cough, 1% will catch influenza. 20% of all people having the flu will also show a cough as a symptom.\n",
    "\n",
    "Now , you go to a doctor coughing, how likly is it you have got the flu?"
   ]
  },
  {
   "cell_type": "code",
   "execution_count": null,
   "id": "69250f43-331a-4e45-8437-aaa4f5ff7eaf",
   "metadata": {},
   "outputs": [],
   "source": [
    "#solution \n",
    "\n",
    "#given data \n",
    "P_cough = 5/100\n",
    "P_flu = 1/100\n",
    "P_cough_flu = 20/100\n",
    "P_flu_cough = 'Unknown'\n",
    "\n",
    "#Bayes Theorem \n",
    "P_flu_cough = (P_cough_flu * P_flu) / P_cough\n",
    "print(\"Probability of getting a flu given that you are coughing is {}\".format(P_flu_cough))"
   ]
  },
  {
   "cell_type": "markdown",
   "id": "96171547-5ad3-4951-972a-392c630dd586",
   "metadata": {},
   "source": [
    "### Question 2\n",
    "\n",
    "In a chess tournament, 50% of the players are of type 1; 25% are of type 2; and 25% are of type 3. The probability that I can win\n",
    "against an opponent of type 1 is 50%, against one of type 2 is 30% and against one of type 3 is 10%.\n",
    "\n",
    "Given that I win, what is the probability that I played against an opponent of type 1?"
   ]
  },
  {
   "cell_type": "code",
   "execution_count": null,
   "id": "c07b3b4a-eba4-4465-914c-6337514d977b",
   "metadata": {},
   "outputs": [],
   "source": [
    "#solution\n",
    "\n",
    "#given Data\n",
    "P_types = [50/100, 25/100, 25/100]\n",
    "P_win_types = [50/100, 30/100, 10/100]\n",
    "\n",
    "P_win_type1 = P_win_types[0]\n",
    "P_type1 = P_types[0]\n",
    "P_win = (P_types[0]*P_win_types[0]) + (P_types[1]*P_win_types[1]) + (P_types[2]*P_win_types[2]) \n",
    "P_type1_win = (P_win_type1 * P_type1) / P_win\n",
    "\n",
    "print(\"Probability that i played against type1 and i won is {}\".format(P_type1_win))"
   ]
  },
  {
   "cell_type": "markdown",
   "id": "a6feb5dd-697d-4ba2-9a0b-0bf287166677",
   "metadata": {},
   "source": [
    "### Question 3\n",
    "\n",
    "Show that the definition of conditional probability $P_B(A)$ obeys Kolmogorov’s first,second and third axioms (thus, it is a probability measure itself restricted to B)."
   ]
  },
  {
   "cell_type": "markdown",
   "id": "da0de168-be44-47b0-b6b7-bac4e3af8d28",
   "metadata": {},
   "source": [
    "We know from Conditional Probability, we found:\n",
    "\n",
    "$P_B(A) = \\frac{P_A(B) P(A)}{P(B)} $\n",
    "\n",
    "- According to First law, $0 \\leq P(A) \\leq 1$, Here $P_B(A) \\geq 0$ , (Proved)\n",
    "- Total probability of sample space is 1. $P(\\ohm) = 1 ,$\n",
    "\n",
    "  $P_B(\\ohm) = \\frac {P_{\\ohm}(B) P(P{\\ohm})}{P_B} = \\frac{P(\\ohm \\cap B)}{P_B} = \\frac{P_B}{P_B} = 1$ , (Proved)\n",
    "  \n",
    "- if $A \\cap B = \\phi$ then, $P(A \\cup B) = P(A) + P(B)$\n",
    "\n",
    "  imagine $P_B(A_1 \\cap A_2) = \\frac{P((A_1 \\cup A_2) \\cap B)}{P_B} = \\frac{P((A_1 \\cap B) \\cup (A_2 \\cap B))}{P_B}$\n",
    "\n",
    "  As given that $P(A \\cup B) = P(A) + P(B)$ , we conclude,\n",
    "\n",
    "  $\\frac{P((A_1 \\cap B) + (A_2 \\cap B))}{P_B} = \\frac{P(A_1 \\cap B)}{P_B} + \\frac{P(A_2 \\cap B)}{P_B} $ (Hence Proved)"
   ]
  },
  {
   "cell_type": "markdown",
   "id": "9703517e-4ce4-40a4-8762-b02a56135be7",
   "metadata": {},
   "source": [
    "### Question 4\n",
    "\n",
    "The hypothesis $H: R→B$ is confirmed by any instance $R$ with probability $B$. The hypothesis $H’:¬B →¬R$ is confirmed by any $(¬B)$ instance with property $(¬R)$.\n",
    "\n",
    "Since $R→B$ and $(¬B)→(¬R)$ are logically equivalent, $R→B$ is also confirmed by any (¬B) instance with property (¬R).\n",
    "Example Hypothesis $H$: All ravens are black (R=Raven,B=Black)\n",
    "Observing a black raven confirms hypothesis $(H)$. Observing a white sock also confirms that all ravens are black, since a white sock is a non-raven which is non-black.\n",
    "\n",
    "This conclusion is absurd. Present a Bayesian solution."
   ]
  },
  {
   "cell_type": "markdown",
   "id": "9732dfdf-4fcc-41f6-b861-7b03fb87372c",
   "metadata": {},
   "source": [
    "The Bayesian Solution could be given as \n",
    "\n",
    "Let:\n",
    "- $H$ be the hypothesis: \"All ravens are black\" (i.e.,$H: R→B$)\n",
    "- $E_1$ be the evidence of observing a black raven.\n",
    "- $E_2$ be the evidence of observing a non-black raven. (ex, White Sock)\n",
    "- $P(H)$ is the probability of Hypothesis $H$\n",
    "\n",
    "\n",
    "This solution is known as **Hempel’s Paradox (or the Raven Paradox)**\n",
    "\n",
    "$P(H|E_1) =  \\frac{P(H|E_1)}{P(E_1)} , P(H|E_2) =  \\frac{P(H|E_2)}{P(E_2)}$\n",
    "\n",
    "**Conclusions**:\n",
    " - Observing a black raven significantly increases confidence in $H$\n",
    " - Observing a white sock does not meaningfully affect our belief in $H$ because it was already likely that we would observe non-black non-ravens.\n",
    " - The paradox arises because the class of non-black non-ravens is enormous, meaning that any particular instance (like a white sock) contributes almost no useful information."
   ]
  },
  {
   "cell_type": "markdown",
   "id": "48690006-ef97-4c23-8306-fee7fdd3d32b",
   "metadata": {},
   "source": [
    "### Question 5\n",
    "\n",
    "A RoboCup field is 8m by 12 m. Assume that two robots, $r_1$ and $r_2$ are located in the fields at points $ ( x_1 , y_1 ) $ and $ ( x_2 , y_2 ) $ and that $ x_1 , x_2 , y_1 y_2 $ are uniformly distributed between $[0,8]$ and $[0,12]$ respectively. what is the expected Distance?"
   ]
  },
  {
   "cell_type": "code",
   "execution_count": null,
   "id": "c1876695-bf6d-492d-a932-ae9109ba5aa7",
   "metadata": {},
   "outputs": [],
   "source": [
    "#solution \n",
    "from random import uniform\n",
    "import random\n",
    "import math\n",
    "import statistics\n",
    "\n",
    "values_x1_y1 = []\n",
    "values_x2_y2 = []\n",
    "\n",
    "Distances = []\n",
    "\n",
    "for values in range(10):\n",
    "    x1 = uniform(0, 8)\n",
    "    y1 = uniform(0, 12)\n",
    "    x2 = uniform(0, 8)\n",
    "    y2 = uniform(0, 12)\n",
    "\n",
    "    values_x1_y1.append((x1,y1))\n",
    "    values_x2_y2.append((x2,y2))\n",
    "\n",
    "    distance = math.sqrt((x2 - x1)**2+(y2 - y1)**2)\n",
    "    Distances.append(distance)\n",
    "\n",
    "expected_distance = statistics.mean(Distances)\n",
    "print(\"The Expected Value is {}\".format(expected_distance))"
   ]
  },
  {
   "cell_type": "markdown",
   "id": "e6c2bdef-8f55-4a51-b888-2894e4f679f8",
   "metadata": {},
   "source": [
    "### Question 6\n",
    "\n",
    "I offer you two closed enveloped, one of them contains twice the amount of money that the other. You are allowed to pick one and open it. Now you have two options. Keep the money or decide for the other envelope (which could double or half your gain).\n",
    "\n",
    "Symmetry argument: It doesn’t matter whether you switch, the expected gain is the same.\n",
    "Refutation: With probability p=1/2, the other envelope contains twice/half the amount; i.e. If you switch, your expected gain increases by a factor of 1.25. \n",
    "\n",
    "Present a Bayesian Solution"
   ]
  },
  {
   "cell_type": "markdown",
   "id": "4c31d8a5-72fe-4549-95d4-ff489d3909d9",
   "metadata": {},
   "source": [
    "let the amount is envelope is $2X$ and $\\frac{1}{2}X$\n",
    "\n",
    "let see the Conditional Probabilities \n",
    "\n",
    "$P(amount = 2X, status= keepit)$ , $P(amount = 2X, status= dontkeepit)$ , $P(amount = \\frac{1}{2}X, status= keepit)$ , $P(amount = \\frac{1}{2}X, status= dontkeepit)$"
   ]
  },
  {
   "cell_type": "markdown",
   "id": "4e6ac762-d141-4425-b852-2411de33a84c",
   "metadata": {},
   "source": [
    "### Question 7\n",
    "\n",
    "if $y_i = ax_i + b $ , prove that $E[y] = E[x] + b $ , let $\\mu = mean value  = E(X)$"
   ]
  },
  {
   "cell_type": "markdown",
   "id": "f63b011b-e486-45ea-bcb9-dd63a2bc2949",
   "metadata": {},
   "source": [
    "**Solution:** \n",
    "\n",
    "For $i = 1$ , we have $y = ax + b$\n",
    "\n",
    "Finding Expected Value:\n",
    "\n",
    "$E[y] = E[ax] + E[b]$ , here expected value of constant is  $E[b] = b$ and $E[ax] = aE[x]$\n",
    "\n",
    "$E[y] = aE[x] + b$ or,\n",
    "\n",
    "$E[ax + b] = aE[x] + b$\n",
    "\n",
    "\n"
   ]
  },
  {
   "cell_type": "markdown",
   "id": "172fd73b-c63f-458e-b502-61964c9c5674",
   "metadata": {},
   "source": [
    "### Question 8\n",
    "\n",
    "Prove that $E((X - \\mu)^2) = E(X^2) - (\\mu)^2$"
   ]
  },
  {
   "cell_type": "markdown",
   "id": "f0c470e4-f2f4-4da9-91b8-d059dd983ad5",
   "metadata": {},
   "source": [
    "**Solution**\n",
    "\n",
    "we know that , $ \\mu = E[X]$\n",
    "\n",
    "Taking RHS: \n",
    "\n",
    "$ E((X - \\mu)^2) = E(X^2 -2X\\mu + \\mu^2) $\n",
    "\n",
    "$ E(X^2) - 2E[X]\\mu + \\mu^2$ , here, we know $ \\mu = E[X]$\n",
    "\n",
    "$ E(X^2) - 2\\mu\\mu + \\mu^2 = E(X^2) - 2\\mu^2 + \\mu^2 = E(X^2) - \\mu^2 $ , Hence Proved "
   ]
  },
  {
   "cell_type": "markdown",
   "id": "35780c0e-d520-4ab0-997a-dcfe482a6d23",
   "metadata": {},
   "source": [
    "### Question 9"
   ]
  },
  {
   "cell_type": "code",
   "execution_count": 3,
   "id": "f86f4462-b94b-4443-adde-12ce34d9d624",
   "metadata": {},
   "outputs": [
    {
     "data": {
      "image/png": "[encoded data removed]",
      "text/plain": [
       "<Figure size 432x288 with 1 Axes>"
      ]
     },
     "metadata": {
      "needs_background": "light"
     },
     "output_type": "display_data"
    }
   ],
   "source": [
    "from PIL import Image\n",
    "import matplotlib.pyplot as plt\n",
    "\n",
    "# Load the PNG image\n",
    "image_path = \"img/circuit.png\"  # Replace with your image path\n",
    "img = Image.open(image_path)\n",
    "\n",
    "# Display the image\n",
    "plt.imshow(img)\n",
    "plt.axis(\"off\")  # Hide axes\n",
    "plt.show()\n"
   ]
  },
  {
   "cell_type": "markdown",
   "id": "9f69dae5-0497-4f43-8d23-c1f8199ffece",
   "metadata": {},
   "source": [
    "- How likely is it that you read a voltage at $E$ Siwtch i closed with a likelyhood of $p$?\n",
    "- Given there is voltage at $E$ , how likely is it that switch 3 is closed?"
   ]
  },
  {
   "cell_type": "markdown",
   "id": "5ce280fa-da5b-425d-876f-17ae6de91375",
   "metadata": {},
   "source": [
    "**Solution:**\n",
    "\n",
    "Assuming the Switch Probability are $P_{S1},P_{S2},P_{S3}$ and switches are in parallel  \n",
    "\n",
    "After seeing the diagram we can see that all switches are independent, so given that you have voltage $E$ at output . the probability is,\n",
    "\n",
    "$P(E|Closed = S_1 , S_2 , S_3) =  P(E|Closed = S_1) (E|Closed = S_1) (E|Closed = S_1) = p.p.p = p^3$\n",
    "\n",
    "The probability of Getting no voltage can be calculated using total probability formula \n",
    "\n",
    "$P(E=off|Open = S_1 , S_2 , S_3) = (1 - p)^3$\n",
    "\n",
    "The probability that at least one switch is closed (meaning voltage $E$ is present) is\n",
    "\n",
    "$P(E) = 1 - (1 - p)^3$\n",
    "\n",
    "**part b**\n",
    "\n",
    "Compute $(P(E)|Switch = S_3)$ , can be calculated assuming switch 1 and 2 are ope, the probability that they both are open is:\n",
    "\n",
    "$P(S_1 S_2 = open) = (1-p)(1-p) = (1-p)^2$\n",
    "\n",
    "so probability that There is Voltage $E$  at Switch 3 is only Closed is\n",
    "\n",
    "$(P(E)|Switch = S_3) = 1 - (1-p)^2 $\n",
    "\n",
    "$P(Switch = S_3|E) = \\frac{(P(E)|Switch = S_3) . P(S_3)}{P(E)} = \\frac{(1 - (1-p)^2)(p)}{(1 - (1 - p)^3)}$"
   ]
  },
  {
   "cell_type": "markdown",
   "id": "21c62872-9de7-4bdd-a6d5-b28f9dd7351a",
   "metadata": {},
   "source": [
    "### Question 10\n",
    "\n",
    "After your yearly check-up, the doctor has good news and bad news:\n",
    "\n",
    "You tested positive for a serious disease and the test is 99% accurate (both sided; i.e. missing to predict, if you are sick and predicting your are sick, if, in fact, you are not)\n",
    "\n",
    "The good news is: the disease is rare, striking only 1 in 10,000.\n",
    "\n",
    "- Why is it good news that the disease is so rare?\n",
    "- What are the chances that you actually have the disease?"
   ]
  },
  {
   "cell_type": "markdown",
   "id": "4d03323e-d389-47a3-9a1b-200899022b81",
   "metadata": {},
   "source": [
    "**Solution:**\n",
    "\n",
    "This is a good news for you, beacuse the diseaase is rare, which mena there could be a chance a false measurement can say you have a disease, which means the scenario could be False positive, if you have positive, that doesnt mean you have the disease\n"
   ]
  },
  {
   "cell_type": "code",
   "execution_count": 10,
   "id": "94360daa-e4ac-4c89-98f0-54f34fa473f0",
   "metadata": {},
   "outputs": [
    {
     "name": "stdout",
     "output_type": "stream",
     "text": [
      "The Probability that you have a disease given that you tested positive is 0.00980392156862745\n"
     ]
    }
   ],
   "source": [
    "#Coding Solution \n",
    "\n",
    "P_positive_disease = 99/100\n",
    "P_negative_disease = 1/100\n",
    "P_positive_notdisease = 1/100\n",
    "P_negative_disease = 99/100\n",
    "P_disease = 1/10000\n",
    "P_notdisease = 1 - P_disease\n",
    "P_positive = (P_positive_disease*P_disease) + (P_positive_notdisease*P_notdisease)\n",
    "\n",
    "P_disease_positive = (P_positive_disease * P_disease) / P_positive\n",
    "\n",
    "print(\"The Probability that you have a disease given that you tested positive is {}\".format(P_disease_positive))"
   ]
  },
  {
   "cell_type": "markdown",
   "id": "792817fb-a3f9-41b3-89d8-10b7f6353009",
   "metadata": {},
   "source": [
    "### Question 11\n",
    "\n",
    "Let random variable $X$ be defined on $-1,0,-1$ taking all probabilities $\\frac{1}{3}$, let $Y= X^2$.\n",
    "\n",
    "Show that $E[XY] = E[Y]E[X]$, But $X$ and $Y$ are **NOT independent** "
   ]
  },
  {
   "cell_type": "code",
   "execution_count": 14,
   "id": "1de52ce9-35c6-41e4-a8d8-746af34159a3",
   "metadata": {},
   "outputs": [
    {
     "name": "stdout",
     "output_type": "stream",
     "text": [
      "Expected Value E[X] = 0.0\n",
      "Expected Value E[Y] = 1.0\n",
      "Expected Value E[XY] = 0.0\n",
      "Hence Proved! E[X]E[Y] = E[XY]\n"
     ]
    }
   ],
   "source": [
    "# finding the Expected value for E[X]\n",
    "P_x1 = P_x2 = P_x3 = 1/3\n",
    "x1,x2,x3 = -1,0,1\n",
    "E_X = (x1*P_x1) + (x2*P_x2) +(x3*P_x3)\n",
    "print(\"Expected Value E[X] = {}\".format(E_X))\n",
    "\n",
    "#to find Y we need to use Y=X^2\n",
    "y1, y2 ,y3 = x1**2 , x1**2 , x3**2\n",
    "P_y1 = P_y2 = P_y3 = 1/3\n",
    "E_Y = (y1*P_y1) + (y2*P_y2) +(y3*P_y3)\n",
    "print(\"Expected Value E[Y] = {}\".format(E_Y))\n",
    "\n",
    "#to find XY,\n",
    "xy1, xy2 ,xy3 = x1*y1 , x2*y2 , x3*y3\n",
    "# as they are not independent their probability is P(X,Y) = P(X)\n",
    "P_xy1 = P_xy2 = P_xy3 = 1/3\n",
    "E_XY = (xy1*P_xy1) + (xy2*P_xy2) +(xy3*P_xy3)\n",
    "print(\"Expected Value E[XY] = {}\".format(E_XY))\n",
    "print(\"Hence Proved! E[X]E[Y] = E[XY]\")"
   ]
  },
  {
   "cell_type": "markdown",
   "id": "368c03ff-978d-4e6a-8878-cc861f9f9db8",
   "metadata": {},
   "source": [
    "### Question 12\n",
    "\n",
    "Determine the variances of coin and compass\n",
    "\n",
    "$\\sigma coin = ?$ , $\\sigma compass = ?$ "
   ]
  },
  {
   "cell_type": "markdown",
   "id": "383a7384-0833-4621-830f-a4e158941762",
   "metadata": {},
   "source": [
    "**Solution:**\n",
    "\n",
    "$\\sigma^2 = E[X^2] - (E[X])^2$\n",
    "\n",
    "**For Coin:** Assume P(Head) = P(Tail) = $\\frac{1}{2}$, and Head = 1 , Tail = 0\n",
    "\n",
    "Calculating Expected Value...\n",
    "\n",
    "$E[X] = (0)(\\frac{1}{2}) +(1)(\\frac{1}{2})= \\frac{1}{2}$\n",
    "\n",
    "$E[X^2] = (0^2)(\\frac{1}{2}) +(1^2)(\\frac{1}{2})= \\frac{1}{2}$\n",
    "\n",
    "Calculating Variance ...\n",
    "\n",
    "$\\sigma^2 = E[X^2] - (E[X])^2 = \\frac{1}{2} - (\\frac{1}{2})^2 = \\frac{1}{4}$"
   ]
  },
  {
   "cell_type": "markdown",
   "id": "f50fd044-7048-473d-8129-cce00205176b",
   "metadata": {},
   "source": [
    "**For Compass:** Assume P(North) = P(South) = P(East) = P(West) = $\\frac{1}{4}$, and North = 1 , south = 0 , east = 4 , west = -4\n",
    "\n",
    "Calculating Expected Value...\n",
    "\n",
    "$E[X] = (1)(\\frac{1}{4}) +(0)(\\frac{1}{4}) +(-4)(\\frac{1}{4}) +(4)(\\frac{1}{4}) = \\frac{1}{4}$\n",
    "\n",
    "$E[X^2] = (1^2)(\\frac{1}{4}) +(0^2)(\\frac{1}{4}) +(-4^2)(\\frac{1}{4}) +(4^2)(\\frac{1}{4}) = \\frac{1}{4}$\n",
    "\n",
    "Calculating Variance ...\n",
    "\n",
    "$\\sigma^2 = E[X^2] - (E[X])^2 = \\frac{1}{4} - (\\frac{1}{4})^2 = \\frac{3}{16}$"
   ]
  }
 ],
 "metadata": {
  "kernelspec": {
   "display_name": "Python 3 (ipykernel)",
   "language": "python",
   "name": "python3"
  },
  "language_info": {
   "codemirror_mode": {
    "name": "ipython",
    "version": 3
   },
   "file_extension": ".py",
   "mimetype": "text/x-python",
   "name": "python",
   "nbconvert_exporter": "python",
   "pygments_lexer": "ipython3",
   "version": "3.10.12"
  }
 },
 "nbformat": 4,
 "nbformat_minor": 5
}
