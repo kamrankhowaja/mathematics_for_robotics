{
 "cells": [
  {
   "cell_type": "markdown",
   "id": "cf320642-e931-451e-93f8-f11a4d75487e",
   "metadata": {},
   "source": [
    "# Mathematics For Robotics - Chapter 01 - Probability\n",
    "\n",
    "### These notes are designed by Kamran Ali, Student , Msc Autonomous System (H-BRS)"
   ]
  },
  {
   "cell_type": "markdown",
   "id": "f1cb5795-4275-423d-bda2-e697df78ec34",
   "metadata": {},
   "source": [
    "**Probability** is a way to measure how likely something is to happen. It is a number between 0 and 1, where:\n",
    "\n",
    "- **O** means, the event will never happen\n",
    "- **1** means, the event will surely happen\n",
    "- $( 0 \\leq X \\leq 1 )$ (where  $X$ is the probability of an event)."
   ]
  },
  {
   "cell_type": "markdown",
   "id": "f68448e3-23b3-4845-8b4e-497ad74f5dca",
   "metadata": {},
   "source": [
    "Probabilistic Techniques in Robotics\n",
    "\n",
    "- **Kalman Filter**  \n",
    "  **Usage**: Imagine two sensors measure the same quantity at the same time but with different precision.  \n",
    "  The Kalman Filter provides the optimal combination of both measurements.\n",
    "\n",
    "- **Hidden Markov Model (HMM)**  \n",
    "  **Usage**: Used for probabilistic reasoning over time sequences, such as speech recognition or localization.\n",
    "\n",
    "- **Bayesian Network**  \n",
    "  **Usage**: Considered an advanced conditional probability model. It helps in decision-making under uncertainty.\n",
    "\n",
    "- **Particle Filter**  \n",
    "  **Usage**: Used for robot localization and tracking in dynamic environments by representing probability distributions  \n",
    "  using a set of weighted samples (particles).\n"
   ]
  },
  {
   "cell_type": "markdown",
   "id": "5347119d-cd14-4090-ae9b-bf689964c8d9",
   "metadata": {},
   "source": [
    "#### Important terminologies :\n",
    "\n",
    "- Event (sample space) : A set of outcomes of an expereiments\n",
    "- Elementary Events (Atomic Events) : Single outcome driven from a sample space (sample points)\n",
    "- Sure Events : An Event that is guranteed to happen , its given as $\\ohm = U_{i} E_{i}$\n",
    "- Empty Set : An Impossible Event (i.e $A \\cap B = \\phi$)\n",
    "\n",
    "**Independent and Dependent Events** : The Event A and B are said to be indepedent, if the occurence of Event A does not effect the occurence of event B. it is given by \n",
    "\n",
    "$P(A \\cap B) = P(A).P(B)$\n",
    "\n",
    "**Dependent Events** :The Event A and B are said to be depedent, if the occurence of Event A has an effect to the occurence of event B.\n",
    "\n",
    "$P(A \\cap B) = P(A|B). P(B) = P(B|A). P(A) $ "
   ]
  },
  {
   "cell_type": "markdown",
   "id": "c035a308-ce1c-4a52-a723-a35039d9e9f1",
   "metadata": {},
   "source": [
    "## Law of Probability:\n",
    "\n",
    "\"The Total probability of an event is equal to the sum of the probabilities of its parts\"\n",
    "\n",
    "Formula : $P(A) = \\sum_i^n P(A|H_i). P(H_i)$ , Where $H_i$ is the event in seqence form $i = \\{1,.....,n\\}$ "
   ]
  },
  {
   "cell_type": "markdown",
   "id": "f53a57bf-8b42-4662-b0e1-6a2319b448d6",
   "metadata": {},
   "source": [
    "## Three Axioms of Kolmogorov’s: \n",
    "\n",
    "- $0 \\leq P(E_{i}) \\leq 1$ , Where $E_{i}$ is any elementary event\n",
    "- $P(\\ohm) = 1$\n",
    "- if $A \\cap B = \\phi$ then, $P(A \\cup B) = P(A) + P(B)$"
   ]
  },
  {
   "cell_type": "markdown",
   "id": "7c5dc44c-6c98-4d83-9f66-0709eb699915",
   "metadata": {},
   "source": [
    "## Conditional Probability:\n",
    "\n",
    "Measuring of the probability of an event occuring, given that another event is already known to have occured. it is given as \n",
    "\n",
    "$P(A|B) = \\frac{P(A \\cap B)}{P(B)} $\n",
    "\n",
    "**Conditional Independence : A and B are independent ,  $P(A|B) = P(A)$ , B provides nothing about A\n",
    "\n",
    "** Mutually Exclusive : $A \\cap B = 0$"
   ]
  },
  {
   "cell_type": "markdown",
   "id": "db1475e3-6e5f-474a-b133-2fd078ef6ace",
   "metadata": {},
   "source": [
    "## Small Introduction to Bayes Theorem\n",
    "\n",
    "**Bayes Theorem is a mathematical rule for inverting Conditional Probability (Reverse Conditional Probability), it is finding of a cause given its effect**\n",
    "\n",
    "Mathematical Formula $P(A|B) = \\frac{P(B|A)P(B)}{P(A)}$\n",
    "\n",
    "##### Fault Diagnosis: \n",
    "$P(Cause|Effect) = \\frac{P(Effect|Cause).P(Cause)}{P(Effect)}$\n",
    "\n",
    "##### Pattern Recognition: \n",
    "$P(Class|Feature) = \\frac{P(Feature|Class).P(Class)}{P(Feature)}$"
   ]
  },
  {
   "cell_type": "markdown",
   "id": "21fea7ae-b7e2-493d-b795-7e6cc6811d20",
   "metadata": {},
   "source": [
    "### Markov Property \n",
    "Conditional Probability of future states depends only on the present state, not on the sequence of events"
   ]
  },
  {
   "cell_type": "code",
   "execution_count": null,
   "id": "729aa6ee-5056-4e92-9575-b16df352b528",
   "metadata": {},
   "outputs": [],
   "source": [
    "## Bayes : Simple Example \n",
    "## S = Event of stiff neck , M = Patient has meningitis \n",
    "## Doctors Prior Knowledge\n",
    "# Meningetis Causes Stiffneck in 50% cases, Probibility to have meningitis is 1 in 50000, probability to have a stiff neck is 1 in 20 \n",
    "\n",
    "# Solution \n",
    "\n",
    "#given data \n",
    "P_Meningitis = (1/50000)\n",
    "P_Stiffneck = (1/20)\n",
    "P_Stiffneck_Meningetis = (50/100)\n",
    "P_Meningetis_Stiffneck = \"Unknown\"\n",
    "\n",
    "#Using Bayes Theorem\n",
    "\n",
    "P_Meningetis_Stiffneck = (P_Stiffneck_Meningetis * P_Meningitis) / P_Stiffneck\n",
    "\n",
    "print(\"The Probability of having Meningetis given that stiff neck is {}\".format(P_Meningetis_Stiffneck))\n",
    "\n"
   ]
  }
 ],
 "metadata": {
  "kernelspec": {
   "display_name": "Python 3 (ipykernel)",
   "language": "python",
   "name": "python3"
  },
  "language_info": {
   "codemirror_mode": {
    "name": "ipython",
    "version": 3
   },
   "file_extension": ".py",
   "mimetype": "text/x-python",
   "name": "python",
   "nbconvert_exporter": "python",
   "pygments_lexer": "ipython3",
   "version": "3.10.12"
  }
 },
 "nbformat": 4,
 "nbformat_minor": 5
}
