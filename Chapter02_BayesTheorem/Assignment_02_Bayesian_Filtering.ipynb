{
 "cells": [
  {
   "cell_type": "markdown",
   "id": "03415cb2",
   "metadata": {
    "deletable": false,
    "editable": false,
    "nbassignment": {
     "type": "header"
    },
    "nbgrader": {
     "cell_type": "markdown",
     "checksum": "fdefd62fc826f77414b58d875aad1347",
     "grade": false,
     "grade_id": "HeaderA",
     "locked": true,
     "schema_version": 3,
     "solution": false,
     "task": false
    }
   },
   "source": [
    "<div class=\"alert alert-block alert-info\">\n",
    "    <h1>Mathematics for Robotics and Control - SS24</h1>\n",
    "    <h3>General Information:</h3>\n",
    "    <p>Please do not add or delete any cells. Answers belong into the corresponding cells (below the question). If a function is given (either as a signature or a full function), you <b>should not change the name, arguments or return value</b> of the function.</p>\n",
    "    <p>If you encounter empty cells underneath the answer that can not be edited, please ignore them, they are for testing purposes.</p>\n",
    "    <p>When editing an assignment there can be the case that there are variables in the kernel. To make sure your assignment works, please restart the kernel and run all cells before submitting (e.g. via <i>Kernel -> Restart & Run All</i>).</p>\n",
    "    <p>Code cells where you are supposed to give your answer often include the line  <code>raise NotImplementedError</code>. This makes it easier to automatically grade answers. If you edit the cell please outcomment or delete this line.</p>\n",
    "    <h3>Submission:</h3>\n",
    "    <p>Please submit your notebook via the web interface (in the main view -> Assignments -> Submit). The assignments are due on <b>Sunday</b> at <b> 20:00 </b> CEST.</p>\n",
    "    <h3>Group Work:</h3>\n",
    "    <p>Group work is allowed! If you are working in a group, please write your student IDs (ending with -2s) in the designated cell below.</p>\n",
    "    <h3>Questions about the Assignment:</h3>\n",
    "    <p>If you have questions about the assignment please post them in the LEA forum before the deadline.</p>\n",
    "    \n",
    "</div>"
   ]
  },
  {
   "cell_type": "code",
   "execution_count": 1,
   "id": "0f243861",
   "metadata": {
    "ExecuteTime": {
     "end_time": "2024-10-19T12:09:39.593299Z",
     "start_time": "2024-10-19T12:09:39.585488Z"
    },
    "nbassignment": {
     "type": "group_info"
    }
   },
   "outputs": [],
   "source": [
    "# Please fill in the usernames of all your team members\n",
    "\n",
    "member1 = 'aarora2s'\n",
    "member2 = ''"
   ]
  },
  {
   "cell_type": "markdown",
   "id": "c4e30af2",
   "metadata": {
    "deletable": false,
    "editable": false,
    "nbgrader": {
     "cell_type": "markdown",
     "checksum": "a6752f5f302cbc55529ec86c230c2fb5",
     "grade": false,
     "grade_id": "taskheader_1",
     "locked": true,
     "schema_version": 3,
     "solution": false,
     "task": false
    }
   },
   "source": [
    "# Task 1\n",
    "\n",
    "**[30 Point(s)]**"
   ]
  },
  {
   "cell_type": "markdown",
   "id": "eefd4ed6",
   "metadata": {
    "deletable": false,
    "editable": false,
    "nbgrader": {
     "cell_type": "markdown",
     "checksum": "210846bcc5f84e8321199692a50572dd",
     "grade": false,
     "grade_id": "SmartHome_ASmartHome_B_Header",
     "locked": true,
     "schema_version": 3,
     "solution": false,
     "task": false
    }
   },
   "source": [
    "# SmartHome\n",
    "\n",
    "What will the next day be like?"
   ]
  },
  {
   "cell_type": "markdown",
   "id": "31756d01",
   "metadata": {
    "deletable": false,
    "editable": false,
    "nbgrader": {
     "cell_type": "markdown",
     "checksum": "a95fbae994c6cdad6bf1fbef1ccefccb",
     "grade": false,
     "grade_id": "taskheader_1_1",
     "locked": true,
     "schema_version": 3,
     "solution": false,
     "task": false
    }
   },
   "source": [
    "## Task 1.1\n",
    "\n",
    "**[20 Point(s)]**"
   ]
  },
  {
   "cell_type": "markdown",
   "id": "45349757",
   "metadata": {
    "deletable": false,
    "editable": false,
    "nbgrader": {
     "cell_type": "markdown",
     "checksum": "7cde9b570b2beec7fa4c06c2ebad1ac6",
     "grade": false,
     "grade_id": "SmartHome_A_Description0",
     "locked": true,
     "schema_version": 3,
     "solution": false,
     "task": false
    }
   },
   "source": [
    "## Question\n",
    "\n",
    "Let's suppose that we have a smart home with a temperature sensor in it, such that we want to predict whether it's hot or cold outside. Our temperature sensor measures the temperature unreliably: if the temperature is high, the sensor will only report that it is high in $90\\%$ of the cases; similarly, if the temperature is low, the sensor will report a high temperature in $10\\%$ of the cases. Based on some old statistics, we know that if the temperature is high on day $t$, it will be high on day $t+1$ in $50\\%$ of the cases; similarly, if the temperature is low on day $t$, there is a $30\\%$ chance that it will be high on day $t+1$.\n",
    "\n",
    "1) Suppose that the sensor reports a high temperature on day $t = 1$. Calculate the probability that the outside temperature on day $t = 1$ is high. Assume that we are fully ignorant about the outside temperature on day $t = 0$.\n",
    "\n",
    "Note: This is a filtering problem, which means that we can find the probability that the outside temperature is high on day $t = 1$ using the equation\n",
    "\\begin{equation*}\n",
    "    P(T_1 = high|S_1 = high) = \\alpha P(S_1 = high|T_1 = high) \\sum_{t_0}{P(T_1 = high|t_0) P(t_0)}\n",
    "\\end{equation*}\n",
    "\n",
    "The fact that we are fully ignorant about the outside temperature on day $t = 0$ means that $P(T_0 = high) = P(T_0 = low) = 0.5$."
   ]
  },
  {
   "cell_type": "markdown",
   "id": "e693d0f1",
   "metadata": {
    "deletable": false,
    "nbgrader": {
     "cell_type": "markdown",
     "checksum": "447fad90acf580a74ac06df277df32a9",
     "grade": true,
     "grade_id": "SmartHome_A",
     "locked": false,
     "points": 20,
     "schema_version": 3,
     "solution": true,
     "task": false
    }
   },
   "source": [
    "P($S_{1} = high$ | $T_{1} = high$) = 0.9 \n",
    "\n",
    "P($S_{1} = high$ | $T_{1} = low$) = 0.1 \n",
    "\n",
    "P($T_{1} = high$ | $T_{0} = high$) = 0.5\n",
    "\n",
    "P($T_{1} = high$ | $T_{0} = low$) = 0.3\n",
    "\n",
    "P($T_{0} = high$) = 0.5 \n",
    "\n",
    "P($T_{0} = high$) = 0.5\n",
    "\n",
    "P($T_{1} = high$) = P($T_{1} = high$ | $T_{0} = high$) . P($T_{0} = high$) + P($T_{1} = high$ | $T_{0} = low$) . P($T_{0} = low$) = (0.5* x 0.5) + (0.3 x 0.5) = 0.4\n",
    "\n",
    "P($S_{1} = high$) is calculated as mentioned\n",
    "\n",
    "Thus,\n",
    "\n",
    "P($S_{1} = high$) = P($S_{1} = high$ ∣ $T_{1} = high$) . P($T_{1} = high$) + P($S_{1} = high$ ∣ $T_{1} = low$) . P($T_{1} = low$) = (0.9 x 0.4) + (0.1 x 0.6) = 0.42\n",
    "\n",
    "Calculating P($T_{1} = high$ | $S_{1} = high$)\n",
    "\n",
    "P($T_{1} = high$ | $S_{1} = high$) = $ \\frac{P(S_{1} = high | T_{1} = high) . P(T_{1} = high)}{P(S_{1} = high)}$\n",
    "\n",
    "P($T_{1} = high$ | $S_{1} = high$) = $ \\frac{0.9 x 0.4}{0.42}$ = 0.857 or 85.7\\%"
   ]
  },
  {
   "cell_type": "markdown",
   "id": "7610787f",
   "metadata": {
    "deletable": false,
    "editable": false,
    "nbgrader": {
     "cell_type": "markdown",
     "checksum": "0cd2a4c845d83576c19a4271f591e661",
     "grade": false,
     "grade_id": "taskheader_1_2",
     "locked": true,
     "schema_version": 3,
     "solution": false,
     "task": false
    }
   },
   "source": [
    "## Task 1.2\n",
    "\n",
    "**[10 Point(s)]**"
   ]
  },
  {
   "cell_type": "markdown",
   "id": "20d401d8",
   "metadata": {
    "deletable": false,
    "editable": false,
    "nbgrader": {
     "cell_type": "markdown",
     "checksum": "30216bae7933c0199a4914590faefe9d",
     "grade": false,
     "grade_id": "SmartHome_B_Description0",
     "locked": true,
     "schema_version": 3,
     "solution": false,
     "task": false
    }
   },
   "source": [
    "## Question\n",
    "\n",
    "2) If the sensor reports a low temperature on day $t = 2$, what is the probability that the outside temperature is high?"
   ]
  },
  {
   "cell_type": "markdown",
   "id": "a3eb161b",
   "metadata": {
    "deletable": false,
    "nbgrader": {
     "cell_type": "markdown",
     "checksum": "bdc2b28af957be5244d2a8ff635f1397",
     "grade": true,
     "grade_id": "SmartHome_B",
     "locked": false,
     "points": 10,
     "schema_version": 3,
     "solution": true,
     "task": false
    }
   },
   "source": [
    "$P(T_{2} = high) = P(T_{2} = high ∣ T_{1} = high) . P(T_{1} = high ∣ S_{1} = high) + P(T_{2} = high ∣ T_{1} = low) . P(T_{1} = low ∣ S_{1} = high)$ = (0.5 x 0.857) + (0.3 x 0.143) = 0.4714\n",
    "\n",
    "P($S_{2} = low$ | $T_{2} = high$) = 1 - 0.9 = 0.1\n",
    "\n",
    "Now,\n",
    "\n",
    "$P(S_{2} = low) = P(S_{2} = low ∣ T_{2} = high) . P(T_{2} = high) + P(S_{2} = low ∣ T_{2} = low) . P(T_{2} = low)$ = (0.1 x 0.4714) + (0.9 x 0.5286) = 0.52284\n",
    "\n",
    "Computing posterior probability:\n",
    "\n",
    "P($T_{2} = high$ | $S_{1} = low$) = $ \\frac{P(S_{2} = low | T_{2} = high) . P(T_{2} = high)}{P(S_{2} = low)}$ = $\\frac{0.1 x 0.4714}{0.52284}$ = 0.09 or 9\\% "
   ]
  },
  {
   "cell_type": "markdown",
   "id": "3e5cea98",
   "metadata": {
    "deletable": false,
    "editable": false,
    "nbgrader": {
     "cell_type": "markdown",
     "checksum": "d191ed751fa5b6156b2e7b4ad723d57d",
     "grade": false,
     "grade_id": "taskheader_2",
     "locked": true,
     "schema_version": 3,
     "solution": false,
     "task": false
    }
   },
   "source": [
    "# Task 2\n",
    "\n",
    "**[100 Point(s)]**"
   ]
  },
  {
   "cell_type": "markdown",
   "id": "459845e9",
   "metadata": {
    "deletable": false,
    "editable": false,
    "nbgrader": {
     "cell_type": "markdown",
     "checksum": "6ed294c1820d4e5c12b18744f4ad8c15",
     "grade": false,
     "grade_id": "ChildEngagement_AChildEngagement_BChildEngagement_CChildEngagement_DChildEngagement_EChildEngagement_F_Header",
     "locked": true,
     "schema_version": 3,
     "solution": false,
     "task": false
    }
   },
   "source": [
    "# Child Engagement Tracking\n",
    "\n",
    "This assignment is based on the following paper:\n",
    "\n",
    "```\n",
    "Jain, S. and Thiagarajan, B. and Shi, Z. and Clabaugh, C. and Mataric, M. J., \"Modeling engagement in long-term, in-home socially assistive robot interventions for children with autism spectrum disorders,\" *Science Robotics*, vol. 5, no. 39, 2020. Available: https://robotics.sciencemag.org/content/5/39/eaaz3791\n",
    "```\n",
    "\n",
    "You don't need to read the paper for the purposes of this exercise, but please do so if you are interested.\n",
    "\n",
    "In this study, a robot + tablet system was deployed in the homes of seven children with Autism Spectrum Disorder (ASD) and was used over a month. During various sessions with the robot, the child was playing games on the tablet, such that the objective was to record data that would allow the child's engagement during a session to be estimated.\n",
    "\n",
    "Over 100 features were collected during the study (visual, audio, and game performance features). For simplicity, we will only use some of the recorded features in this exercise, in particular:\n",
    "\n",
    "* `head_cam_distance`: estimated distance between the child's head and a camera mounted on the tablet\n",
    "* `gaze_distance`: average x-y distance between the estimated child's gaze and a vertical plane through the camera\n",
    "* `face_detection_confidence`: confidence with which a face was detected\n",
    "\n",
    "Engagement is represented as a binary variable (0 if the child is not engaged, 1 if it is).\n",
    "\n",
    "We will also use only a very small subset of the feature recordings - the original dataset has more than 125,000 measurements per feature.\n",
    "\n",
    "The objective in the exercise is to use a Bayes filter for estimating a child's engagement. To do this, we need to learn the transition and measurement models from training data (given under `Assignment_02_Bayesian_Filtering_files/data/training_data.csv`); we will then test the filter on some test data (given under `Assignment_02_Bayesian_Filtering_files/data/test_data.csv`). In both data files, the first three columns represent the aforementioned feature observations and the last column is the ground-truth engagement labels for the given observations."
   ]
  },
  {
   "cell_type": "markdown",
   "id": "f415b133",
   "metadata": {
    "deletable": false,
    "editable": false,
    "nbgrader": {
     "cell_type": "markdown",
     "checksum": "e98826af17d811b4f658dab932b16723",
     "grade": false,
     "grade_id": "taskheader_2_1",
     "locked": true,
     "schema_version": 3,
     "solution": false,
     "task": false
    }
   },
   "source": [
    "## Task 2.1\n",
    "\n",
    "**[30 Point(s)]**"
   ]
  },
  {
   "cell_type": "code",
   "execution_count": 1,
   "id": "d0966e4c",
   "metadata": {
    "ExecuteTime": {
     "end_time": "2024-10-19T12:09:40.263839Z",
     "start_time": "2024-10-19T12:09:39.599338Z"
    },
    "deletable": false,
    "editable": false,
    "nbgrader": {
     "cell_type": "code",
     "checksum": "ddb58032a31c34984966878770a8210a",
     "grade": false,
     "grade_id": "ChildEngagement_A_Description0",
     "locked": true,
     "schema_version": 3,
     "solution": false,
     "task": false
    }
   },
   "outputs": [],
   "source": [
    "from typing import Tuple, Sequence, Dict\n",
    "\n",
    "import numpy as np\n",
    "import matplotlib.pyplot as plt\n",
    "\n",
    "training_data = np.genfromtxt('Assignment_02_Bayesian_Filtering_files/data/training_data.csv', skip_header=1, delimiter=',')\n",
    "test_data = np.genfromtxt('Assignment_02_Bayesian_Filtering_files/data/test_data.csv', skip_header=1, delimiter=',')\n",
    "\n",
    "training_features = training_data[:,0:3]\n",
    "test_features = test_data[:,0:3]\n",
    "\n",
    "training_engagements = np.array(training_data[:,3], dtype=int)\n",
    "test_engagements = np.array(test_data[:,3], dtype=int)"
   ]
  },
  {
   "cell_type": "markdown",
   "id": "f023d36d",
   "metadata": {
    "deletable": false,
    "editable": false,
    "nbgrader": {
     "cell_type": "markdown",
     "checksum": "1ec74bbfeb01ac3a1619f63842fc54f5",
     "grade": false,
     "grade_id": "ChildEngagement_A_Description1",
     "locked": true,
     "schema_version": 3,
     "solution": false,
     "task": false
    }
   },
   "source": [
    "a) The measurements of the features of interest are continuous, but we would like to use a discrete Bayes filter for engagement tracking. Your first task is thus discretising the feature measurements.\n",
    "\n",
    "We will particularly use the following discretisation strategy:\n",
    "* measurements that are less than $0.25$ standard deviations from the mean would be assigned the value $0$\n",
    "* measurements between $0.25$ and $0.5$ standard deviations would be assigned the value $1$\n",
    "* measurements between $0.5$ and $0.75$ standard deviations would be assigned the value $2$\n",
    "* measurements between $0.75$ and $1$ standard deviations would be assigned the value $3$\n",
    "* measurements greater than $1$ standard deviation would be assigned the value $4$\n",
    "\n",
    "For this, please implement the function `discretise_measurements`, which discretises each feature individually, and then discretise both the training and the test measurements (the discretised feature values should be stored in `discrete_training_data` and `discrete_test_data` for the training and test feature observations, respectively).\n",
    "\n",
    "*Note 1*: You can consider an outlier of measurement that falls outside 3 standard deviations. You should re-estimate mean and std using data without outliers. \n",
    "\n",
    "*Note 2*: Discretization should take care of all data points. Please keep outliers.\n",
    "\n",
    "*Note 3*: *Test* measurements should be discretised using the mean and standard deviation of the *training* measurements!"
   ]
  },
  {
   "cell_type": "code",
   "execution_count": 12,
   "id": "b3934165",
   "metadata": {
    "ExecuteTime": {
     "end_time": "2024-10-19T12:09:40.280706Z",
     "start_time": "2024-10-19T12:09:40.267288Z"
    },
    "deletable": false,
    "nbgrader": {
     "cell_type": "code",
     "checksum": "0b182fc24032e22abf9a9786a2bd2049",
     "grade": false,
     "grade_id": "ChildEngagement_A",
     "locked": false,
     "schema_version": 3,
     "solution": true,
     "task": false
    }
   },
   "outputs": [
    {
     "name": "stdout",
     "output_type": "stream",
     "text": [
      "[402.11088779 192.04936617   0.9584131 ]\n",
      "[[0 0 0]\n",
      " [0 0 0]\n",
      " [0 0 0]\n",
      " ...\n",
      " [0 0 0]\n",
      " [0 0 0]\n",
      " [0 0 0]]\n"
     ]
    },
    {
     "data": {
      "text/plain": [
       "3"
      ]
     },
     "execution_count": 12,
     "metadata": {},
     "output_type": "execute_result"
    }
   ],
   "source": [
    "def discretise_measurements(measurements: np.ndarray,\n",
    "                            mean: float, std: float) -> np.ndarray:\n",
    "    '''Returns the measurements in discretised format depending on\n",
    "    their distance from the mean.\n",
    "\n",
    "    Keyword arguments:\n",
    "    measurements: np.ndarray -- a 1D numpy array of feature measurements\n",
    "    mean: float -- data mean to use during discretisation (default None)\n",
    "    std: float -- data standard deviation to use during discretisation (default None)\n",
    "\n",
    "    '''\n",
    "    # YOUR CODE HERE\n",
    "    # z-score for each measurement\n",
    "    z_scores = (measurements - mean) / std\n",
    "    \n",
    "    # Array for the discretized values\n",
    "    discretised = np.zeros_like(z_scores, dtype=int)\n",
    "    \n",
    "    # Discretize based on the z-score ranges\n",
    "    discretised[z_scores >= 1] = 4\n",
    "    discretised[(z_scores >= 0.75) & (z_scores < 1)] = 3\n",
    "    discretised[(z_scores >= 0.5) & (z_scores < 0.75)] = 2\n",
    "    discretised[(z_scores >= 0.25) & (z_scores < 0.5)] = 1\n",
    "    discretised[z_scores < 0.25] = 0\n",
    "    \n",
    "    return discretised\n",
    "    #raise NotImplementedError()\n",
    "    \n",
    "#Remove outliers and calculate the mean and std for the training data (without outliers)\n",
    "def remove_outliers(data, threshold=3):\n",
    "    '''Removes outliers that are more than threshold std from the mean'''\n",
    "    mean = np.mean(data, axis=0)\n",
    "    std = np.std(data, axis=0)\n",
    "    no_outliers = np.abs(data - mean) < threshold * std\n",
    "    return data[no_outliers.all(axis=1)], mean, std\n",
    "\n",
    "filtered_training_features, mean, std = remove_outliers(training_features)\n",
    "print(mean)\n",
    "# Discretizing the training data\n",
    "discrete_training_data = np.zeros_like(training_features, dtype=int)\n",
    "for i in range(training_features.shape[1]):\n",
    "    discrete_training_data[:, i] = discretise_measurements(training_features[:, i], mean[i], std[i])\n",
    "\n",
    "# Discretizing the test data using the same mean and std from the training data\n",
    "discrete_test_data = np.zeros_like(test_features, dtype=int)\n",
    "for i in range(test_features.shape[1]):\n",
    "    discrete_test_data[:, i] = discretise_measurements(test_features[:, i], mean[i], std[i])\n",
    "\n",
    "training_features.shape[1]"
   ]
  },
  {
   "cell_type": "code",
   "execution_count": 4,
   "id": "28f6eeb2",
   "metadata": {
    "ExecuteTime": {
     "end_time": "2024-10-19T12:09:40.322829Z",
     "start_time": "2024-10-19T12:09:40.283617Z"
    },
    "deletable": false,
    "editable": false,
    "nbgrader": {
     "cell_type": "code",
     "checksum": "842450797be8c4d71bae763525fed05f",
     "grade": true,
     "grade_id": "test_ChildEngagement_A0",
     "locked": true,
     "points": 30,
     "schema_version": 3,
     "solution": false,
     "task": false
    }
   },
   "outputs": [],
   "source": [
    "### This cell contains hidden tests for your solution"
   ]
  },
  {
   "cell_type": "markdown",
   "id": "3124fdc2",
   "metadata": {
    "deletable": false,
    "editable": false,
    "nbgrader": {
     "cell_type": "markdown",
     "checksum": "a6910f042e5238b6526afe4a40d86287",
     "grade": false,
     "grade_id": "taskheader_2_2",
     "locked": true,
     "schema_version": 3,
     "solution": false,
     "task": false
    }
   },
   "source": [
    "## Task 2.2\n",
    "\n",
    "**[15 Point(s)]**"
   ]
  },
  {
   "cell_type": "markdown",
   "id": "42c4a697",
   "metadata": {
    "deletable": false,
    "editable": false,
    "nbgrader": {
     "cell_type": "markdown",
     "checksum": "62d1dca9c51761f1ee14c66c020d82b9",
     "grade": false,
     "grade_id": "ChildEngagement_B_Description0",
     "locked": true,
     "schema_version": 3,
     "solution": false,
     "task": false
    }
   },
   "source": [
    "b) Now that we have the discretised feature measurements, we want to learn the transition and observation models of the filter:\n",
    "* The transition model $P(x_{t+1}|x_{t})$ represents the probability of transitions between the engaged and not engaged states\n",
    "* The observation model $P(z_{t}|x_{t})$ captures the probability of a *combination of discretised features* to be observed in a given state\n",
    "\n",
    "We would like to learn both models as relative frequencies from the given data.\n",
    "\n",
    "\n",
    "First, complete the function `learn_transition_model`, which estimates the transition probabilities from ground-truth engagement annotations."
   ]
  },
  {
   "cell_type": "code",
   "execution_count": 13,
   "id": "688cb00d-bf4a-4f35-afdc-1c1eb234cff0",
   "metadata": {},
   "outputs": [
    {
     "name": "stdout",
     "output_type": "stream",
     "text": [
      "{0: array([0., 0.]), 1: array([0., 0.])}\n"
     ]
    }
   ],
   "source": [
    "transition_model = { 0: np.zeros(2), 1: np.zeros(2) }\n",
    "print(transition_model)"
   ]
  },
  {
   "cell_type": "code",
   "execution_count": 15,
   "id": "5a62f87d",
   "metadata": {
    "ExecuteTime": {
     "end_time": "2024-10-19T12:09:40.377692Z",
     "start_time": "2024-10-19T12:09:40.326036Z"
    },
    "deletable": false,
    "nbgrader": {
     "cell_type": "code",
     "checksum": "b0a40b848cb365fdced65b46a4f95aff",
     "grade": false,
     "grade_id": "ChildEngagement_B",
     "locked": false,
     "schema_version": 3,
     "solution": true,
     "task": false
    }
   },
   "outputs": [],
   "source": [
    "def learn_transition_model(engagements: np.ndarray) -> Dict[int, np.ndarray]:\n",
    "    '''Returns a transition model estimated from engagement annotations.\n",
    "    The model is represented as a dictionary in which the keys are engagement\n",
    "    labels (0 and 1) and the values are numpy arrays representing the transition\n",
    "    probabilities (for instance, transition_model[0][1] is the transition\n",
    "    probability P(x_t = 1 | x_{t-1} = 0)).\n",
    "\n",
    "    Keyword arguments:\n",
    "    engagements: np.ndarray -- array of ground-truth engagement annotations\n",
    "\n",
    "    '''\n",
    "    transition_model = { 0: np.zeros(2), 1: np.zeros(2) }\n",
    "\n",
    "    # YOUR CODE HERE\n",
    "    for t in range(len(engagements) - 1):\n",
    "        current_state = engagements[t]\n",
    "        next_state = engagements[t + 1]\n",
    "\n",
    "        # Transition count increment \n",
    "        transition_model[current_state][next_state] += 1\n",
    "        \n",
    "\n",
    "    # Normalize the counts\n",
    "    for state in transition_model:\n",
    "        total_transitions = np.sum(transition_model[state])\n",
    "        if total_transitions > 0:\n",
    "            transition_model[state] /= total_transitions\n",
    "\n",
    "    #raise NotImplementedError()\n",
    "\n",
    "    return transition_model\n",
    "\n",
    "transition_model = learn_transition_model(training_engagements)"
   ]
  },
  {
   "cell_type": "code",
   "execution_count": 6,
   "id": "f06a2e20",
   "metadata": {
    "ExecuteTime": {
     "end_time": "2024-10-19T12:09:40.415659Z",
     "start_time": "2024-10-19T12:09:40.380496Z"
    },
    "deletable": false,
    "editable": false,
    "nbgrader": {
     "cell_type": "code",
     "checksum": "f4b5416f83cc4048e10240a774709a6a",
     "grade": true,
     "grade_id": "test_ChildEngagement_B0",
     "locked": true,
     "points": 15,
     "schema_version": 3,
     "solution": false,
     "task": false
    }
   },
   "outputs": [],
   "source": [
    "### This cell contains hidden tests for your solution"
   ]
  },
  {
   "cell_type": "markdown",
   "id": "2357da8f",
   "metadata": {
    "deletable": false,
    "editable": false,
    "nbgrader": {
     "cell_type": "markdown",
     "checksum": "414bc309c896d1afeba9ab317e3fe9ee",
     "grade": false,
     "grade_id": "taskheader_2_3",
     "locked": true,
     "schema_version": 3,
     "solution": false,
     "task": false
    }
   },
   "source": [
    "## Task 2.3\n",
    "\n",
    "**[10 Point(s)]**"
   ]
  },
  {
   "cell_type": "markdown",
   "id": "f3ce08ac",
   "metadata": {
    "deletable": false,
    "editable": false,
    "nbgrader": {
     "cell_type": "markdown",
     "checksum": "fec564184396d96b2ea41bf219ef726b",
     "grade": false,
     "grade_id": "ChildEngagement_C_Description0",
     "locked": true,
     "schema_version": 3,
     "solution": false,
     "task": false
    }
   },
   "source": [
    "During the estimation of the observation model, we will need to have a list of all possible discrete feature observations. We will find this list by generating all permutations of length equal to the number of distinct features.\n",
    "\n",
    "Your next task is to implement the function `generate_permutations`, which returns a list of all permutations of given length that include integers up to (but excluding) a given number.\n",
    "\n",
    "For example, `generate_permutations(3, 2)` results in the following list:\n",
    "\n",
    "```\n",
    "[(0, 0), (0, 1), (0, 2), (1, 0), (1, 1), (1, 2), (2, 0), (2, 1), (2, 2)]\n",
    "```\n",
    "\n",
    "*Hint 1*: You are not allowed to use library functions for finding the permutations; the function has to be your own implementation.\n",
    "\n",
    "*Hint 2*: You may find it useful to define an inner recursive function."
   ]
  },
  {
   "cell_type": "code",
   "execution_count": 7,
   "id": "6ed5e379",
   "metadata": {
    "ExecuteTime": {
     "end_time": "2024-10-19T12:09:40.756637Z",
     "start_time": "2024-10-19T12:09:40.419453Z"
    },
    "deletable": false,
    "nbgrader": {
     "cell_type": "code",
     "checksum": "958166e098ca23eafa435bd9b20f5e18",
     "grade": false,
     "grade_id": "ChildEngagement_C",
     "locked": false,
     "schema_version": 3,
     "solution": true,
     "task": false
    }
   },
   "outputs": [],
   "source": [
    "def generate_permutations(possible_values: int,\n",
    "                          permutation_len: int) -> Sequence[Tuple[int, int, int]]:\n",
    "    '''Returns a list of all permutations of length \"permutation_len\"\n",
    "    that include integers up to (but excluding) \"possible_values\".\n",
    "\n",
    "    Keyword arguments:\n",
    "    possible_values: int -- number of possible numerical values\n",
    "    permutation_len: int -- length of each permutation\n",
    "\n",
    "    '''\n",
    "    # YOUR CODE HERE\n",
    "    results = []\n",
    "\n",
    "    def recursive_helper(current_permutation: List[int]):\n",
    "        # Base case: if the current permutation has reached the desired length\n",
    "        if len(current_permutation) == permutation_len:\n",
    "            results.append(tuple(current_permutation))\n",
    "            return\n",
    "        \n",
    "        # Recursive case: build the permutation\n",
    "        for i in range(possible_values):\n",
    "            current_permutation.append(i)  # Add the current value\n",
    "            recursive_helper(current_permutation)  # Recur for the next level\n",
    "            current_permutation.pop()  # Backtrack\n",
    "\n",
    "    # Start the recursion with an empty current permutation\n",
    "    recursive_helper([])\n",
    "\n",
    "    return results\n",
    "\n",
    "    #raise NotImplementedError()"
   ]
  },
  {
   "cell_type": "code",
   "execution_count": 8,
   "id": "b57f6832",
   "metadata": {
    "ExecuteTime": {
     "end_time": "2024-10-19T12:09:40.937667Z",
     "start_time": "2024-10-19T12:09:40.760848Z"
    },
    "deletable": false,
    "editable": false,
    "nbgrader": {
     "cell_type": "code",
     "checksum": "eaf1ab7c9bc71504de6e12571c0b0191",
     "grade": true,
     "grade_id": "test_ChildEngagement_C0",
     "locked": true,
     "points": 10,
     "schema_version": 3,
     "solution": false,
     "task": false
    }
   },
   "outputs": [],
   "source": [
    "### This cell contains hidden tests for your solution"
   ]
  },
  {
   "cell_type": "markdown",
   "id": "bba392cc",
   "metadata": {
    "deletable": false,
    "editable": false,
    "nbgrader": {
     "cell_type": "markdown",
     "checksum": "d6df8851f66086a82e73450d1894c761",
     "grade": false,
     "grade_id": "taskheader_2_4",
     "locked": true,
     "schema_version": 3,
     "solution": false,
     "task": false
    }
   },
   "source": [
    "## Task 2.4\n",
    "\n",
    "**[15 Point(s)]**"
   ]
  },
  {
   "cell_type": "markdown",
   "id": "70d077e7",
   "metadata": {
    "deletable": false,
    "editable": false,
    "nbgrader": {
     "cell_type": "markdown",
     "checksum": "9355fc736686ba06ed0273c354c39eb4",
     "grade": false,
     "grade_id": "ChildEngagement_D_Description0",
     "locked": true,
     "schema_version": 3,
     "solution": false,
     "task": false
    }
   },
   "source": [
    "Now, complete the function `learn_observation_model`, which estimates the observation probabilities given the discretised feature observations and the ground-truth engagement annotations.\n",
    "\n",
    "Note that the function initialises all measurements with a very small, but non-zero, probability; this would avoid the problem of assigning a zero probability to observations that are not present in the training data, but are otherwise not impossible."
   ]
  },
  {
   "cell_type": "code",
   "execution_count": 9,
   "id": "682338e9",
   "metadata": {
    "ExecuteTime": {
     "end_time": "2024-10-19T12:09:41.030577Z",
     "start_time": "2024-10-19T12:09:40.943331Z"
    },
    "deletable": false,
    "nbgrader": {
     "cell_type": "code",
     "checksum": "846c5ae1afc03f40cf47b0c68cfeb12f",
     "grade": false,
     "grade_id": "ChildEngagement_D",
     "locked": false,
     "schema_version": 3,
     "solution": true,
     "task": false
    }
   },
   "outputs": [],
   "source": [
    "from typing import Tuple, Sequence, Dict, List\n",
    "\n",
    "def learn_observation_model(features: np.ndarray,\n",
    "                            engagements: np.ndarray) -> Dict[int, Dict[Tuple[int, int, int], float]]:\n",
    "    '''Returns an observation model estimated from feature observations and\n",
    "    engagement annotations. The model is represented as a dictionary in which\n",
    "    the keys are engagement labels (0 and 1). The values are also dictionaries,\n",
    "    where the keys are feature observations (represented as tuples of integers)\n",
    "    and the values are the observation probabilities (for example,\n",
    "    observation_model[0][(0,0,0)] is the observation probability\n",
    "    P(z_t = (0, 0, 0) | x_t = 0)).\n",
    "\n",
    "    Keyword arguments:\n",
    "    features: np.ndarray -- array of discrete feature observations\n",
    "    engagements: np.ndarray -- array of ground-truth engagement annotations\n",
    "\n",
    "    '''\n",
    "    observation_model = { 0: {}, 1: {} }\n",
    "    possible_values = 5\n",
    "    permutation_len = 3\n",
    "    permutations = generate_permutations(possible_values, permutation_len)\n",
    "    for k in observation_model:\n",
    "        for p in permutations:\n",
    "            # initialize all observations with a small non-zero probability\n",
    "            observation_model[k][p] = 1e-10\n",
    "\n",
    "\n",
    "    # YOUR CODE HERE\n",
    "    # Count occurrences of each observation for each engagement state\n",
    "    for feature, engagement in zip(features, engagements):\n",
    "        observation_key = tuple(feature)  # Convert feature array to tuple for dictionary key\n",
    "        observation_model[engagement][observation_key] += 1  # Increment the count for this observation\n",
    "\n",
    "    # Normalize the counts to get probabilities\n",
    "    for k in observation_model:\n",
    "        total_observations = sum(observation_model[k].values())\n",
    "        for p in observation_model[k]:\n",
    "            observation_model[k][p] /= total_observations  # Normalize to get probability\n",
    "\n",
    "    #raise NotImplementedError()\n",
    "\n",
    "    return observation_model\n",
    "\n",
    "obs_model = learn_observation_model(discrete_training_data, training_engagements)"
   ]
  },
  {
   "cell_type": "code",
   "execution_count": 10,
   "id": "9afd70a5",
   "metadata": {
    "ExecuteTime": {
     "end_time": "2024-10-19T12:09:41.307770Z",
     "start_time": "2024-10-19T12:09:41.032865Z"
    },
    "deletable": false,
    "editable": false,
    "nbgrader": {
     "cell_type": "code",
     "checksum": "aed6b760d458f6349295d9f2c9ab55db",
     "grade": true,
     "grade_id": "test_ChildEngagement_D0",
     "locked": true,
     "points": 15,
     "schema_version": 3,
     "solution": false,
     "task": false
    }
   },
   "outputs": [],
   "source": [
    "### This cell contains hidden tests for your solution"
   ]
  },
  {
   "cell_type": "markdown",
   "id": "a89770c5",
   "metadata": {
    "deletable": false,
    "editable": false,
    "nbgrader": {
     "cell_type": "markdown",
     "checksum": "9d07675b4ee7ea1b0fc561f403742869",
     "grade": false,
     "grade_id": "taskheader_2_5",
     "locked": true,
     "schema_version": 3,
     "solution": false,
     "task": false
    }
   },
   "source": [
    "## Task 2.5\n",
    "\n",
    "**[15 Point(s)]**"
   ]
  },
  {
   "cell_type": "markdown",
   "id": "c0373d32",
   "metadata": {
    "deletable": false,
    "editable": false,
    "nbgrader": {
     "cell_type": "markdown",
     "checksum": "73ce56a948b0e1702e717284f6a2ad3a",
     "grade": false,
     "grade_id": "ChildEngagement_E_Description0",
     "locked": true,
     "schema_version": 3,
     "solution": false,
     "task": false
    }
   },
   "source": [
    "c) Your next task is to implement the function `bayes_filter`, which performs a Bayes filter update given an observation of the three features of interest. As a reminder, the discrete Bayes filter uses the following belief update equation:\n",
    "\n",
    "\\begin{equation*}\n",
    "    bel(x_t) = \\alpha P(z_t|x_t)\\sum_{x_{t-1}}P(x_t|x_{t-1})bel(x_{t-1})\n",
    "\\end{equation*}\n",
    "\n",
    "where $\\alpha$ is a normalisation constant that converts the belief into a valid probability distribution."
   ]
  },
  {
   "cell_type": "code",
   "execution_count": 11,
   "id": "aa721e4f",
   "metadata": {
    "ExecuteTime": {
     "end_time": "2024-10-19T12:09:41.433370Z",
     "start_time": "2024-10-19T12:09:41.315638Z"
    },
    "deletable": false,
    "nbgrader": {
     "cell_type": "code",
     "checksum": "069348f1c88642ba75392e369f20549c",
     "grade": false,
     "grade_id": "ChildEngagement_E",
     "locked": false,
     "schema_version": 3,
     "solution": true,
     "task": false
    }
   },
   "outputs": [],
   "source": [
    "def bayes_filter(observation: Tuple[int, int, int],\n",
    "                 previous_belief: np.ndarray,\n",
    "                 transition_model: Dict[int, np.ndarray],\n",
    "                 observation_model: Dict[int, Dict[Tuple[int, int, int], float]]) -> np.ndarray:\n",
    "    '''Runs an iteration of a discrete recursive Bayes filter for updating\n",
    "    the engagement belief given feature observations.\n",
    "\n",
    "    Keyword arguments:\n",
    "    observation: Tuple[int, int, int] -- discrete feature observation at the current time step\n",
    "    previous_belief: np.ndarray -- array containing the belief at the previous time step\n",
    "    transition_model: Dict[int, np.ndarray] -- result of \"learn_transition_model\"\n",
    "    observation_model: Dict[int, Dict[Tuple[int, int, int], float]] -- result of \"learn_observation_model\"\n",
    "\n",
    "    '''\n",
    "    new_belief = np.zeros_like(previous_belief)\n",
    "\n",
    "    # YOUR CODE HERE\n",
    "    # Iterate over the possible states (0 and 1)\n",
    "    for current_state in [0, 1]:\n",
    "        # Compute the likelihood P(z_t | x_t)\n",
    "        likelihood = observation_model[current_state].get(observation, 0.0)\n",
    "        \n",
    "        # Compute the prior P(x_t | x_{t-1}) * bel(x_{t-1})\n",
    "        prior = 0.0\n",
    "        for previous_state in [0, 1]:\n",
    "            prior += transition_model[previous_state][current_state] * previous_belief[previous_state]\n",
    "\n",
    "        # Update new belief for the current state\n",
    "        new_belief[current_state] = likelihood * prior\n",
    "\n",
    "    # Normalization constant (alpha)\n",
    "    alpha = 1.0 / np.sum(new_belief) if np.sum(new_belief) > 0 else 1.0\n",
    "\n",
    "    # Normalize new beliefs\n",
    "    new_belief *= alpha\n",
    "    #raise NotImplementedError()\n",
    "\n",
    "    return new_belief"
   ]
  },
  {
   "cell_type": "code",
   "execution_count": 12,
   "id": "665306f9",
   "metadata": {
    "ExecuteTime": {
     "end_time": "2024-10-19T12:09:41.477592Z",
     "start_time": "2024-10-19T12:09:41.436583Z"
    },
    "deletable": false,
    "editable": false,
    "nbgrader": {
     "cell_type": "code",
     "checksum": "c60ed737c9350ba1959f54f2f71d7519",
     "grade": true,
     "grade_id": "test_ChildEngagement_E0",
     "locked": true,
     "points": 15,
     "schema_version": 3,
     "solution": false,
     "task": false
    }
   },
   "outputs": [],
   "source": [
    "### This cell contains hidden tests for your solution"
   ]
  },
  {
   "cell_type": "markdown",
   "id": "e7a8dcdd",
   "metadata": {
    "deletable": false,
    "editable": false,
    "nbgrader": {
     "cell_type": "markdown",
     "checksum": "5a783a522a97530fe4d98b43c9ade8b8",
     "grade": false,
     "grade_id": "taskheader_2_6",
     "locked": true,
     "schema_version": 3,
     "solution": false,
     "task": false
    }
   },
   "source": [
    "## Task 2.6\n",
    "\n",
    "**[15 Point(s)]**"
   ]
  },
  {
   "cell_type": "markdown",
   "id": "54234bc3",
   "metadata": {
    "deletable": false,
    "editable": false,
    "nbgrader": {
     "cell_type": "markdown",
     "checksum": "552eb0307ebffb4f974e9aab59ba9eb9",
     "grade": false,
     "grade_id": "ChildEngagement_F_Description0",
     "locked": true,
     "schema_version": 3,
     "solution": false,
     "task": false
    }
   },
   "source": [
    "d) Your final task is to put everything together, namely learn the transition and observation models and then evaluate the filter on the test data. For this, we start with a uniform belief about the engagement and then run the recursive Bayes filter for all test observations to find the updated beliefs for all time steps.\n",
    "\n",
    "Once you have the beliefs, compare the filter's predictions with the ground-truth engagement annotations. To convert the belief at a given time step into an engagement prediction, simply check which of the belief estimates is larger (the prediction is 0 if the belief for 0 is larger, otherwise 1)."
   ]
  },
  {
   "cell_type": "code",
   "execution_count": 13,
   "id": "d6d85c5f",
   "metadata": {
    "ExecuteTime": {
     "end_time": "2024-10-19T12:09:41.650920Z",
     "start_time": "2024-10-19T12:09:41.481307Z"
    },
    "deletable": false,
    "nbgrader": {
     "cell_type": "code",
     "checksum": "54233c0eae7c05f9a4fa685124c01d69",
     "grade": false,
     "grade_id": "ChildEngagement_F",
     "locked": false,
     "schema_version": 3,
     "solution": true,
     "task": false
    }
   },
   "outputs": [
    {
     "name": "stdout",
     "output_type": "stream",
     "text": [
      "Prediction accuracy: 0.8794996170538678\n"
     ]
    }
   ],
   "source": [
    "transition_model = learn_transition_model(training_engagements)\n",
    "observation_model = learn_observation_model(discrete_training_data, training_engagements)\n",
    "\n",
    "# Initializing beliefs\n",
    "num_test_samples = discrete_test_data.shape[0]\n",
    "test_beliefs = np.zeros((discrete_test_data.shape[0]+1, 2))\n",
    "test_beliefs[0] = np.array([0.5, 0.5])\n",
    "\n",
    "# YOUR CODE HERE\n",
    "\n",
    "# run the Bayes filter to fill out test_beliefs with the estimated engagement beliefs given the test observations\n",
    "for t in range(num_test_samples):\n",
    "\n",
    "    observation = tuple(discrete_test_data[t])\n",
    "\n",
    "    previous_belief = test_beliefs[t]\n",
    "\n",
    "    new_belief = bayes_filter(observation, previous_belief, transition_model, observation_model)\n",
    "\n",
    "    test_beliefs[t + 1] = new_belief\n",
    "\n",
    "\n",
    "# estimate the prediction accuracy of the filter prediction_accuracy = 0.\n",
    "predictions = np.argmax(test_beliefs[1:], axis=1)  # Ignore the first entry (initial belief)\n",
    "prediction_accuracy = np.mean(predictions == test_engagements)\n",
    "print('Prediction accuracy: {0}'.format(prediction_accuracy))\n",
    "\n",
    "\n",
    "#raise NotImplementedError()"
   ]
  },
  {
   "cell_type": "code",
   "execution_count": 14,
   "id": "a47f012f",
   "metadata": {
    "ExecuteTime": {
     "end_time": "2024-10-19T12:09:41.657027Z",
     "start_time": "2024-10-19T12:09:41.653388Z"
    },
    "deletable": false,
    "editable": false,
    "nbgrader": {
     "cell_type": "code",
     "checksum": "c4bd716530bc09bec86a1c1b4a005d84",
     "grade": true,
     "grade_id": "test_ChildEngagement_F0",
     "locked": true,
     "points": 15,
     "schema_version": 3,
     "solution": false,
     "task": false
    }
   },
   "outputs": [],
   "source": [
    "### This cell contains hidden tests for your solution"
   ]
  },
  {
   "cell_type": "markdown",
   "id": "479c5c8d",
   "metadata": {
    "deletable": false,
    "editable": false,
    "nbgrader": {
     "cell_type": "markdown",
     "checksum": "5800165c59c26472e08afeeabc4b13d7",
     "grade": false,
     "grade_id": "ChildEngagement_G_description0",
     "locked": true,
     "schema_version": 3,
     "solution": false,
     "task": false
    }
   },
   "source": [
    "The following cell will plot the belief values for a child being engaged. If your implementation is correct, you should see the following plot:\n",
    "\n",
    "![Engagement belief vs. ground-truth](Assignment_02_Bayesian_Filtering_files/img/engagement_belief_vs_ground_truth.png)\n",
    "\n",
    "The prediction accuracy of the filter on the test data is around 82%."
   ]
  },
  {
   "cell_type": "code",
   "execution_count": 15,
   "id": "6fd62661",
   "metadata": {
    "ExecuteTime": {
     "end_time": "2024-10-19T12:09:42.127988Z",
     "start_time": "2024-10-19T12:09:41.662891Z"
    },
    "deletable": false,
    "editable": false,
    "nbgrader": {
     "cell_type": "code",
     "checksum": "021dcf2e1f91450c804353b4537af18b",
     "grade": false,
     "grade_id": "ChildEngagement_G",
     "locked": true,
     "schema_version": 3,
     "solution": false,
     "task": false
    }
   },
   "outputs": [
    {
     "data": {
      "image/png": "[encoded data removed]",
      "text/plain": [
       "<Figure size 2000x600 with 1 Axes>"
      ]
     },
     "metadata": {},
     "output_type": "display_data"
    }
   ],
   "source": [
    "plt.figure(1, figsize=(20, 6))\n",
    "plt.plot(test_engagements, color='g', label='Ground-truth')\n",
    "plt.plot(test_beliefs[:,1], color='r', label='Belief')\n",
    "plt.legend()\n",
    "plt.xlabel('t')\n",
    "plt.ylabel('Belief')\n",
    "plt.show()"
   ]
  },
  {
   "cell_type": "code",
   "execution_count": null,
   "id": "d00884f1",
   "metadata": {},
   "outputs": [],
   "source": []
  }
 ],
 "metadata": {
  "kernelspec": {
   "display_name": "Python 3 (ipykernel)",
   "language": "python",
   "name": "python3"
  },
  "language_info": {
   "codemirror_mode": {
    "name": "ipython",
    "version": 3
   },
   "file_extension": ".py",
   "mimetype": "text/x-python",
   "name": "python",
   "nbconvert_exporter": "python",
   "pygments_lexer": "ipython3",
   "version": "3.10.12"
  }
 },
 "nbformat": 4,
 "nbformat_minor": 5
}
