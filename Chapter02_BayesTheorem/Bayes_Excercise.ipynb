{
 "cells": [
  {
   "cell_type": "markdown",
   "id": "c940e089-c091-4953-a0ff-7e482a5bc69c",
   "metadata": {},
   "source": [
    "# MASCHINE DEFECT RATE"
   ]
  },
  {
   "cell_type": "markdown",
   "id": "36817a20-ec01-4b43-bea5-c8bb033a049f",
   "metadata": {},
   "source": [
    "Three machines A, B and C produce 60%, 30% and 10% of a certain type of screw respectively. The reject rate is 5%, 2% and 1% respectively. What is the probability that a defective screw comes from machine A?\n"
   ]
  },
  {
   "cell_type": "code",
   "execution_count": null,
   "id": "a17095d4-db32-4f81-b6d9-d2e78255da4b",
   "metadata": {},
   "outputs": [],
   "source": [
    "#dta Given \n",
    "\n",
    "Prior_A = 60/100\n",
    "Prior_B = 30/100\n",
    "Prior_C = 10/100\n",
    "\n",
    "#likelyhood\n",
    "P_Rej_A = 5/100\n",
    "P_Rej_B = 2/100\n",
    "P_Rej_C = 1/100\n",
    "\n",
    "P_A_Rej = \"Unknown\"\n",
    "\n",
    "#Using Bayes \n",
    "\n",
    "Rej = (P_Rej_A*Prior_A) + (P_Rej_B*Prior_B) + (P_Rej_C*Prior_C)\n",
    "#print(Rej)\n",
    "P_A_Rej = (P_Rej_A*Prior_A) / Rej\n",
    "P_B_Rej = (P_Rej_B*Prior_B) / Rej\n",
    "P_C_Rej = (P_Rej_C*Prior_C) / Rej\n",
    "\n",
    "print(\"Probability that a defective screw come from A is {}\".format(P_A_Rej))\n",
    "print(\"Probability that a defective screw come from B is {}\".format(P_B_Rej))\n",
    "print(\"Probability that a defective screw come from C is {}\".format(P_C_Rej))"
   ]
  },
  {
   "cell_type": "markdown",
   "id": "81a90c7f-6059-46a9-bd3c-72060313f585",
   "metadata": {},
   "source": [
    "# THE MONTY HALL PARADOX\n",
    "\n",
    "Suppose you are playing in a game show and you have a choice of three doors: behind one door is a car; behind the other, goats. You choose one door, say no. 1, and the showmaster, who knows what's behind the doors, opens another door, say no. 3, which has a goat. He tells you, \"Do you want to change your choice to door number two?\" Is it advantageous to change the door?"
   ]
  },
  {
   "cell_type": "code",
   "execution_count": 1,
   "id": "607707a5-bd66-411d-b691-7a3254be916f",
   "metadata": {},
   "outputs": [],
   "source": [
    "#assumption prior probabilities \n",
    "P_door_eins = P_door_zwei = P_door_drei = 1/3\n",
    "\n",
    "#likelyhood probability assume you selected one, and three dont have car   \n",
    "P_door_eins_eins = 1/3\n",
    "P_door_zwei_eins = 2/3\n",
    "P_door_drei_eins = 0\n"
   ]
  },
  {
   "cell_type": "markdown",
   "id": "40cddd34-66d7-489c-8479-4acfe47e9033",
   "metadata": {},
   "source": [
    "**Conclusion:** Switching doors increases your probability of winning the car from $\\frac{1}{3}$ to $\\frac{2}{3}$. Therefore, it is advantageous to switch."
   ]
  },
  {
   "cell_type": "markdown",
   "id": "1cd292f6-a2d3-4773-bad8-f8064b1c930d",
   "metadata": {},
   "source": [
    "#### Bayes is Superiror for atleast four reasons \n",
    "\n",
    "- iterative (Stacks up)\n",
    "- Uses previous knowledge in systematic way\n",
    "- Can reverse cause/effect relation\n",
    "- is more precise (on repeatation Many times)"
   ]
  },
  {
   "cell_type": "code",
   "execution_count": null,
   "id": "324a7e69-8a59-49a9-82ae-c90eba67840a",
   "metadata": {},
   "outputs": [],
   "source": []
  }
 ],
 "metadata": {
  "kernelspec": {
   "display_name": "Python 3 (ipykernel)",
   "language": "python",
   "name": "python3"
  },
  "language_info": {
   "codemirror_mode": {
    "name": "ipython",
    "version": 3
   },
   "file_extension": ".py",
   "mimetype": "text/x-python",
   "name": "python",
   "nbconvert_exporter": "python",
   "pygments_lexer": "ipython3",
   "version": "3.10.12"
  }
 },
 "nbformat": 4,
 "nbformat_minor": 5
}
