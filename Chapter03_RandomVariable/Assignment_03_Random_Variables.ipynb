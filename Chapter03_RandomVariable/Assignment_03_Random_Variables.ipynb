{
 "cells": [
  {
   "cell_type": "markdown",
   "id": "03415cb2",
   "metadata": {
    "deletable": false,
    "editable": false,
    "nbassignment": {
     "type": "header"
    },
    "nbgrader": {
     "cell_type": "markdown",
     "checksum": "fdefd62fc826f77414b58d875aad1347",
     "grade": false,
     "grade_id": "HeaderA",
     "locked": true,
     "schema_version": 3,
     "solution": false,
     "task": false
    }
   },
   "source": [
    "<div class=\"alert alert-block alert-info\">\n",
    "    <h1>Mathematics for Robotics and Control - SS24</h1>\n",
    "    <h3>General Information:</h3>\n",
    "    <p>Please do not add or delete any cells. Answers belong into the corresponding cells (below the question). If a function is given (either as a signature or a full function), you <b>should not change the name, arguments or return value</b> of the function.</p>\n",
    "    <p>If you encounter empty cells underneath the answer that can not be edited, please ignore them, they are for testing purposes.</p>\n",
    "    <p>When editing an assignment there can be the case that there are variables in the kernel. To make sure your assignment works, please restart the kernel and run all cells before submitting (e.g. via <i>Kernel -> Restart & Run All</i>).</p>\n",
    "    <p>Code cells where you are supposed to give your answer often include the line  <code>raise NotImplementedError</code>. This makes it easier to automatically grade answers. If you edit the cell please outcomment or delete this line.</p>\n",
    "    <h3>Submission:</h3>\n",
    "    <p>Please submit your notebook via the web interface (in the main view -> Assignments -> Submit). The assignments are due on <b>Sunday</b> at <b> 20:00 </b> CEST.</p>\n",
    "    <h3>Group Work:</h3>\n",
    "    <p>Group work is allowed! If you are working in a group, please write your student IDs (ending with -2s) in the designated cell below.</p>\n",
    "    <h3>Questions about the Assignment:</h3>\n",
    "    <p>If you have questions about the assignment please post them in the LEA forum before the deadline.</p>\n",
    "    \n",
    "</div>"
   ]
  },
  {
   "cell_type": "code",
   "execution_count": 6,
   "id": "0f243861",
   "metadata": {
    "ExecuteTime": {
     "end_time": "2024-10-25T23:24:05.108968Z",
     "start_time": "2024-10-25T23:24:05.104330Z"
    },
    "nbassignment": {
     "type": "group_info"
    }
   },
   "outputs": [],
   "source": [
    "# Please fill in the usernames of all your team members\n",
    "\n",
    "member1 = 'aarora2s'\n",
    "member2 = ''"
   ]
  },
  {
   "cell_type": "markdown",
   "id": "58373564",
   "metadata": {
    "deletable": false,
    "editable": false,
    "nbgrader": {
     "cell_type": "markdown",
     "checksum": "a6752f5f302cbc55529ec86c230c2fb5",
     "grade": false,
     "grade_id": "taskheader_1",
     "locked": true,
     "schema_version": 3,
     "solution": false,
     "task": false
    }
   },
   "source": [
    "# Task 1\n",
    "\n",
    "**[30 Point(s)]**"
   ]
  },
  {
   "cell_type": "markdown",
   "id": "e25aeb28",
   "metadata": {
    "deletable": false,
    "editable": false,
    "nbgrader": {
     "cell_type": "markdown",
     "checksum": "edd29febe37215a7bffdcefaff15f047",
     "grade": false,
     "grade_id": "CommonDiscreteRandomVariables_ACommonDiscreteRandomVariables_BCommonDiscreteRandomVariables_CCommonDiscreteRandomVariables_DCommonDiscreteRandomVariables_E_Header",
     "locked": true,
     "schema_version": 3,
     "solution": false,
     "task": false
    }
   },
   "source": [
    "## Common Discrete Random Variables [30 points]\n",
    "\n",
    "In this exercise, you will investigate some properties of a few common discrete random variables (please look at the lab class material for an introduction to these)."
   ]
  },
  {
   "cell_type": "markdown",
   "id": "db385fb3",
   "metadata": {
    "deletable": false,
    "editable": false,
    "nbgrader": {
     "cell_type": "markdown",
     "checksum": "891a6efe4726f94b17000853960c5d8f",
     "grade": false,
     "grade_id": "taskheader_1_1",
     "locked": true,
     "schema_version": 3,
     "solution": false,
     "task": false
    }
   },
   "source": [
    "## Task 1.1\n",
    "\n",
    "**[5 Point(s)]**"
   ]
  },
  {
   "cell_type": "markdown",
   "id": "61f330eb",
   "metadata": {
    "deletable": false,
    "editable": false,
    "nbgrader": {
     "cell_type": "markdown",
     "checksum": "9ede45c4b1a57df102bdf874870c1667",
     "grade": false,
     "grade_id": "CommonDiscreteRandomVariables_A_Description0",
     "locked": true,
     "schema_version": 3,
     "solution": false,
     "task": false
    }
   },
   "source": [
    "### Dart-throwing Robot\n",
    "\n",
    "Let's suppose that we have a robot throwing darts at a dartboard. A dartboard is divided into 20 equal regions for points from 1 to 20 (for the sake of this problem, we will ignore the bullseye and the regions for doubles and triples). Our robot is not very proficient at playing the game: we know that each throw will finish on the board (hitting any of the regions is equally likely). The game will end when 20 is hit for the first time.\n",
    "\n",
    "Calculate the <u>***expected number of throws***</u> for the robot to finally hit a 20.\n",
    "\n",
    "<!-- subtasks: -->\n",
    "<!-- - Let $Y$ denote the random variable (RV) of this experiment. What is $Range(Y) = ?$ -->\n",
    "<!-- - Let $p_Y(i)$ denote the probability mass function of $Y$. Determine $p_Y(i)$ in general and then $p_Y(5)$. -->\n",
    "<!-- - calculate $E[Y]$! -->\n",
    "\n"
   ]
  },
  {
   "cell_type": "code",
   "execution_count": 1,
   "id": "89e4257f",
   "metadata": {
    "ExecuteTime": {
     "end_time": "2024-10-25T23:24:26.092758Z",
     "start_time": "2024-10-25T23:24:26.085535Z"
    },
    "deletable": false,
    "nbgrader": {
     "cell_type": "code",
     "checksum": "d67c11bac7f0a020258e3566a8dd7a97",
     "grade": false,
     "grade_id": "CommonDiscreteRandomVariables_A",
     "locked": false,
     "schema_version": 3,
     "solution": true,
     "task": false
    }
   },
   "outputs": [
    {
     "name": "stdout",
     "output_type": "stream",
     "text": [
      "Expected throws for robot hitting a 20 = 20.0\n"
     ]
    }
   ],
   "source": [
    "from sympy import ImageSet, S, Lambda\n",
    "from sympy.abc import i,p,k\n",
    "import sympy as sy\n",
    "\n",
    "P_20 = 1/20\n",
    "## Wichtig : The geometric distribution models the number of trials needed to achieve the first success \n",
    "## in a series of independent Bernoulli trials.\n",
    "# Please assign the expected number of the following variable\n",
    "\n",
    "expected_throws = 1/P_20 # Formula for the Expected value of geometric distribution \n",
    "print(\"Expected throws for robot hitting a 20 =\", expected_throws)\n",
    "\n",
    "#raise NotImplementedError()"
   ]
  },
  {
   "cell_type": "code",
   "execution_count": 8,
   "id": "256112d2",
   "metadata": {
    "ExecuteTime": {
     "end_time": "2024-10-25T23:24:05.414636Z",
     "start_time": "2024-10-25T23:24:05.379609Z"
    },
    "deletable": false,
    "editable": false,
    "nbgrader": {
     "cell_type": "code",
     "checksum": "48a643d2f5097e22656d527814861233",
     "grade": true,
     "grade_id": "test_CommonDiscreteRandomVariables_A0",
     "locked": true,
     "points": 5,
     "schema_version": 3,
     "solution": false,
     "task": false
    }
   },
   "outputs": [],
   "source": [
    "### This cell contains automated tests for your solution\n"
   ]
  },
  {
   "cell_type": "markdown",
   "id": "23b7e8df",
   "metadata": {
    "deletable": false,
    "editable": false,
    "nbgrader": {
     "cell_type": "markdown",
     "checksum": "0cd2a4c845d83576c19a4271f591e661",
     "grade": false,
     "grade_id": "taskheader_1_2",
     "locked": true,
     "schema_version": 3,
     "solution": false,
     "task": false
    }
   },
   "source": [
    "## Task 1.2\n",
    "\n",
    "**[10 Point(s)]**"
   ]
  },
  {
   "cell_type": "markdown",
   "id": "b7718d7a",
   "metadata": {
    "deletable": false,
    "editable": false,
    "nbgrader": {
     "cell_type": "markdown",
     "checksum": "dab9321dc78ae998ffe225dcf535eafd",
     "grade": false,
     "grade_id": "CommonDiscreteRandomVariables_B_Description0",
     "locked": true,
     "schema_version": 3,
     "solution": false,
     "task": false
    }
   },
   "source": [
    "### Power system\n",
    "\n",
    "In the analysis of randomised algorithms, we often talk about *indicator random variables*. For a certain event of interest $A$, an indicator random variable $\\mathbb{1}$ is one that takes the values $1$ and $0$ with probabilities $P(A)$ and $1 - P(A)$ respectively; indicator random variables are thus Bernoulli random variables. Indicator random variables can often simplify the calculation of what could otherwise can be a relatively complicated problem.\n",
    "\n",
    "Observe:\n",
    "$$\n",
    "\\mathbb{1}_A(\\omega)=\\left\\{\\begin{array}{lll}\n",
    "1, & \\text { falls } & \\omega \\in A, \\\\\n",
    "0, & \\text { falls } & \\omega \\notin A .\n",
    "\\end{array}\\right.\n",
    "$$\n",
    "and as a consequence: \n",
    "$$\n",
    "\\begin{eqnarray}\n",
    "\\mathbb{1}_{A^c}&=&1-\\mathbb{1}_A \\\\\n",
    "\\mathbb{1}_{A \\cap B}&=&\\mathbb{1}_A \\mathbb{1}_B \\\\\n",
    "\\mathbb{1}_A^2&=&\\mathbb{1}_A \\\\\n",
    "A \\subset B &\\Longleftrightarrow& \\mathbb{1}_A \\leq 1_B \\\\\n",
    "A \\cap B=\\emptyset &\\Rightarrow& \\mathbb{1}_{A \\cup B}=\\mathbb{1}_A+\\mathbb{1}_B \\\\\n",
    "E[\\mathbb{1}_A]&=&P(A)\n",
    "\\end{eqnarray}\n",
    "$$\n",
    "\n",
    "Let's suppose that we running a doubly redundant web cluster (see below). \n",
    "<img src=\"./Assignment_03_Random_Variables_files/img/HeizungsFaults.png\"/>\n",
    "\n",
    "The two Server nodes (4) and (5) are either getting regular power supply (from (1) or (2)) or emergency power from the UPS (3). The event $OUT$ happens when ***on at least one pathway*** $W_1, ..., W_5$ we are connected from to $IN$ to $OUT$. A pathway $W_i$ is working if all its nodes are connected. A node connect event is called $B_i$ and happens with probability $q_i = 1 - p_i = P(B_i)$ (i.e $p_i$ denotes the probability of disconnection)."
   ]
  },
  {
   "cell_type": "markdown",
   "id": "42408208",
   "metadata": {
    "deletable": false,
    "editable": false,
    "nbgrader": {
     "cell_type": "markdown",
     "checksum": "451a67a297cc40e30f5d828f9ff4d16c",
     "grade": false,
     "grade_id": "CommonDiscreteRandomVariables_B_Description1",
     "locked": true,
     "schema_version": 3,
     "solution": false,
     "task": false
    }
   },
   "source": [
    "First give a general equation for $P(OUT)$ using indicator functions for nodes and pathways.  \n",
    "\n",
    "**Hint**: use DeMorgan, and reason through steps if possible!"
   ]
  },
  {
   "cell_type": "markdown",
   "id": "04596714",
   "metadata": {
    "deletable": false,
    "nbgrader": {
     "cell_type": "markdown",
     "checksum": "a923cbf4a37b1f524a7f11a25d49bd8b",
     "grade": true,
     "grade_id": "CommonDiscreteRandomVariables_B",
     "locked": false,
     "points": 10,
     "schema_version": 3,
     "solution": true,
     "task": false
    }
   },
   "source": [
    "## Answer\n",
    "#### General Obseration \n",
    "$$ P(OUT) = \\{ W_{1} \\cup W_{2} \\cup W_{3} \\cup W_{4} \\cup W_{5} \\}  $$\n",
    "\n",
    "but, we are given: A node connect event is called $B_i$ and happens with probability $q_i = 1 - p_i = P(B_i)$ \n",
    "\n",
    "$$P(OUT) = 1 - P(B_i)$$ ,(A node is connected)\n",
    "\n",
    "$$P(OUT) = 1 - (1 - p_i)$$ , here $p_i $ is $ \\prod_{j \\in W_i} q_j $ and for i = 5 considering any one of them is failed \n",
    "\n",
    "\n",
    "$$\n",
    "P(OUT) = 1 - \\prod_{i=1}^{5} \\left( 1 - \\prod_{j \\in W_i} q_j \\right)\n",
    "$$\n"
   ]
  },
  {
   "cell_type": "markdown",
   "id": "d091d230",
   "metadata": {
    "deletable": false,
    "editable": false,
    "nbgrader": {
     "cell_type": "markdown",
     "checksum": "fa44e9db9b85976da9f6dc04d2db729b",
     "grade": false,
     "grade_id": "taskheader_1_3",
     "locked": true,
     "schema_version": 3,
     "solution": false,
     "task": false
    }
   },
   "source": [
    "## Task 1.3\n",
    "\n",
    "**[5 Point(s)]**"
   ]
  },
  {
   "cell_type": "markdown",
   "id": "e610ea4b",
   "metadata": {
    "deletable": false,
    "editable": false,
    "nbgrader": {
     "cell_type": "markdown",
     "checksum": "111f031fd62b6ec71042621c9deee267",
     "grade": false,
     "grade_id": "CommonDiscreteRandomVariables_C_Description0",
     "locked": true,
     "schema_version": 3,
     "solution": false,
     "task": false
    }
   },
   "source": [
    "Then calculate $P(OUT)$ using $p_i = 0.8, \\  \\forall i$"
   ]
  },
  {
   "cell_type": "code",
   "execution_count": 3,
   "id": "fc62488a",
   "metadata": {
    "ExecuteTime": {
     "end_time": "2024-10-26T17:38:00.492958Z",
     "start_time": "2024-10-26T17:38:00.489505Z"
    },
    "deletable": false,
    "nbgrader": {
     "cell_type": "code",
     "checksum": "8e11eb3cbda6c3500483ca916ed55cca",
     "grade": false,
     "grade_id": "CommonDiscreteRandomVariables_C",
     "locked": false,
     "schema_version": 3,
     "solution": true,
     "task": false
    }
   },
   "outputs": [
    {
     "data": {
      "text/plain": [
       "0.6723199999999998"
      ]
     },
     "execution_count": 3,
     "metadata": {},
     "output_type": "execute_result"
    }
   ],
   "source": [
    "# Given probability of disconnection for each connection\n",
    "p_i = 0.8  # Probability of disconnection\n",
    "q_i = 1 - p_i  # Probability of connection working\n",
    "\n",
    "# Each of the 5 independent connections\n",
    "P_W1 = q_i  # Connection between 1 and 4\n",
    "P_W2 = q_i  # Connection between 3 and 4\n",
    "P_W3 = q_i  # Connection between 3 and 5\n",
    "P_W4 = q_i  # Connection between 3 and 4 (again)\n",
    "P_W5 = q_i  # Connection between 2 and 5\n",
    "\n",
    "# Compute probability of failure for each connection\n",
    "P_W1_fail = 1 - P_W1\n",
    "P_W2_fail = 1 - P_W2\n",
    "P_W3_fail = 1 - P_W3\n",
    "P_W4_fail = 1 - P_W4\n",
    "P_W5_fail = 1 - P_W5\n",
    "\n",
    "# Compute probability that all connections fail\n",
    "P_all_fail = P_W1_fail * P_W2_fail * P_W3_fail * P_W4_fail * P_W5_fail\n",
    "\n",
    "# Compute probability that at least one connection works (P(OUT))\n",
    "P_OUT = 1 - P_all_fail\n",
    "\n",
    "# Display the result\n",
    "P_OUT\n"
   ]
  },
  {
   "cell_type": "code",
   "execution_count": null,
   "id": "8bf20727",
   "metadata": {
    "ExecuteTime": {
     "end_time": "2024-10-25T23:24:05.492405Z",
     "start_time": "2024-10-25T23:24:05.492378Z"
    },
    "deletable": false,
    "editable": false,
    "nbgrader": {
     "cell_type": "code",
     "checksum": "2cba3a64f1553de9fd4e2ab8a89bc6cf",
     "grade": true,
     "grade_id": "test_CommonDiscreteRandomVariables_C0",
     "locked": true,
     "points": 5,
     "schema_version": 3,
     "solution": false,
     "task": false
    }
   },
   "outputs": [],
   "source": [
    "### This cell contains automated tests for your solution\n"
   ]
  },
  {
   "cell_type": "markdown",
   "id": "21441c50",
   "metadata": {
    "deletable": false,
    "editable": false,
    "nbgrader": {
     "cell_type": "markdown",
     "checksum": "e389341d43e628e2d0514d78208c46fb",
     "grade": false,
     "grade_id": "taskheader_1_4",
     "locked": true,
     "schema_version": 3,
     "solution": false,
     "task": false
    }
   },
   "source": [
    "## Task 1.4\n",
    "\n",
    "**[5 Point(s)]**"
   ]
  },
  {
   "cell_type": "markdown",
   "id": "b258322e",
   "metadata": {
    "deletable": false,
    "editable": false,
    "nbgrader": {
     "cell_type": "markdown",
     "checksum": "7df900647aaea9e490c12d45dd340c62",
     "grade": false,
     "grade_id": "CommonDiscreteRandomVariables_D_Description0",
     "locked": true,
     "schema_version": 3,
     "solution": false,
     "task": false
    }
   },
   "source": [
    "### Bernoulli Random Variables\n",
    "\n",
    "Find the mean and variance of a Bernoulli random variable which is a random variable with two states $0$ and $1$ given via the probability function\n",
    "$$\n",
    "p(0) = 1-p$$\n",
    "\n",
    "$$p(1) = p\n",
    "$$."
   ]
  },
  {
   "cell_type": "markdown",
   "id": "40f8ddf0",
   "metadata": {
    "deletable": false,
    "nbgrader": {
     "cell_type": "markdown",
     "checksum": "a5745f8683b34346bddfcfeb7f1df5bc",
     "grade": true,
     "grade_id": "CommonDiscreteRandomVariables_D",
     "locked": false,
     "points": 5,
     "schema_version": 3,
     "solution": true,
     "task": false
    }
   },
   "source": [
    "Mean = $E[X]$ = p(0) * 0 + p(1) * 1 = 0 + p = p \n",
    "\n",
    "$ E[X^2] $ = $E[X]$ = p\n",
    "\n",
    "$(E[X])^2 $ =  $p^2$\n",
    "\n",
    "Variance = $ E[X^2] - (E[X])^2 $ = $ p - p^2 $ = $p(1-p)$"
   ]
  },
  {
   "cell_type": "markdown",
   "id": "62cd6e74",
   "metadata": {
    "deletable": false,
    "editable": false,
    "nbgrader": {
     "cell_type": "markdown",
     "checksum": "4dc7dd3e3be67af48424a153df751860",
     "grade": false,
     "grade_id": "taskheader_1_5",
     "locked": true,
     "schema_version": 3,
     "solution": false,
     "task": false
    }
   },
   "source": [
    "## Task 1.5\n",
    "\n",
    "**[5 Point(s)]**"
   ]
  },
  {
   "cell_type": "markdown",
   "id": "ff90e25d",
   "metadata": {
    "deletable": false,
    "editable": false,
    "nbgrader": {
     "cell_type": "markdown",
     "checksum": "3b0b3cb20d371b01d1cdd3c8d74101cc",
     "grade": false,
     "grade_id": "CommonDiscreteRandomVariables_E_Description0",
     "locked": true,
     "schema_version": 3,
     "solution": false,
     "task": false
    }
   },
   "source": [
    "### Geometric Random Variables\n",
    "\n",
    "Find the mean of a geometric random variable which is a random variable from $\\{0, 1, ...\\}$ with a parameter $p$ that defines its probability function\n",
    "$$\n",
    "p(k) = (1 - p)^{k-1} p\n",
    "$$\n",
    "\n",
    "Additional information: Geometric random variables describe the number of trials one needs before the first success.  \n",
    "Hint: when building the expected value $E[B]$ you might want to consider: $\\tfrac{d}{dp} (1-p)^k = - k(1-p)^{k-1}$"
   ]
  },
  {
   "cell_type": "markdown",
   "id": "14964a2c",
   "metadata": {
    "deletable": false,
    "nbgrader": {
     "cell_type": "markdown",
     "checksum": "d8fb654e0e7aa22226a90bb1bd0ec0a3",
     "grade": true,
     "grade_id": "CommonDiscreteRandomVariables_E",
     "locked": false,
     "points": 5,
     "schema_version": 3,
     "solution": true,
     "task": false
    }
   },
   "source": [
    "### Answer\n",
    "\n",
    "Please write your answer here!\n",
    "\n",
    "$ E[B] = p \\sum_{k=1}^{\\infty} k.{(1-p)}^{k-1} $\n",
    "\n",
    "Using the identity for the sum of a series for |x| < 1:\n",
    "\n",
    "$ \\sum_{k=1}^{\\infty} k.{x}^{k-1} = \\frac{1}{(1-x)^2} $\n",
    "\n",
    "Substituting x = 1-p,\n",
    "\n",
    "$ \\sum_{k=1}^{\\infty} k.{(1- p)}^{k-1} = \\frac{1}{p^2} $\n",
    "\n",
    "Substituting in $E[B]$ we  get,\n",
    "\n",
    "$E[B] = p.\\frac{1}{p^2} = \\frac{1}{p}$\n"
   ]
  },
  {
   "cell_type": "markdown",
   "id": "70731901",
   "metadata": {
    "deletable": false,
    "editable": false,
    "nbgrader": {
     "cell_type": "markdown",
     "checksum": "cada680616327e83f09a256cd569a6bb",
     "grade": false,
     "grade_id": "taskheader_2",
     "locked": true,
     "schema_version": 3,
     "solution": false,
     "task": false
    }
   },
   "source": [
    "# Task 2\n",
    "\n",
    "**[25 Point(s)]**"
   ]
  },
  {
   "cell_type": "markdown",
   "id": "06b80177",
   "metadata": {
    "deletable": false,
    "editable": false,
    "nbgrader": {
     "cell_type": "markdown",
     "checksum": "cd5cd22e946cd9832337fe75f21ac9bc",
     "grade": false,
     "grade_id": "FootballEuropeanChampionship_AFootballEuropeanChampionship_BFootballEuropeanChampionship_CFootballEuropeanChampionship_D_Header",
     "locked": true,
     "schema_version": 3,
     "solution": false,
     "task": false
    }
   },
   "source": [
    "##  Football European Championship\n",
    "\n",
    "You are following the ongoing football European championship and you want to make some predictions about your favourite team in the group stage. In the group stage, each team plays against three opponents, such that, as usual, $3$ points are obtained for a victory, $1$ points for a draw, and $0$ points for a loss. Your team is in a particularly strong group, such that it can win each match with a $65\\%$ probability and play a draw with a $20\\%$ probability, regardless of the outcomes in the other matches."
   ]
  },
  {
   "cell_type": "markdown",
   "id": "52c0209a",
   "metadata": {
    "deletable": false,
    "editable": false,
    "nbgrader": {
     "cell_type": "markdown",
     "checksum": "816344473d001b8716d3feff9653ba57",
     "grade": false,
     "grade_id": "taskheader_2_1",
     "locked": true,
     "schema_version": 3,
     "solution": false,
     "task": false
    }
   },
   "source": [
    "## Task 2.1\n",
    "\n",
    "**[10 Point(s)]**"
   ]
  },
  {
   "cell_type": "code",
   "execution_count": 4,
   "id": "b1a5da84",
   "metadata": {
    "ExecuteTime": {
     "end_time": "2024-10-25T23:24:34.815299Z",
     "start_time": "2024-10-25T23:24:34.810805Z"
    },
    "deletable": false,
    "editable": false,
    "nbgrader": {
     "cell_type": "code",
     "checksum": "0fe7b7bf685470bddcb92c2d19731625",
     "grade": false,
     "grade_id": "FootballEuropeanChampionship_A_Description0",
     "locked": true,
     "schema_version": 3,
     "solution": false,
     "task": false
    }
   },
   "outputs": [],
   "source": [
    "import numpy as np\n",
    "import matplotlib.pyplot as plt\n",
    "from scipy.special import binom, factorial, gamma"
   ]
  },
  {
   "cell_type": "markdown",
   "id": "21fcf8c0",
   "metadata": {
    "deletable": false,
    "editable": false,
    "nbgrader": {
     "cell_type": "markdown",
     "checksum": "c7774e433b78669218a7c106c6e43da8",
     "grade": false,
     "grade_id": "FootballEuropeanChampionship_A_Description1",
     "locked": true,
     "schema_version": 3,
     "solution": false,
     "task": false
    }
   },
   "source": [
    "### Calculate probability distribution\n",
    "\n",
    "Find the probability distribution of obtained points in the group."
   ]
  },
  {
   "cell_type": "code",
   "execution_count": 18,
   "id": "59291446",
   "metadata": {
    "ExecuteTime": {
     "end_time": "2024-10-25T23:25:23.257481Z",
     "start_time": "2024-10-25T23:25:23.251385Z"
    },
    "deletable": false,
    "nbgrader": {
     "cell_type": "code",
     "checksum": "78b9e58db7e4c135f3e31c75bc8671cd",
     "grade": false,
     "grade_id": "FootballEuropeanChampionship_A",
     "locked": false,
     "schema_version": 3,
     "solution": true,
     "task": false
    }
   },
   "outputs": [
    {
     "name": "stdout",
     "output_type": "stream",
     "text": [
      "[('W', 'W', 'W'), ('W', 'W', 'D'), ('W', 'W', 'L'), ('W', 'D', 'W'), ('W', 'D', 'D'), ('W', 'D', 'L'), ('W', 'L', 'W'), ('W', 'L', 'D'), ('W', 'L', 'L'), ('D', 'W', 'W'), ('D', 'W', 'D'), ('D', 'W', 'L'), ('D', 'D', 'W'), ('D', 'D', 'D'), ('D', 'D', 'L'), ('D', 'L', 'W'), ('D', 'L', 'D'), ('D', 'L', 'L'), ('L', 'W', 'W'), ('L', 'W', 'D'), ('L', 'W', 'L'), ('L', 'D', 'W'), ('L', 'D', 'D'), ('L', 'D', 'L'), ('L', 'L', 'W'), ('L', 'L', 'D'), ('L', 'L', 'L')]\n",
      "Probability distribution of total points:  [0.003375 0.0135   0.018    0.051875 0.117    0.078    0.190125 0.2535\n",
      " 0.       0.274625]\n"
     ]
    }
   ],
   "source": [
    "from itertools import product\n",
    "\n",
    "P_win = 0.65  # Probability of winning a match\n",
    "P_draw = 0.20  # Probability of drawing a match\n",
    "P_loss = 1 - (P_win + P_draw)  # Probability of losing a match\n",
    "\n",
    "# Points for each outcome\n",
    "points = {'W': 3, 'D': 1, 'L': 0}\n",
    "\n",
    "# Generate all possible outcomes for 3 matches\n",
    "outcomes = list(product(['W', 'D', 'L'], repeat=3))\n",
    "\n",
    "print(outcomes)\n",
    "distribution={}\n",
    "for result in outcomes:\n",
    "    \n",
    "    total_points = sum(points[r] for r in result)\n",
    "    prob = (P_win ** result.count('W')) * (P_draw ** result.count('D')) * (P_loss ** result.count('L'))\n",
    "    distribution[total_points] = distribution.get(total_points, 0) + prob\n",
    "    \n",
    "    \n",
    "#probability distribution\n",
    "print(\"Probability distribution of total points: \", point_dist)\n",
    "    \n",
    "#raise NotImplementedError()"
   ]
  },
  {
   "cell_type": "code",
   "execution_count": 13,
   "id": "6d14c2c8",
   "metadata": {
    "ExecuteTime": {
     "end_time": "2024-10-25T23:25:27.352087Z",
     "start_time": "2024-10-25T23:25:27.136934Z"
    },
    "deletable": false,
    "editable": false,
    "nbgrader": {
     "cell_type": "code",
     "checksum": "356a06349f7437d8f40a13303cb67164",
     "grade": false,
     "grade_id": "FootballEuropeanChampionship_A_Description2",
     "locked": true,
     "schema_version": 3,
     "solution": false,
     "task": false
    }
   },
   "outputs": [
    {
     "data": {
      "image/png": "[encoded data removed]",
      "text/plain": [
       "<Figure size 432x288 with 1 Axes>"
      ]
     },
     "metadata": {
      "needs_background": "light"
     },
     "output_type": "display_data"
    }
   ],
   "source": [
    "# Plotting the distribution as a bar plot\n",
    "plt.bar(np.arange(0, 10), point_dist)\n",
    "plt.show()"
   ]
  },
  {
   "cell_type": "code",
   "execution_count": null,
   "id": "c64ee225",
   "metadata": {
    "ExecuteTime": {
     "end_time": "2024-10-25T23:24:05.501639Z",
     "start_time": "2024-10-25T23:24:05.501597Z"
    },
    "deletable": false,
    "editable": false,
    "nbgrader": {
     "cell_type": "code",
     "checksum": "6d7dbbab59c865848856d7554ec82b4a",
     "grade": true,
     "grade_id": "test_FootballEuropeanChampionship_A0",
     "locked": true,
     "points": 10,
     "schema_version": 3,
     "solution": false,
     "task": false
    }
   },
   "outputs": [],
   "source": [
    "### This cell contains automated tests for your solution\n"
   ]
  },
  {
   "cell_type": "markdown",
   "id": "e46c5e74",
   "metadata": {
    "deletable": false,
    "editable": false,
    "nbgrader": {
     "cell_type": "markdown",
     "checksum": "a183b8cba1605e5808b21cbde2cb71eb",
     "grade": false,
     "grade_id": "taskheader_2_2",
     "locked": true,
     "schema_version": 3,
     "solution": false,
     "task": false
    }
   },
   "source": [
    "## Task 2.2\n",
    "\n",
    "**[5 Point(s)]**"
   ]
  },
  {
   "cell_type": "markdown",
   "id": "be439c75",
   "metadata": {
    "deletable": false,
    "editable": false,
    "nbgrader": {
     "cell_type": "markdown",
     "checksum": "055c90b53d20b4409665d11a72b9827f",
     "grade": false,
     "grade_id": "FootballEuropeanChampionship_B_Description0",
     "locked": true,
     "schema_version": 3,
     "solution": false,
     "task": false
    }
   },
   "source": [
    "### Find expected points $E[Points]$ \n",
    "\n",
    "What is the expected number of points that your team will obtain?"
   ]
  },
  {
   "cell_type": "code",
   "execution_count": 22,
   "id": "95f0422d",
   "metadata": {
    "ExecuteTime": {
     "end_time": "2024-10-25T23:25:37.317998Z",
     "start_time": "2024-10-25T23:25:37.313569Z"
    },
    "deletable": false,
    "nbgrader": {
     "cell_type": "code",
     "checksum": "8b9df4c6a344b0a9a1fc02fe20747741",
     "grade": false,
     "grade_id": "FootballEuropeanChampionship_B",
     "locked": false,
     "schema_version": 3,
     "solution": true,
     "task": false
    }
   },
   "outputs": [
    {
     "name": "stdout",
     "output_type": "stream",
     "text": [
      "[0.003375 0.0135   0.018    0.051875 0.117    0.078    0.190125 0.2535\n",
      " 0.       0.274625]\n",
      "0 0.003375\n",
      "1 0.013499999999999998\n",
      "2 0.018000000000000002\n",
      "3 0.051875\n",
      "4 0.11700000000000002\n",
      "5 0.07800000000000001\n",
      "6 0.190125\n",
      "7 0.25350000000000006\n",
      "8 0.0\n",
      "9 0.27462500000000006\n",
      "Expected number of points = 6.450000000000001\n"
     ]
    }
   ],
   "source": [
    "# Assign your result to the following variable\n",
    "expected_number_of_points = 0\n",
    "print(point_dist)\n",
    "# YOUR CODE HERE\n",
    "for point, probablities in enumerate(point_dist):\n",
    "    print(point, probablities)\n",
    "    expected_number_of_points += point * probablities  # Accumulate the weighted sum\n",
    "\n",
    "print('Expected number of points = {0}'.format(expected_number_of_points))\n",
    "\n",
    "#raise NotImplementedError()"
   ]
  },
  {
   "cell_type": "code",
   "execution_count": null,
   "id": "f63357c4",
   "metadata": {
    "ExecuteTime": {
     "end_time": "2024-10-25T23:24:05.506970Z",
     "start_time": "2024-10-25T23:24:05.506953Z"
    },
    "deletable": false,
    "editable": false,
    "nbgrader": {
     "cell_type": "code",
     "checksum": "181ffbff558d741a8f4a7bfbfee87dc1",
     "grade": true,
     "grade_id": "test_FootballEuropeanChampionship_B0",
     "locked": true,
     "points": 5,
     "schema_version": 3,
     "solution": false,
     "task": false
    }
   },
   "outputs": [],
   "source": [
    "### This cell contains automated tests for your solution\n"
   ]
  },
  {
   "cell_type": "markdown",
   "id": "3b449cca",
   "metadata": {
    "deletable": false,
    "editable": false,
    "nbgrader": {
     "cell_type": "markdown",
     "checksum": "a32d9434328f3e5d26d17e9cc7701d20",
     "grade": false,
     "grade_id": "taskheader_2_3",
     "locked": true,
     "schema_version": 3,
     "solution": false,
     "task": false
    }
   },
   "source": [
    "## Task 2.3\n",
    "\n",
    "**[5 Point(s)]**"
   ]
  },
  {
   "cell_type": "markdown",
   "id": "e34a3993",
   "metadata": {
    "deletable": false,
    "editable": false,
    "nbgrader": {
     "cell_type": "markdown",
     "checksum": "0125af4ed4f7de48ada70393f392928a",
     "grade": false,
     "grade_id": "FootballEuropeanChampionship_C_Description0",
     "locked": true,
     "schema_version": 3,
     "solution": false,
     "task": false
    }
   },
   "source": [
    "### Cumulative Distribution Function\n",
    "\n",
    "What is the CDF of the points obtained by your team?\n",
    "\n",
    "You may not use any built-in library functions for calculating your answer!"
   ]
  },
  {
   "cell_type": "code",
   "execution_count": 16,
   "id": "9a40dc78",
   "metadata": {
    "ExecuteTime": {
     "end_time": "2024-10-25T23:25:45.493968Z",
     "start_time": "2024-10-25T23:25:45.485481Z"
    },
    "deletable": false,
    "nbgrader": {
     "cell_type": "code",
     "checksum": "ea52ebbe1deab6877dfc4fcecc627156",
     "grade": false,
     "grade_id": "FootballEuropeanChampionship_C",
     "locked": false,
     "schema_version": 3,
     "solution": true,
     "task": false
    }
   },
   "outputs": [
    {
     "name": "stdout",
     "output_type": "stream",
     "text": [
      "CDF of points obtained by the team: [0.003375 0.016875 0.034875 0.08675  0.20375  0.28175  0.471875 0.725375\n",
      " 0.725375 1.      ]\n"
     ]
    }
   ],
   "source": [
    "# Assign your result to the following variable\n",
    "point_cdf = np.zeros(10)\n",
    "\n",
    "# YOUR CODE HERE\n",
    "c_prob = 0.0  #initializing cumulative probability\n",
    "for i in range(len(point_dist)):\n",
    "    c_prob += point_dist[i]  # Add the probability for the current point\n",
    "    point_cdf[i] = c_prob  # store the cumulative probability in the CDF array\n",
    "\n",
    "# CDF\n",
    "print('CDF of points obtained by the team:', point_cdf)\n",
    "\n",
    "#raise NotImplementedError()"
   ]
  },
  {
   "cell_type": "code",
   "execution_count": 17,
   "id": "c55a6df9",
   "metadata": {
    "ExecuteTime": {
     "end_time": "2024-10-25T23:25:46.727102Z",
     "start_time": "2024-10-25T23:25:46.569449Z"
    },
    "deletable": false,
    "editable": false,
    "nbgrader": {
     "cell_type": "code",
     "checksum": "2d5dbaab05d50e1cd651935535b0dd1f",
     "grade": false,
     "grade_id": "FootballEuropeanChampionship_C_Description1",
     "locked": true,
     "schema_version": 3,
     "solution": false,
     "task": false
    }
   },
   "outputs": [
    {
     "data": {
      "image/png": "[encoded data removed]",
      "text/plain": [
       "<Figure size 640x480 with 1 Axes>"
      ]
     },
     "metadata": {},
     "output_type": "display_data"
    }
   ],
   "source": [
    "# Plotting the distribution as a bar plot\n",
    "plt.bar(np.arange(0, len(point_dist)), point_cdf)\n",
    "plt.show()"
   ]
  },
  {
   "cell_type": "code",
   "execution_count": null,
   "id": "3232f524",
   "metadata": {
    "ExecuteTime": {
     "end_time": "2024-10-25T23:24:05.515020Z",
     "start_time": "2024-10-25T23:24:05.514995Z"
    },
    "deletable": false,
    "editable": false,
    "nbgrader": {
     "cell_type": "code",
     "checksum": "a10ff582b4e66f6164288e7b84030683",
     "grade": true,
     "grade_id": "test_FootballEuropeanChampionship_C0",
     "locked": true,
     "points": 5,
     "schema_version": 3,
     "solution": false,
     "task": false
    }
   },
   "outputs": [],
   "source": [
    "### This cell contains automated tests for your solution\n"
   ]
  },
  {
   "cell_type": "markdown",
   "id": "19baae5a",
   "metadata": {
    "deletable": false,
    "editable": false,
    "nbgrader": {
     "cell_type": "markdown",
     "checksum": "63acc2e865e433d2fd40cabff95f50fb",
     "grade": false,
     "grade_id": "taskheader_2_4",
     "locked": true,
     "schema_version": 3,
     "solution": false,
     "task": false
    }
   },
   "source": [
    "## Task 2.4\n",
    "\n",
    "**[5 Point(s)]**"
   ]
  },
  {
   "cell_type": "markdown",
   "id": "19dcb313",
   "metadata": {
    "deletable": false,
    "editable": false,
    "nbgrader": {
     "cell_type": "markdown",
     "checksum": "7148c875b8c682a5057e52ec26976f6f",
     "grade": false,
     "grade_id": "FootballEuropeanChampionship_D_Description0",
     "locked": true,
     "schema_version": 3,
     "solution": false,
     "task": false
    }
   },
   "source": [
    "### Compute the probability\n",
    "\n",
    "What is the probability that your team will obtain more than $6$ points in the group?"
   ]
  },
  {
   "cell_type": "code",
   "execution_count": 17,
   "id": "e3656a81",
   "metadata": {
    "ExecuteTime": {
     "end_time": "2024-10-25T23:25:51.198680Z",
     "start_time": "2024-10-25T23:25:51.190333Z"
    },
    "deletable": false,
    "nbgrader": {
     "cell_type": "code",
     "checksum": "46ee9700e9237e0d7e55325759212081",
     "grade": false,
     "grade_id": "FootballEuropeanChampionship_D",
     "locked": false,
     "schema_version": 3,
     "solution": true,
     "task": false
    }
   },
   "outputs": [
    {
     "name": "stdout",
     "output_type": "stream",
     "text": [
      "Probability of more than six points = 0.5281250000000002\n"
     ]
    }
   ],
   "source": [
    "# Assign your result to the following variable\n",
    "p_more_than_six_points = 0\n",
    "\n",
    "# YOUR CODE HERE\n",
    "prob_sum = 0\n",
    "\n",
    "for points in range(7, 10):  \n",
    "    prob_sum += point_dist[points]\n",
    "    \n",
    "p_more_than_six_points = prob_sum\n",
    "\n",
    "#raise NotImplementedError()\n",
    "\n",
    "print('Probability of more than six points = {0}'.format(p_more_than_six_points))"
   ]
  },
  {
   "cell_type": "code",
   "execution_count": null,
   "id": "90d62d98",
   "metadata": {
    "ExecuteTime": {
     "end_time": "2024-10-25T23:24:05.518946Z",
     "start_time": "2024-10-25T23:24:05.518932Z"
    },
    "deletable": false,
    "editable": false,
    "nbgrader": {
     "cell_type": "code",
     "checksum": "a67169c408c1369834cfd5b714d4caf0",
     "grade": true,
     "grade_id": "test_FootballEuropeanChampionship_D0",
     "locked": true,
     "points": 5,
     "schema_version": 3,
     "solution": false,
     "task": false
    }
   },
   "outputs": [],
   "source": [
    "### This cell contains automated tests for your solution\n"
   ]
  },
  {
   "cell_type": "markdown",
   "id": "52327c23",
   "metadata": {
    "deletable": false,
    "editable": false,
    "nbgrader": {
     "cell_type": "markdown",
     "checksum": "ab8c6092a163c0c0eb46cf159aec139d",
     "grade": false,
     "grade_id": "taskheader_3",
     "locked": true,
     "schema_version": 3,
     "solution": false,
     "task": false
    }
   },
   "source": [
    "# Task 3\n",
    "\n",
    "**[25 Point(s)]**"
   ]
  },
  {
   "cell_type": "markdown",
   "id": "872cc5ed",
   "metadata": {
    "deletable": false,
    "editable": false,
    "nbgrader": {
     "cell_type": "markdown",
     "checksum": "d7628fa8be92ccf3597ba45b7576af1a",
     "grade": false,
     "grade_id": "RobocupFootball_ARobocupFootball_B_Header",
     "locked": true,
     "schema_version": 3,
     "solution": false,
     "task": false
    }
   },
   "source": [
    "## RoboCup football [20 points] \n",
    "\n",
    "Let's suppose that we have a RoboCup football field of size $x \\times y = 10m \\times 20m$. Assume that two robots $r_1$ and $r_2$ are located in the field at points $(x_1, y_1)$ and $(x_2, y_2)$ and that $x_1$ and $x_2$ are uniformly distributed between $[0,10]$, and similarly, $y_1$ and $y_2$ are uniformly distributed between $[0,20]$. The setup is as shown in the figure below.\n",
    "\n",
    "![RoboCup Football field](Assignment_03_Random_Variables_files/img/football_field.png)\n"
   ]
  },
  {
   "cell_type": "markdown",
   "id": "a6aaad60",
   "metadata": {
    "deletable": false,
    "editable": false,
    "nbgrader": {
     "cell_type": "markdown",
     "checksum": "ed8d6264d3e0bb282813593fa486a25e",
     "grade": false,
     "grade_id": "taskheader_3_1",
     "locked": true,
     "schema_version": 3,
     "solution": false,
     "task": false
    }
   },
   "source": [
    "## Task 3.1\n",
    "\n",
    "**[20 Point(s)]**"
   ]
  },
  {
   "cell_type": "code",
   "execution_count": 19,
   "id": "bf31808d",
   "metadata": {
    "ExecuteTime": {
     "end_time": "2024-10-25T23:25:56.864181Z",
     "start_time": "2024-10-25T23:25:56.858875Z"
    },
    "deletable": false,
    "editable": false,
    "nbgrader": {
     "cell_type": "code",
     "checksum": "2118d91ebb4abb3eee10b7b26f7f6b9c",
     "grade": false,
     "grade_id": "RobocupFootball_A_Description0",
     "locked": true,
     "schema_version": 3,
     "solution": false,
     "task": false
    }
   },
   "outputs": [],
   "source": [
    "from typing import Sequence, Dict\n",
    "\n",
    "import numpy as np\n",
    "import matplotlib.pyplot as plt"
   ]
  },
  {
   "cell_type": "markdown",
   "id": "84532c09",
   "metadata": {
    "deletable": false,
    "editable": false,
    "nbgrader": {
     "cell_type": "markdown",
     "checksum": "5a970ab72da44395438e81bd7c67ef3a",
     "grade": false,
     "grade_id": "RobocupFootball_A_Description1",
     "locked": true,
     "schema_version": 3,
     "solution": false,
     "task": false
    }
   },
   "source": [
    "### Expected distance between robots\n",
    "\n",
    "Calculate the approximate expected distance between $r_1$ and $r_2$.\n",
    "\n",
    "Use 20 bins and N = 100000 trials.\n",
    "\n",
    "*Hint 1*: Write code that could help you find a solution.\n",
    "\n",
    "*Hint 2*: Uniformly sample the random variables in their respective bounds."
   ]
  },
  {
   "cell_type": "code",
   "execution_count": 20,
   "id": "b4630386",
   "metadata": {
    "ExecuteTime": {
     "end_time": "2024-10-25T23:25:59.121576Z",
     "start_time": "2024-10-25T23:25:59.091309Z"
    },
    "deletable": false,
    "nbgrader": {
     "cell_type": "code",
     "checksum": "18fec7dcc3034523c682aefd954ac29d",
     "grade": false,
     "grade_id": "RobocupFootball_A",
     "locked": false,
     "schema_version": 3,
     "solution": true,
     "task": false
    }
   },
   "outputs": [
    {
     "name": "stdout",
     "output_type": "stream",
     "text": [
      "Expected distance between the robots: 8.038057746589446\n"
     ]
    }
   ],
   "source": [
    "N = 100000 # number of runs\n",
    "bins = 20 # number of bins in histogram\n",
    "\n",
    "# Assign your result to the following variable\n",
    "expected_distance = ...\n",
    "\n",
    "# YOUR CODE HERE\n",
    "#generate random samples for r1 and r2\n",
    "\n",
    "x1 = np.random.uniform(0, 10, N)\n",
    "y1 = np.random.uniform(0, 20, N)\n",
    "x2 = np.random.uniform(0, 10, N)\n",
    "y2 = np.random.uniform(0, 20, N)\n",
    "\n",
    "#now calculate the distances between the two robots\n",
    "dist = np.sqrt((x2 - x1)**2 + (y2 - y1)**2)\n",
    "\n",
    "#the expected distance will be the mean distance between the two robots\n",
    "expected_distance = np.mean(dist)\n",
    "#raise NotImplementedError()\n",
    "\n",
    "print('Expected distance between the robots: {0}'.format(expected_distance))"
   ]
  },
  {
   "cell_type": "code",
   "execution_count": null,
   "id": "2e6c43ae",
   "metadata": {
    "ExecuteTime": {
     "end_time": "2024-10-25T23:24:05.526159Z",
     "start_time": "2024-10-25T23:24:05.526135Z"
    },
    "deletable": false,
    "editable": false,
    "nbgrader": {
     "cell_type": "code",
     "checksum": "93c7b737d4460baf2d2bd0e1d493dd2f",
     "grade": true,
     "grade_id": "test_RobocupFootball_A0",
     "locked": true,
     "points": 20,
     "schema_version": 3,
     "solution": false,
     "task": false
    }
   },
   "outputs": [],
   "source": [
    "### This cell contains tests for your solution\n"
   ]
  },
  {
   "cell_type": "markdown",
   "id": "5e744dc0",
   "metadata": {
    "deletable": false,
    "editable": false,
    "nbgrader": {
     "cell_type": "markdown",
     "checksum": "22ae311cc72cec46a7a19fe02c8d48f5",
     "grade": false,
     "grade_id": "taskheader_3_2",
     "locked": true,
     "schema_version": 3,
     "solution": false,
     "task": false
    }
   },
   "source": [
    "## Task 3.2\n",
    "\n",
    "**[5 Point(s)]**"
   ]
  },
  {
   "cell_type": "markdown",
   "id": "b86cd9fd",
   "metadata": {
    "deletable": false,
    "editable": false,
    "nbgrader": {
     "cell_type": "markdown",
     "checksum": "1a366bdc8778bab832d7b4f178d11b5c",
     "grade": false,
     "grade_id": "RobocupFootball_B_Description0",
     "locked": true,
     "schema_version": 3,
     "solution": false,
     "task": false
    }
   },
   "source": [
    "### Plot the distribution\n",
    "\n",
    "Plot a histogram of the distribution of the obtained random distances and explain the growth behaviour."
   ]
  },
  {
   "cell_type": "code",
   "execution_count": 21,
   "id": "e18b556f",
   "metadata": {
    "ExecuteTime": {
     "end_time": "2024-10-25T23:26:09.430608Z",
     "start_time": "2024-10-25T23:26:09.177045Z"
    },
    "deletable": false,
    "nbgrader": {
     "cell_type": "code",
     "checksum": "a9386af5bb281e719d32ee3d109e2f0c",
     "grade": false,
     "grade_id": "RobocupFootball_B",
     "locked": false,
     "schema_version": 3,
     "solution": true,
     "task": false
    }
   },
   "outputs": [
    {
     "data": {
      "image/png": "[encoded data removed]",
      "text/plain": [
       "<Figure size 640x480 with 1 Axes>"
      ]
     },
     "metadata": {},
     "output_type": "display_data"
    }
   ],
   "source": [
    "import numpy as np\n",
    "import matplotlib.pyplot as plt\n",
    "\n",
    "# YOUR CODE HERE\n",
    "plt.hist(dist, bins=bins, edgecolor='black', alpha=0.7)\n",
    "plt.title('Distribution of Distances Between r1 and r2')\n",
    "plt.xlabel('Distance (m)')\n",
    "plt.ylabel('Frequency')\n",
    "plt.grid(True)\n",
    "plt.show()\n",
    "\n",
    "#raise NotImplementedError()"
   ]
  },
  {
   "cell_type": "code",
   "execution_count": null,
   "id": "ba67af20",
   "metadata": {
    "ExecuteTime": {
     "end_time": "2024-10-25T23:24:05.530105Z",
     "start_time": "2024-10-25T23:24:05.530048Z"
    },
    "deletable": false,
    "editable": false,
    "nbgrader": {
     "cell_type": "code",
     "checksum": "59904dda789292f44b10836297a3d6eb",
     "grade": true,
     "grade_id": "test_RobocupFootball_B0",
     "locked": true,
     "points": 5,
     "schema_version": 3,
     "solution": false,
     "task": false
    }
   },
   "outputs": [],
   "source": [
    "### This cell contains tests for your solution\n"
   ]
  },
  {
   "cell_type": "markdown",
   "id": "e02943a7",
   "metadata": {
    "deletable": false,
    "editable": false,
    "nbgrader": {
     "cell_type": "markdown",
     "checksum": "c39b084c5e83633781b552d107d6117b",
     "grade": false,
     "grade_id": "taskheader_4",
     "locked": true,
     "schema_version": 3,
     "solution": false,
     "task": false
    }
   },
   "source": [
    "# Task 4\n",
    "\n",
    "**[20 Point(s)]**"
   ]
  },
  {
   "cell_type": "markdown",
   "id": "71f12190",
   "metadata": {
    "deletable": false,
    "editable": false,
    "nbgrader": {
     "cell_type": "markdown",
     "checksum": "4a2511641655c2d53bfb29e790e32e40",
     "grade": false,
     "grade_id": "DiscreteRandomVariablesLib_ADiscreteRandomVariablesLib_BDiscreteRandomVariablesLib_CDiscreteRandomVariablesLib_DDiscreteRandomVariablesLib_EDiscreteRandomVariablesLib_F_Header",
     "locked": true,
     "schema_version": 3,
     "solution": false,
     "task": false
    }
   },
   "source": [
    "## Random Variables [20 points]\n",
    "\n",
    "In this exercise, you'll create a very simple Python library for discrete random variables. In particular, given a random variable $X$ whose probability mass function $P(X)$ is known, your library will be able to:\n",
    "\n",
    "* Calculate the expected value of $X$\n",
    "* Calculate the variance of $X$\n",
    "* Calculate the expected value of a function of $X$\n",
    "* Calculate the **conditional expectation** of $X$ given an event $Y = y$: Given an event $Y = y$, the PMF of $X$ changes to the conditional PMF $P_{X|Y=y}(x|y)$; the conditional expectation is thus defined as\n",
    "    \\begin{equation*}\n",
    "        E[X|Y=y] = \\sum_{x}{xP_{X|Y=y}(x|y)}\n",
    "    \\end{equation*}\n",
    "* Create the **cumulative distribution function (CDF)** of $X$: The cumulative distribution function $F(X)$ returns the probability that $X$ is less than or equal to a given value $x$, i.e.\n",
    "    \\begin{equation*}\n",
    "        F(X) = P(X \\leq x)\n",
    "    \\end{equation*}\n",
    "* Generate samples from the PMF: Sampling from the PMF is best explained by an example. Let's say that we have a discrete random variable $X$ that takes the values $1$, $2$, and $3$, whose probabilities are $P(X=1) = 0.2$, $P(X=2) = 0.5$, and $P(X=3) = 0.3$. If we generate a lot of samples from this distribution (say a thousand), we would expect that roughly $200$ of those are equal to $1$, $500$ are equal to $2$, and $300$ are equal to $3$. *Hint*: You may **not** use existing library functions (e.g. in numpy) when implementing the sampling function.\n",
    "\n"
   ]
  },
  {
   "cell_type": "markdown",
   "id": "0175c901",
   "metadata": {
    "deletable": false,
    "editable": false,
    "nbgrader": {
     "cell_type": "markdown",
     "checksum": "6a4ca00fd3b38580bcd32636046bcf12",
     "grade": false,
     "grade_id": "taskheader_4_1",
     "locked": true,
     "schema_version": 3,
     "solution": false,
     "task": false
    }
   },
   "source": [
    "## Task 4.1\n",
    "\n",
    "**[2 Point(s)]**"
   ]
  },
  {
   "cell_type": "markdown",
   "id": "894453f5",
   "metadata": {
    "deletable": false,
    "editable": false,
    "nbgrader": {
     "cell_type": "markdown",
     "checksum": "35b8a9d11362632575b3c581e5c12e28",
     "grade": false,
     "grade_id": "DiscreteRandomVariablesLib_A_Description0",
     "locked": true,
     "schema_version": 3,
     "solution": false,
     "task": false
    }
   },
   "source": [
    "Define your library functions in the class *DiscreteRandomVariable*, whose interface is given below. Verify that your functions are working correctly by running the test cases below and making sure that none of the assertions fail."
   ]
  },
  {
   "cell_type": "code",
   "execution_count": 2,
   "id": "fa6fb041",
   "metadata": {
    "ExecuteTime": {
     "end_time": "2024-10-26T17:12:58.763882Z",
     "start_time": "2024-10-26T17:12:58.221664Z"
    },
    "code_folding": [],
    "deletable": false,
    "nbgrader": {
     "cell_type": "code",
     "checksum": "14d3460fdfff0ac3acf17b14f4c6cfa0",
     "grade": false,
     "grade_id": "DiscreteRandomVariablesLib_A",
     "locked": false,
     "schema_version": 3,
     "solution": true,
     "task": false
    }
   },
   "outputs": [
    {
     "name": "stdout",
     "output_type": "stream",
     "text": [
      "e_x: -0.49999999999999994\n",
      "var_x: 2.05\n",
      "e_g_x: 2.3000000000000003\n",
      "conditional_e_x: -0.09999999999999998\n"
     ]
    }
   ],
   "source": [
    "import numpy as np\n",
    "import matplotlib.pyplot as plt\n",
    "import typing\n",
    "\n",
    "class DiscreteRandomVariable(object):\n",
    "    def __init__(self, values: np.ndarray, pmf: np.ndarray):\n",
    "        '''Keyword arguments:\n",
    "        values: np.ndarray -- allowed values for the random variable\n",
    "        pmf: np.ndarray -- probabiility mass function of the random variable\n",
    "\n",
    "        '''\n",
    "        self.values = np.array(values)\n",
    "        self.pmf = np.array(pmf)\n",
    "\n",
    "    def expectation(self) -> float:\n",
    "        '''Calculates the expected value of the random variable.\n",
    "        '''\n",
    "        # YOUR CODE HERE\n",
    "        e_x = np.sum(self.values * self.pmf)\n",
    "        \n",
    "        #raise NotImplementedError()\n",
    "\n",
    "        return e_x\n",
    "\n",
    "    def variance(self) -> float:\n",
    "        '''Calculates the variance of the random variable.\n",
    "        '''\n",
    "        # YOUR CODE HERE\n",
    "        mean = self.expectation()\n",
    "        var_x = np.sum(((self.values - mean) ** 2) * self.pmf)\n",
    "        \n",
    "        #raise NotImplementedError()\n",
    "\n",
    "        return var_x\n",
    "\n",
    "    def function_expectation(self, g: typing.Callable) -> float:\n",
    "        '''Calculates the expectation of a function of the random variable.\n",
    "\n",
    "        Keyword arguments:\n",
    "        g: typing.Callable -- function for transforming the values\n",
    "                              of the random variable\n",
    "\n",
    "        '''\n",
    "        # YOUR CODE HERE\n",
    "        transformed_values = g(self.values)\n",
    "        e_g_x = np.sum(transformed_values * self.pmf)\n",
    "        \n",
    "        #raise NotImplementedError()\n",
    "\n",
    "        return e_g_x\n",
    "\n",
    "    def conditional_expectation(self, y_values: np.ndarray,\n",
    "                                conditional_pmfs: np.ndarray,\n",
    "                                observed_y: int) -> float:\n",
    "        '''Calculates the conditional expectation of the random variable\n",
    "        given a particular value of another random variable.\n",
    "\n",
    "        Keyword arguments:\n",
    "        y_values: np.array -- a list of possible y values\n",
    "        conditional_pmfs: np.ndarray -- a 2D array with as many rows as\n",
    "                                        there are values in y_values,\n",
    "                                        such that each row represents\n",
    "                                        the conditional pmf of x given y\n",
    "        observed_y: the observed value of y\n",
    "\n",
    "        '''\n",
    "        # YOUR CODE HERE\n",
    "        # Find the index of the observed y in y_values\n",
    "        y_index = np.where(y_values == observed_y)[0][0]\n",
    "        conditional_pmf = conditional_pmfs[y_index]\n",
    "        \n",
    "        # Calculate the conditional expectation\n",
    "        conditional_e_x = np.sum(self.values * conditional_pmf)\n",
    "        \n",
    "        #raise NotImplementedError()\n",
    "\n",
    "        return conditional_e_x\n",
    "\n",
    "    def cdf(self) -> np.ndarray:\n",
    "        '''Returns a numpy array representing the cumulative\n",
    "        distribution function of the random variable.\n",
    "        '''\n",
    "        cdf = np.zeros(len(self.pmf) + 1)\n",
    "\n",
    "        # YOUR CODE HERE\n",
    "        cdf[1:] = np.cumsum(self.pmf)\n",
    "        \n",
    "        #raise NotImplementedError()\n",
    "\n",
    "        return cdf\n",
    "\n",
    "    def sample(self, number_of_samples: int) -> np.ndarray:\n",
    "        '''Samples values from the random variable.\n",
    "        Returns a numpy array with the generated samples.\n",
    "\n",
    "        Keyword arguments:\n",
    "        number_of_samples: int -- number of samples to generate\n",
    "\n",
    "        '''\n",
    "        samples = list()\n",
    "\n",
    "        # YOUR CODE HERE\n",
    "        cumulative_pmf = np.cumsum(self.pmf)\n",
    "        for _ in range(number_of_samples):\n",
    "            random_val = np.random.rand()\n",
    "            for i, cum_prob in enumerate(cumulative_pmf):\n",
    "                if random_val <= cum_prob:\n",
    "                    samples.append(self.values[i])\n",
    "                    break\n",
    "        \n",
    "        #raise NotImplementedError()\n",
    "\n",
    "        return np.array(samples)\n",
    "\n",
    "X = DiscreteRandomVariable(np.array([-2, -1, 0, 1, 2]),\n",
    "                           np.array([0.4, 0.1, 0.2, 0.2, 0.1]))\n",
    "\n",
    "# expected value test case\n",
    "e_x = X.expectation()\n",
    "print(f'e_x: {e_x}')\n",
    "assert abs(e_x-(-0.5)) < 1e-5\n",
    "\n",
    "# variance test case\n",
    "var_x = X.variance()\n",
    "print(f'var_x: {var_x}')\n",
    "assert abs(var_x-2.05) < 1e-5\n",
    "\n",
    "# expected value of a function test case\n",
    "g = lambda x: x**2\n",
    "e_g_x = X.function_expectation(g)\n",
    "print(f'e_g_x: {e_g_x}')\n",
    "assert abs(e_g_x-2.3) < 1e-5\n",
    "\n",
    "# conditional expectation test case\n",
    "y_values = np.array([-2, 1, 4])\n",
    "conditional_pmfs = np.array([[0.3, 0., 0.3, 0.1, 0.3], \\\n",
    "                             [0.2, 0.1, 0., 0.6, 0.1], [0., 0.3, 0.5, 0.2, 0.]])\n",
    "observed_y = 4\n",
    "conditional_e_x = X.conditional_expectation(y_values, conditional_pmfs, observed_y)\n",
    "print(f'conditional_e_x: {conditional_e_x}')\n",
    "assert abs(conditional_e_x-(-0.1)) < 1e-5\n",
    "\n",
    "# CDF test case\n",
    "cdf = X.cdf()\n",
    "assert np.all(np.abs(cdf - np.array([0., 0.4, 0.5, 0.7, 0.9, 1.])) < 1e-5)\n",
    "\n",
    "# sampling test case\n",
    "samples = np.array(X.sample(10000))\n",
    "counts = np.zeros(5)\n",
    "counts[0] = len(np.where(samples==-2)[0])\n",
    "counts[1] = len(np.where(samples==-1)[0])\n",
    "counts[2] = len(np.where(samples==0)[0])\n",
    "counts[3] = len(np.where(samples==1)[0])\n",
    "counts[4] = len(np.where(samples==2)[0])\n",
    "assert counts[0] > 3750 and counts[0] < 4250\n",
    "assert counts[1] > 750 and counts[1] < 1250\n",
    "assert counts[2] > 1750 and counts[2] < 2250\n",
    "assert counts[3] > 1750 and counts[3] < 2250\n",
    "assert counts[4] > 750 and counts[4] < 1250"
   ]
  },
  {
   "cell_type": "code",
   "execution_count": 3,
   "id": "f9b86cff",
   "metadata": {
    "ExecuteTime": {
     "end_time": "2024-10-26T17:12:58.782021Z",
     "start_time": "2024-10-26T17:12:58.778872Z"
    },
    "deletable": false,
    "editable": false,
    "nbgrader": {
     "cell_type": "code",
     "checksum": "2ececa1165d5ac6ac6989afc74445d11",
     "grade": true,
     "grade_id": "test_DiscreteRandomVariablesLib_A0",
     "locked": true,
     "points": 2,
     "schema_version": 3,
     "solution": false,
     "task": false
    }
   },
   "outputs": [],
   "source": [
    "### This cell contains automated tests for your solution\n"
   ]
  },
  {
   "cell_type": "code",
   "execution_count": 4,
   "id": "40909aba",
   "metadata": {
    "ExecuteTime": {
     "end_time": "2024-10-26T17:12:59.726857Z",
     "start_time": "2024-10-26T17:12:59.722256Z"
    },
    "deletable": false,
    "editable": false,
    "nbgrader": {
     "cell_type": "code",
     "checksum": "af8623b8600b3c3a74226ec0327dd999",
     "grade": true,
     "grade_id": "test_DiscreteRandomVariablesLib_B0",
     "locked": true,
     "points": 2,
     "schema_version": 3,
     "solution": false,
     "task": false
    }
   },
   "outputs": [],
   "source": [
    "### This cell contains automated tests for your solution\n"
   ]
  },
  {
   "cell_type": "code",
   "execution_count": 5,
   "id": "763b1b03",
   "metadata": {
    "ExecuteTime": {
     "end_time": "2024-10-26T17:13:01.749734Z",
     "start_time": "2024-10-26T17:13:01.746631Z"
    },
    "deletable": false,
    "editable": false,
    "nbgrader": {
     "cell_type": "code",
     "checksum": "cccdee147e75890c3d6fd3bfa5da517e",
     "grade": true,
     "grade_id": "test_DiscreteRandomVariablesLib_C0",
     "locked": true,
     "points": 3,
     "schema_version": 3,
     "solution": false,
     "task": false
    }
   },
   "outputs": [],
   "source": [
    "### This cell contains automated tests for your solution\n"
   ]
  },
  {
   "cell_type": "code",
   "execution_count": 6,
   "id": "3b3ed92f",
   "metadata": {
    "ExecuteTime": {
     "end_time": "2024-10-26T17:13:01.840861Z",
     "start_time": "2024-10-26T17:13:01.753965Z"
    },
    "deletable": false,
    "editable": false,
    "nbgrader": {
     "cell_type": "code",
     "checksum": "096bd5b1b12c3d485d63e412ecb04e6d",
     "grade": true,
     "grade_id": "test_DiscreteRandomVariablesLib_D0",
     "locked": true,
     "points": 5,
     "schema_version": 3,
     "solution": false,
     "task": false
    }
   },
   "outputs": [],
   "source": [
    "### This cell contains automated tests for your solution\n"
   ]
  },
  {
   "cell_type": "code",
   "execution_count": 7,
   "id": "3a9be349",
   "metadata": {
    "ExecuteTime": {
     "end_time": "2024-10-26T17:13:01.917111Z",
     "start_time": "2024-10-26T17:13:01.846489Z"
    },
    "deletable": false,
    "editable": false,
    "nbgrader": {
     "cell_type": "code",
     "checksum": "99bcf7fdf47ca4fc61a7a2898ed4f774",
     "grade": true,
     "grade_id": "test_DiscreteRandomVariablesLib_E0",
     "locked": true,
     "points": 3,
     "schema_version": 3,
     "solution": false,
     "task": false
    }
   },
   "outputs": [],
   "source": [
    "### This cell contains automated tests for your solution\n"
   ]
  },
  {
   "cell_type": "code",
   "execution_count": 8,
   "id": "4cd5e047",
   "metadata": {
    "ExecuteTime": {
     "end_time": "2024-10-26T17:13:02.215212Z",
     "start_time": "2024-10-26T17:13:02.210168Z"
    },
    "deletable": false,
    "editable": false,
    "nbgrader": {
     "cell_type": "code",
     "checksum": "300be7e2b3ed23d1913ea23ded70731b",
     "grade": true,
     "grade_id": "test_DiscreteRandomVariablesLib_F0",
     "locked": true,
     "points": 5,
     "schema_version": 3,
     "solution": false,
     "task": false
    }
   },
   "outputs": [],
   "source": [
    "### This cell contains automated tests for your solution\n"
   ]
  },
  {
   "cell_type": "code",
   "execution_count": null,
   "id": "5f277a13",
   "metadata": {},
   "outputs": [],
   "source": []
  }
 ],
 "metadata": {
  "kernelspec": {
   "display_name": "Python 3 (ipykernel)",
   "language": "python",
   "name": "python3"
  },
  "language_info": {
   "codemirror_mode": {
    "name": "ipython",
    "version": 3
   },
   "file_extension": ".py",
   "mimetype": "text/x-python",
   "name": "python",
   "nbconvert_exporter": "python",
   "pygments_lexer": "ipython3",
   "version": "3.10.12"
  }
 },
 "nbformat": 4,
 "nbformat_minor": 5
}
