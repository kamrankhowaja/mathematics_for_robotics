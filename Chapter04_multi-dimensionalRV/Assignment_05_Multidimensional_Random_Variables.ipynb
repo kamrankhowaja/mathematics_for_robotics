{
 "cells": [
  {
   "cell_type": "markdown",
   "id": "03415cb2",
   "metadata": {
    "deletable": false,
    "editable": false,
    "nbassignment": {
     "type": "header"
    },
    "nbgrader": {
     "cell_type": "markdown",
     "checksum": "fdefd62fc826f77414b58d875aad1347",
     "grade": false,
     "grade_id": "HeaderA",
     "locked": true,
     "schema_version": 3,
     "solution": false,
     "task": false
    }
   },
   "source": [
    "<div class=\"alert alert-block alert-info\">\n",
    "    <h1>Mathematics for Robotics and Control - SS24</h1>\n",
    "    <h3>General Information:</h3>\n",
    "    <p>Please do not add or delete any cells. Answers belong into the corresponding cells (below the question). If a function is given (either as a signature or a full function), you <b>should not change the name, arguments or return value</b> of the function.</p>\n",
    "    <p>If you encounter empty cells underneath the answer that can not be edited, please ignore them, they are for testing purposes.</p>\n",
    "    <p>When editing an assignment there can be the case that there are variables in the kernel. To make sure your assignment works, please restart the kernel and run all cells before submitting (e.g. via <i>Kernel -> Restart & Run All</i>).</p>\n",
    "    <p>Code cells where you are supposed to give your answer often include the line  <code>raise NotImplementedError</code>. This makes it easier to automatically grade answers. If you edit the cell please outcomment or delete this line.</p>\n",
    "    <h3>Submission:</h3>\n",
    "    <p>Please submit your notebook via the web interface (in the main view -> Assignments -> Submit). The assignments are due on <b>Sunday</b> at <b> 20:00 </b> CEST.</p>\n",
    "    <h3>Group Work:</h3>\n",
    "    <p>Group work is allowed! If you are working in a group, please write your student IDs (ending with -2s) in the designated cell below.</p>\n",
    "    <h3>Questions about the Assignment:</h3>\n",
    "    <p>If you have questions about the assignment please post them in the LEA forum before the deadline.</p>\n",
    "    \n",
    "</div>"
   ]
  },
  {
   "cell_type": "code",
   "execution_count": 1,
   "id": "0f243861",
   "metadata": {
    "ExecuteTime": {
     "end_time": "2024-11-09T12:31:48.895221Z",
     "start_time": "2024-11-09T12:31:48.886798Z"
    },
    "nbassignment": {
     "type": "group_info"
    }
   },
   "outputs": [],
   "source": [
    "# Please fill in the usernames of all your team members\n",
    "\n",
    "member1 = 'aarora2s'\n",
    "member2 = 'kali2s'"
   ]
  },
  {
   "cell_type": "markdown",
   "id": "01758ceb",
   "metadata": {
    "deletable": false,
    "editable": false,
    "nbgrader": {
     "cell_type": "markdown",
     "checksum": "3ae0bd47e7ff72f69e8eb3afa01fc587",
     "grade": false,
     "grade_id": "taskheader_1",
     "locked": true,
     "schema_version": 3,
     "solution": false,
     "task": false
    }
   },
   "source": [
    "# Task 1\n",
    "\n",
    "**[20 Point(s)]**"
   ]
  },
  {
   "cell_type": "markdown",
   "id": "63f8f5b6",
   "metadata": {
    "deletable": false,
    "editable": false,
    "nbgrader": {
     "cell_type": "markdown",
     "checksum": "6d47ee2e51962c9f9bf1b700a1f21efa",
     "grade": false,
     "grade_id": "KalmanTemperature_AKalmanTemperature_B_Header",
     "locked": true,
     "schema_version": 3,
     "solution": false,
     "task": false
    }
   },
   "source": [
    "# KalmanTemperature\n",
    "\n",
    "Two sensors measure temperature independently.\n",
    "\n",
    "Determine an optimal linear estimator of the temperature value (including the variance)\n"
   ]
  },
  {
   "cell_type": "markdown",
   "id": "11ac9b7a",
   "metadata": {
    "deletable": false,
    "editable": false,
    "nbgrader": {
     "cell_type": "markdown",
     "checksum": "baac39f7a5cdaba797d28f171587884c",
     "grade": false,
     "grade_id": "taskheader_1_1",
     "locked": true,
     "schema_version": 3,
     "solution": false,
     "task": false
    }
   },
   "source": [
    "## Task 1.1\n",
    "\n",
    "**[15 Point(s)]**"
   ]
  },
  {
   "cell_type": "markdown",
   "id": "f9012e85",
   "metadata": {
    "deletable": false,
    "editable": false,
    "nbgrader": {
     "cell_type": "markdown",
     "checksum": "010ff3433f102cd24af4d25efb0db1c1",
     "grade": false,
     "grade_id": "KalmanTemperature_A_Description0",
     "locked": true,
     "schema_version": 3,
     "solution": false,
     "task": false
    }
   },
   "source": [
    "## Task: Derive Optimal Measurement Combination \n",
    "\n",
    "Consider a system consisting of two noise sensors, each measuring an unknown value $x$ with outputs $z_i$ for $i=\\{1,2\\}$. These measurements are subject to random, independent, and unbiased errors $v_i$ for $i=\\{1,2\\}$. Your objective is to design an algorithm that effectively combines these measurements to generate an optimal linear estimator for $x$ (denoted by $\\hat{x}$). \n",
    "\n",
    "Tips to consider:\n",
    "* The sensors produce noisy readings defined by: $z_1 = x + v_1$ and $z_2 = x + v_2$.\n",
    "* Unbiased measurements imply that $E[v_1] = E[v_2] = 0$, with variances $\\sigma_1^2$ and $\\sigma_2^2$.\n",
    "* Independence of the errors signifies that $E[v_1 v_2] = 0$.\n",
    "* The linear estimator can be expressed as: $\\hat{x} = k_1 z_1 + k_2 z_2$, where $k_1$ and $k_2$ are unknown coefficients independent of $x$.\n",
    "* An optimal estimator is defined as one that minimizes the estimation error: $\\tilde{x} = \\hat{x} - x$, where $\\tilde{x}$ remains unbiased.\n",
    "\n",
    "Steps to complete the task:\n",
    "1. Derive a relationship between $k_1$ and $k_2$ based on the requirement that $\\tilde{x}$ be unbiased.\n",
    "2. Utilize this relationship along with the condition of optimality for $E[\\tilde{x}^2]$ to ascertain the value of $k_1$, which will also provide $k_2$.\n",
    "3. Present $E[\\tilde{x}^2]$ in a closed form as a function of $\\sigma_1^2$ and $\\sigma_2^2$.\n",
    "4. Express $\\tilde{x}$ in closed form as a function of $\\sigma_1^2$, $\\sigma_2^2$, $z_1$, and $z_2$."
   ]
  },
  {
   "cell_type": "markdown",
   "id": "e104d430",
   "metadata": {
    "deletable": false,
    "nbgrader": {
     "cell_type": "markdown",
     "checksum": "9fed60783d87da894dd62b281c401ed1",
     "grade": true,
     "grade_id": "KalmanTemperature_A",
     "locked": false,
     "points": 15,
     "schema_version": 3,
     "solution": true,
     "task": false
    }
   },
   "source": [
    "## Answer\n",
    "\n",
    "## Answer\n",
    "\n",
    "Data Given \n",
    "\n",
    "$$ z_1 = x + v_1 \\quad \\text{and} \\quad z_2 = x + v_2 $$\n",
    "\n",
    "$$ E[v_1] = E[v_2] = 0 $$\n",
    "\n",
    "$$ E[v_1 v_2] = 0 $$\n",
    "\n",
    "$$ \\hat{x} = k_1 z_1 + k_2 z_2 $$\n",
    "\n",
    "$$ \\tilde{x} = \\hat{x} - x $$\n",
    "\n",
    "1. Relationship between $k_1$ and $k_2$ based on the requirement that $\\tilde{x}$ be unbiased:\n",
    "\n",
    "we know that $\\hat{x} = k_1 z_1 + k_2 z_2$ , replace values  with $z_1 = x + v_1$ and $z_2 = x + v_2$\n",
    "\n",
    "$$ \\hat{x} = k_1(x + v_1) + k_2(x + v_2) $$\n",
    "\n",
    "$$ \\hat{x} = k_1 x + k_1 v_1 + k_2 x + k_2 v_2 $$\n",
    "\n",
    "$$ \\hat{x} = x(k_1 + k_2) + k_1 v_1 + k_2 v_2 $$\n",
    "\n",
    "For $\\hat{x}$ to be unbiased estimator of $x$ ; $E[\\hat{x}] = x$\n",
    "\n",
    "$$ E[\\hat{x}] = x(k_1 + k_2) + k_1 E[v_1] + k_2 E[v_2] $$ (We know that $E[v_1] = E[v_2] = 0$ )\n",
    "\n",
    "$$E[\\hat{x}] = x.(k_1 + k_2)$$ \n",
    "\n",
    "Here ($(k_1 + k_2) = 1 $), so that to ensure $E[\\hat{x} = x]$\n",
    "\n",
    "relation would be ($k_1 = -k_2 +1$)\n",
    "\n",
    "2. Condition of optimality for $E[\\tilde{x}^2]$ \n",
    "\n",
    "we know that $\\tilde{x} = \\hat{x} - x$ [here subsitute $\\hat{x} = x.(k_1 + k_1) + k_1.v_1 + k_2.v_2$]\n",
    "\n",
    "$$\\tilde{x} = x.(k_1 + k_1) + k_1.v_1 + k_2.v_2 - x$$  [As $ (k_1 + k_1) = 1$]\n",
    "\n",
    "$$\\tilde{x} = x + k_1.v_1 + k_2.v_2 - x$$\n",
    "\n",
    "$$\\tilde{x} = k_1.v_1 + k_2.v_2$$\n",
    "\n",
    "applying $E[\\tilde{x}^2]$ variance of the estimation error\n",
    "\n",
    "$$E[\\tilde{x}^2] = E[(k_1.v_1 + k_2.v_2)^2]$$\n",
    "\n",
    "$$E[\\tilde{x}^2] = E[(k_1^2.v_1^2 + k_2^2.v_2^2 + 2.k_1.k_2.v_1.v_2)]$$\n",
    "\n",
    "Since expectation is a linear operator, we can distribute $E$ over the terms:\n",
    "\n",
    "$$E[\\tilde{x}^2] = k_1^2.E[v_1^2] + k_2^2.E[v_2^2] + 2.k_1.k_2.E[v_1.v_2]$$\n",
    "\n",
    "since $E[v_1.v_2] = 0$ and $E[v_1^2] = \\sigma_1^2 , E[v_2^2] = \\sigma_2^2$\n",
    "\n",
    "$$E[\\tilde{x}^2] = k_1^2.\\sigma_1^2 + k_2^2.\\sigma_2^2$$  (here $k_2 = 1 - k_1$)\n",
    "\n",
    "$$E[\\tilde{x}^2] = k_1^2.\\sigma_1^2 + (1 - k_1)^2.\\sigma_2^2$$\n",
    "\n",
    "$$E[\\tilde{x}^2] = k_1^2.\\sigma_1^2 + (1 - 2.k_1 + k_1^2).\\sigma_2^2$$\n",
    "\n",
    "$$E[\\tilde{x}^2] = k_1^2.\\sigma_1^2 + 1.\\sigma_2^2 - 2.k_1.\\sigma_2^2 + k_1^2.\\sigma_2^2$$\n",
    "\n",
    "$$E[\\tilde{x}^2] = k_1^2(\\sigma_1^2 + \\sigma_2^2)- 2.k_1.\\sigma_2^2 + \\sigma_2^2$$\n",
    "\n",
    "to minimize $E[\\tilde{x}^2]$ w.r.t to $k_1$ take derivative w.r.t to $k_1$\n",
    "\n",
    "$$\\frac{d.E[\\tilde{x}^2]}{d.k_1} = 2k_1(\\sigma_1^2 + \\sigma_2^2)- 2\\sigma_2^2 = 0$$\n",
    "\n",
    "$$k_1 = \\frac{2\\sigma_2^2}{2(\\sigma_1^2 + \\sigma_2^2)} = \\frac{\\sigma_2^2}{(\\sigma_1^2 + \\sigma_2^2)} $$\n",
    "\n",
    "$$k_2 = 1 - k_1 = 1 - \\frac{\\sigma_2^2}{(\\sigma_1^2 + \\sigma_2^2)} = \\frac{\\sigma_1^2}{(\\sigma_1^2 + \\sigma_2^2)}$$\n",
    "\n",
    "3. $E[\\tilde{x}^2]$ error variance in closed form \n",
    "\n",
    "$$E[\\tilde{x}^2] = k_1^2.\\sigma_1^2 + k_2^2.\\sigma_2^2$$  put values from above,\n",
    "\n",
    "$$E[\\tilde{x}^2] = (\\frac{\\sigma_2^2}{(\\sigma_1^2 + \\sigma_2^2)})^2.\\sigma_1^2 + (\\frac{\\sigma_1^2}{(\\sigma_1^2 + \\sigma_2^2)})^2.\\sigma_2^2$$ ,, simplifying it \n",
    "\n",
    "$$E[\\tilde{x}^2] = \\frac{\\sigma_1^2 . \\sigma_2^2}{(\\sigma_1^2 +\\sigma_2^2)} $$\n",
    "\n",
    "4. Final Expression \n",
    "\n",
    "optimal linear estimator \n",
    "\n",
    "$$\\tilde{x} = k_1.z_1 + k_2.z_2 = (\\frac{\\sigma_2^2}{\\sigma_1^2+\\sigma_2^2}).z_1 + (\\frac{\\sigma_1^2}{\\sigma_1^2+\\sigma_2^2}).z_2$$\n",
    "\n",
    "Minimum error Variance \n",
    "\n",
    "$$E[\\tilde{x}^2] = \\frac{\\sigma_1^2 . \\sigma_2^2}{(\\sigma_1^2 +\\sigma_2^2)} $$\n"
   ]
  },
  {
   "cell_type": "markdown",
   "id": "df3a6830",
   "metadata": {
    "deletable": false,
    "editable": false,
    "nbgrader": {
     "cell_type": "markdown",
     "checksum": "e37bf6c056bcd226b66ded0e4112924f",
     "grade": false,
     "grade_id": "taskheader_1_2",
     "locked": true,
     "schema_version": 3,
     "solution": false,
     "task": false
    }
   },
   "source": [
    "## Task 1.2\n",
    "\n",
    "**[5 Point(s)]**"
   ]
  },
  {
   "cell_type": "markdown",
   "id": "c6e02d7c",
   "metadata": {
    "deletable": false,
    "editable": false,
    "nbgrader": {
     "cell_type": "markdown",
     "checksum": "2e3ee6f12df9ffc3772bb44535f89663",
     "grade": false,
     "grade_id": "KalmanTemperature_B_Description0",
     "locked": true,
     "schema_version": 3,
     "solution": false,
     "task": false
    }
   },
   "source": [
    "## Task: Thermometer\n",
    "\n",
    "Given two sensors measure temperature independently, determine the optimal linear-estimated value.\n",
    "$$\n",
    "\\begin{aligned}\n",
    "& z_1=20^{\\circ} \\mathrm{C} \\pm 2^{\\circ} \\mathrm{C} \\\\\n",
    "& z_2=23^{\\circ} \\mathrm{C} \\pm 1^{\\circ} \\mathrm{C}\n",
    "\\end{aligned}\n",
    "$$\n",
    "\n"
   ]
  },
  {
   "cell_type": "code",
   "execution_count": 2,
   "id": "cd82eb2e",
   "metadata": {
    "ExecuteTime": {
     "end_time": "2024-11-09T12:31:49.175523Z",
     "start_time": "2024-11-09T12:31:48.898060Z"
    },
    "deletable": false,
    "nbgrader": {
     "cell_type": "code",
     "checksum": "48d1fa5ab9c56bfe435dcf9fb5039da4",
     "grade": false,
     "grade_id": "KalmanTemperature_B",
     "locked": false,
     "schema_version": 3,
     "solution": true,
     "task": false
    }
   },
   "outputs": [
    {
     "name": "stdout",
     "output_type": "stream",
     "text": [
      "x_tilda:  22.400000000000002\n",
      "sigma_x_tilda:  0.8944271909999159\n"
     ]
    }
   ],
   "source": [
    "import numpy as np\n",
    "\n",
    "z_1=20.0\n",
    "z_2=23.0\n",
    "\n",
    "sigma_1= 2\n",
    "sigma_2= 1\n",
    "\n",
    "# Assign your solution to the following variables\n",
    "x_tilda = ...\n",
    "sigma_x_tilda = ...\n",
    "\n",
    "# YOUR CODE HERE\n",
    "\n",
    "# Optimal estimate for x\n",
    "x_tilda = (sigma_2**2 / (sigma_1**2 + sigma_2**2)) * z_1 + (sigma_1**2 / (sigma_1**2 + sigma_2**2)) * z_2\n",
    "\n",
    "# Standard deviation of the estimate\n",
    "sigma_x_tilda = np.sqrt((sigma_1**2 * sigma_2**2) / (sigma_1**2 + sigma_2**2))\n",
    "\n",
    "#raise NotImplementedError()\n",
    "\n",
    "print(\"x_tilda: \", x_tilda)\n",
    "print(\"sigma_x_tilda: \", sigma_x_tilda)"
   ]
  },
  {
   "cell_type": "code",
   "execution_count": 3,
   "id": "21b1e4ed",
   "metadata": {
    "ExecuteTime": {
     "end_time": "2024-11-09T12:31:49.179912Z",
     "start_time": "2024-11-09T12:31:49.177667Z"
    },
    "deletable": false,
    "editable": false,
    "nbgrader": {
     "cell_type": "code",
     "checksum": "1d33e749be43c58ab393792b8491be94",
     "grade": true,
     "grade_id": "test_KalmanTemperature_B0",
     "locked": true,
     "points": 5,
     "schema_version": 3,
     "solution": false,
     "task": false
    }
   },
   "outputs": [],
   "source": [
    "# This cell contains automated tests for your solution\n"
   ]
  },
  {
   "cell_type": "markdown",
   "id": "8aa75941",
   "metadata": {
    "deletable": false,
    "editable": false,
    "nbgrader": {
     "cell_type": "markdown",
     "checksum": "cada680616327e83f09a256cd569a6bb",
     "grade": false,
     "grade_id": "taskheader_2",
     "locked": true,
     "schema_version": 3,
     "solution": false,
     "task": false
    }
   },
   "source": [
    "# Task 2\n",
    "\n",
    "**[25 Point(s)]**"
   ]
  },
  {
   "cell_type": "markdown",
   "id": "7f645839",
   "metadata": {
    "deletable": false,
    "editable": false,
    "nbgrader": {
     "cell_type": "markdown",
     "checksum": "43fc42b464d0a4fef97ff7920060f1c3",
     "grade": false,
     "grade_id": "JointProbabilityDistributions_A_Header",
     "locked": true,
     "schema_version": 3,
     "solution": false,
     "task": false
    }
   },
   "source": [
    "## Joint Probability Distributions\n",
    "\n",
    "In this exercise, you will write a very simple Python library for manipulating joint probability distributions of two discrete random variables. Given a joint distribution, we want our library to be able to:\n",
    "\n",
    "1. Find the probability mass functions of the random variables\n",
    "2. Check if the variables are independent\n",
    "3. Calculate the conditional PMF of one of the random variables given an observed value for the other variable\n",
    "4. Calculate the conditional expectation of one of the random variables given an observed value for the other variable\n",
    "5. Calculate the covariance of the random variables\n"
   ]
  },
  {
   "cell_type": "markdown",
   "id": "d82c890c",
   "metadata": {
    "deletable": false,
    "editable": false,
    "nbgrader": {
     "cell_type": "markdown",
     "checksum": "79b0bc036d6666f9d4b26545966cea10",
     "grade": false,
     "grade_id": "JointProbabilityDistributions_A_Description0",
     "locked": true,
     "schema_version": 3,
     "solution": false,
     "task": false
    }
   },
   "source": [
    "Define your library functions in the class *DiscreteJointDistribution*, whose interface is given below. Verify that your functions are working correctly by running the test cases below and making sure that none of the assertions fail."
   ]
  },
  {
   "cell_type": "code",
   "execution_count": 4,
   "id": "6b68a8e7",
   "metadata": {
    "ExecuteTime": {
     "end_time": "2024-11-09T12:31:50.603196Z",
     "start_time": "2024-11-09T12:31:49.182458Z"
    },
    "deletable": false,
    "nbgrader": {
     "cell_type": "code",
     "checksum": "b65d62235414016aeb7c7d59ca6fec3e",
     "grade": false,
     "grade_id": "JointProbabilityDistributions_A",
     "locked": false,
     "schema_version": 3,
     "solution": true,
     "task": false
    }
   },
   "outputs": [
    {
     "name": "stdout",
     "output_type": "stream",
     "text": [
      "X PMF: [0.25       0.17857143 0.28571429 0.28571429]\n",
      "Y PMF: [0.32142857 0.32142857 0.35714286]\n",
      "Variables independent: False\n",
      "Conditional PMF: [0.85714286 0.14285714 0.        ]\n",
      "Conditional expectation: 0.14285714285714285\n",
      "Covariance: 0.04260204081632654\n"
     ]
    }
   ],
   "source": [
    "from typing import Tuple\n",
    "\n",
    "import numpy as np\n",
    "import matplotlib.pyplot as plt\n",
    "\n",
    "class DiscreteJointDistribution(object):\n",
    "    def __init__(self, variable_names: list,\n",
    "                 var1_values: list,\n",
    "                 var2_values: list,\n",
    "                 distribution: np.array):\n",
    "        self.variable_names = list(variable_names)\n",
    "        self.var1_values = list(var1_values)\n",
    "        self.var2_values = list(var2_values)\n",
    "        self.distribution = np.array(distribution)\n",
    "\n",
    "    def find_pmf(self, variable_name: str) -> np.array:\n",
    "        pmf = np.zeros(0)\n",
    "        \n",
    "        # YOUR CODE HERE\n",
    "        \n",
    "        if variable_name == self.variable_names[0]:\n",
    "            pmf = np.sum(self.distribution, axis=1)\n",
    "        else:\n",
    "            pmf = np.sum(self.distribution, axis=0)\n",
    "            \n",
    "        #raise NotImplementedError()\n",
    "        \n",
    "        return pmf\n",
    "\n",
    "    def variables_independent(self) -> bool:\n",
    "        \n",
    "        # YOUR CODE HERE\n",
    "        \n",
    "        # Get marginal PMFs\n",
    "        pmf1 = self.find_pmf(self.variable_names[0])\n",
    "        pmf2 = self.find_pmf(self.variable_names[1])\n",
    "        \n",
    "        for i in range(len(self.var1_values)):\n",
    "            for j in range(len(self.var2_values)):\n",
    "                joint_probability = self.distribution[i,j]\n",
    "                marginal_pdt = pmf1[i] * pmf2[j]\n",
    "                if abs(joint_probability - marginal_pdt) > 1e-10:\n",
    "                    return False\n",
    "        return True\n",
    "    \n",
    "        #raise NotImplementedError()\n",
    "        \n",
    "\n",
    "    def conditional_pmf(self, observed_variable_name: str,\n",
    "                        observed_value: str) -> np.array:\n",
    "        conditional_pmf = np.zeros(0)\n",
    "        \n",
    "        # YOUR CODE HERE\n",
    "        \n",
    "        if observed_variable_name == self.variable_names[0]:\n",
    "            idx = self.var1_values.index(observed_value)\n",
    "            jslice = self.distribution[idx, :]\n",
    "            conditional_pmf = jslice / np.sum(jslice)\n",
    "        else:\n",
    "            idx = self.var2_values.index(observed_value)\n",
    "            jslice = self.distribution[:, idx]\n",
    "            conditional_pmf = jslice / np.sum(jslice)\n",
    "            \n",
    "        #raise NotImplementedError()\n",
    "        \n",
    "        return conditional_pmf\n",
    "\n",
    "    def conditional_expectation(self, observed_variable_name: str,\n",
    "                                observed_value: str) -> float:\n",
    "        e = 0.\n",
    "        \n",
    "        # YOUR CODE HERE\n",
    "        \n",
    "        cond_pmf = self.conditional_pmf(observed_variable_name, observed_value)\n",
    "        if observed_variable_name == self.variable_names[0]:\n",
    "            values = np.array([float(v) for v in self.var2_values])\n",
    "        else:\n",
    "            values = np.array([float(v) for v in self.var1_values])\n",
    "        e = np.sum(values * cond_pmf)\n",
    "        \n",
    "        #raise NotImplementedError()\n",
    "        \n",
    "        return e\n",
    "\n",
    "    def covariance(self) -> float:\n",
    "        covariance = 0.\n",
    "        \n",
    "        # YOUR CODE HERE\n",
    "        \n",
    "        var1_vals = np.array([float(v) for v in self.var1_values])\n",
    "        var2_vals = np.array([float(v) for v in self.var2_values])\n",
    "        pmf1 = self.find_pmf(self.variable_names[0])\n",
    "        pmf2 = self.find_pmf(self.variable_names[1])\n",
    "        mean1 = np.sum(var1_vals * pmf1)\n",
    "        mean2 = np.sum(var2_vals * pmf2)\n",
    "        exp_xy = 0\n",
    "        \n",
    "        for i in range(len(var1_vals)):\n",
    "            for j in range(len(var2_vals)):\n",
    "                exp_xy += var1_vals[i] * var2_vals[j] * self.distribution[i,j]\n",
    "        covariance = exp_xy - mean1 * mean2\n",
    "        \n",
    "        #raise NotImplementedError()\n",
    "        \n",
    "        return covariance\n",
    "\n",
    "\n",
    "######################################################################\n",
    "### Your implementation is correct if the following tests are passing\n",
    "######################################################################\n",
    "variable_names = ['X', 'Y']\n",
    "x_values = ['0.01', '0.05', '0.1', '0.2']\n",
    "y_values = ['0', '1', '2']\n",
    "distribution = np.array([[6./28., 1./28., 0.], [2./28., 2./28., 1./28.], \\\n",
    "                         [1./28., 4./28., 3./28.], [0., 2./28., 6./28.]])\n",
    "joint_distribution = DiscreteJointDistribution(variable_names, x_values, \\\n",
    "                                               y_values, distribution)\n",
    "\n",
    "# pmfs test case\n",
    "x_pmf = joint_distribution.find_pmf('X')\n",
    "y_pmf = joint_distribution.find_pmf('Y')\n",
    "print(\"X PMF:\", x_pmf)  # Should be [7/28, 5/28, 8/28, 8/28]\n",
    "print(\"Y PMF:\", y_pmf)\n",
    "assert np.all(np.abs(x_pmf - np.array([7./28., 5./28., 8./28., 8./28.])) < 1e-5)\n",
    "assert np.all(np.abs(y_pmf - np.array([9./28., 9./28., 10./28.])) < 1e-5)\n",
    "\n",
    "# variable independence test case\n",
    "independence = joint_distribution.variables_independent()\n",
    "print(\"Variables independent:\", independence)  # Should be False\n",
    "assert joint_distribution.variables_independent() == False\n",
    "\n",
    "# conditional pmf test case\n",
    "conditional_pmf = joint_distribution.conditional_pmf('X', '0.01')\n",
    "print(\"Conditional PMF:\", conditional_pmf)  # Should be [6/7, 1/7, 0]\n",
    "\n",
    "assert np.all(np.abs(conditional_pmf - np.array([6./7., 1./7., 0.])) < 1e-5)\n",
    "\n",
    "# conditional expectation test case\n",
    "conditional_expectation = joint_distribution.conditional_expectation('X', '0.01')\n",
    "print(\"Conditional expectation:\", conditional_expectation)\n",
    "assert abs(conditional_expectation - 1./7.) < 1e-5\n",
    "\n",
    "# covariance test case\n",
    "covariance = joint_distribution.covariance()\n",
    "print(\"Covariance:\", covariance)\n",
    "assert abs(covariance - 0.04) < 1e-2"
   ]
  },
  {
   "cell_type": "code",
   "execution_count": 5,
   "id": "0d654e9a",
   "metadata": {
    "ExecuteTime": {
     "end_time": "2024-11-09T12:31:50.608131Z",
     "start_time": "2024-11-09T12:31:50.605298Z"
    },
    "deletable": false,
    "editable": false,
    "nbgrader": {
     "cell_type": "code",
     "checksum": "38639b4347fc3b74a86a20adc1e6fa75",
     "grade": true,
     "grade_id": "test_JointProbabilityDistributions_A0",
     "locked": true,
     "points": 25,
     "schema_version": 3,
     "solution": false,
     "task": false
    }
   },
   "outputs": [],
   "source": [
    "# This cell contains automated tests for your solution\n"
   ]
  },
  {
   "cell_type": "markdown",
   "id": "e2e1dd45",
   "metadata": {
    "deletable": false,
    "editable": false,
    "nbgrader": {
     "cell_type": "markdown",
     "checksum": "ab8c6092a163c0c0eb46cf159aec139d",
     "grade": false,
     "grade_id": "taskheader_3",
     "locked": true,
     "schema_version": 3,
     "solution": false,
     "task": false
    }
   },
   "source": [
    "# Task 3\n",
    "\n",
    "**[25 Point(s)]**"
   ]
  },
  {
   "cell_type": "markdown",
   "id": "a385d76d",
   "metadata": {
    "deletable": false,
    "editable": false,
    "nbgrader": {
     "cell_type": "markdown",
     "checksum": "65e3134d96be8d3a80675cc4900275ec",
     "grade": false,
     "grade_id": "SpeechSystem_ASpeechSystem_BSpeechSystem_C_Header",
     "locked": true,
     "schema_version": 3,
     "solution": false,
     "task": false
    }
   },
   "source": [
    "## Random Variables and Conditional Probabilities\n",
    "\n",
    "Let's suppose that we have a very simple speech synthesis system that can only generate sequences of the letters \\{ a, b, c, d \\}. Based on the data we have used for training the system, we know that the prior probabilities of generating the letters are $P(a) = 0.1$, $P(b) = 0.4$, $P(c) = 0.2$, and $P(d) = 0.3$. This particular system works by generating letters one at a time; as only some letter combinations are considered valid words, generating letter $n$ affects the probabilities of generating letter $n+1$. In particular, we know that\n",
    "\n",
    "\\begin{align*}\n",
    "    &P(a|a) = 0.2 \\hspace{2cm} P(b|a) = 0.1 \\hspace{2cm} P(c|a) = 0.6 \\hspace{2cm} P(d|a) = 0.1\\\\\n",
    "    &P(a|b) = 0.4 \\hspace{2cm} P(b|b) = 0.2 \\hspace{2cm} P(c|b) = 0.1 \\hspace{2cm} P(d|b) = 0.3\\\\\n",
    "    &P(a|c) = 0.1 \\hspace{2cm} P(b|c) = 0.2 \\hspace{2cm} P(c|c) = 0.4 \\hspace{2cm} P(d|c) = 0.3\\\\\n",
    "    &P(a|d) = 0.4 \\hspace{2cm} P(b|d) = 0.4 \\hspace{2cm} P(c|d) = 0.2 \\hspace{2cm} P(d|d) = 0.0\n",
    "\\end{align*}\n",
    "\n",
    "Given that the letters from $1$ to $n-1$ don't affect the probabilities of generating the subsequent letters, we say that letter $n+1$ is conditionally independent of letters $1$ to $n-1$ given letter $n$. For instance, if the system has generated the sequence *bc*, the probability of generating *d* next, namely $P(d|b,c)$, will be equal to $P(d|c)$. The probabilities given above are thus all we need for investigating how this particular speech synthesis system works.\n"
   ]
  },
  {
   "cell_type": "markdown",
   "id": "01e4eca8",
   "metadata": {
    "deletable": false,
    "editable": false,
    "nbgrader": {
     "cell_type": "markdown",
     "checksum": "e8854c5149d2f82ef8c999dfb43d8c01",
     "grade": false,
     "grade_id": "taskheader_3_1",
     "locked": true,
     "schema_version": 3,
     "solution": false,
     "task": false
    }
   },
   "source": [
    "## Task 3.1\n",
    "\n",
    "**[5 Point(s)]**"
   ]
  },
  {
   "cell_type": "markdown",
   "id": "ec254c7b",
   "metadata": {
    "deletable": false,
    "editable": false,
    "nbgrader": {
     "cell_type": "markdown",
     "checksum": "7f2fcadb63f53bcc7f033055ffc9e959",
     "grade": false,
     "grade_id": "SpeechSystem_A_Description0",
     "locked": true,
     "schema_version": 3,
     "solution": false,
     "task": false
    }
   },
   "source": [
    "a) How many four-letter sequences of $\\{ a, b, c, d \\}$ are there in total? How many of these are valid for this particular speech synthesis system? Set the variable `allwordCnt`."
   ]
  },
  {
   "cell_type": "code",
   "execution_count": 2,
   "id": "0cdeb803",
   "metadata": {
    "ExecuteTime": {
     "end_time": "2024-11-09T12:31:50.787423Z",
     "start_time": "2024-11-09T12:31:50.610825Z"
    },
    "deletable": false,
    "nbgrader": {
     "cell_type": "code",
     "checksum": "6b9da99385f354f30efa15f774c79b52",
     "grade": false,
     "grade_id": "SpeechSystem_A",
     "locked": false,
     "schema_version": 3,
     "solution": true,
     "task": false
    }
   },
   "outputs": [
    {
     "name": "stdout",
     "output_type": "stream",
     "text": [
      "word_count: 256\n"
     ]
    }
   ],
   "source": [
    "import itertools\n",
    "\n",
    "# Assign your solution to the following variable\n",
    "allwordCnt = ...\n",
    "\n",
    "# YOUR CODE HERE\n",
    "alphabets = ['a', 'b', 'c', 'd']\n",
    "\n",
    "possible_sequences = list(itertools.product(alphabets, repeat=4))\n",
    "#print(possible_sequences)\n",
    "allwordCnt = len(possible_sequences)\n",
    "#raise NotImplementedError()\n",
    "\n",
    "print(f'word_count: {allwordCnt}')"
   ]
  },
  {
   "cell_type": "code",
   "execution_count": 7,
   "id": "9e376a36",
   "metadata": {
    "ExecuteTime": {
     "end_time": "2024-11-09T12:31:51.413586Z",
     "start_time": "2024-11-09T12:31:50.791325Z"
    },
    "deletable": false,
    "editable": false,
    "nbgrader": {
     "cell_type": "code",
     "checksum": "81f0cf1f1cd9177a7a3d25b13d0b3e7f",
     "grade": true,
     "grade_id": "test_SpeechSystem_A0",
     "locked": true,
     "points": 5,
     "schema_version": 3,
     "solution": false,
     "task": false
    }
   },
   "outputs": [],
   "source": [
    "### This cell contains tests for your solution\n"
   ]
  },
  {
   "cell_type": "markdown",
   "id": "a7066650",
   "metadata": {
    "deletable": false,
    "editable": false,
    "nbgrader": {
     "cell_type": "markdown",
     "checksum": "22ae311cc72cec46a7a19fe02c8d48f5",
     "grade": false,
     "grade_id": "taskheader_3_2",
     "locked": true,
     "schema_version": 3,
     "solution": false,
     "task": false
    }
   },
   "source": [
    "## Task 3.2\n",
    "\n",
    "**[5 Point(s)]**"
   ]
  },
  {
   "cell_type": "markdown",
   "id": "968c6623",
   "metadata": {
    "deletable": false,
    "editable": false,
    "nbgrader": {
     "cell_type": "markdown",
     "checksum": "5d9d555ca18f8bc4111b5ed0ff2c6579",
     "grade": false,
     "grade_id": "SpeechSystem_B_Description0",
     "locked": true,
     "schema_version": 3,
     "solution": false,
     "task": false
    }
   },
   "source": [
    "b) What is the probability of generating the sequence $dacb$?"
   ]
  },
  {
   "cell_type": "code",
   "execution_count": 8,
   "id": "2a20d49d",
   "metadata": {
    "ExecuteTime": {
     "end_time": "2024-11-09T12:31:51.534467Z",
     "start_time": "2024-11-09T12:31:51.419209Z"
    },
    "deletable": false,
    "nbgrader": {
     "cell_type": "code",
     "checksum": "098b81652d09f7e1aa66d0b39e0b7d79",
     "grade": false,
     "grade_id": "SpeechSystem_B",
     "locked": false,
     "schema_version": 3,
     "solution": true,
     "task": false
    }
   },
   "outputs": [
    {
     "name": "stdout",
     "output_type": "stream",
     "text": [
      "Probability of dacb: 0.0144\n"
     ]
    }
   ],
   "source": [
    "# Assign your solution to the following variable\n",
    "p_dacb = ...\n",
    "\n",
    "# YOUR CODE HERE\n",
    "\n",
    "P_d = 0.3     # P(d)\n",
    "P_a_d = 0.4   # P(a|d)\n",
    "P_c_a = 0.6   # P(c|a)\n",
    "P_b_c = 0.2   # P(b|c)\n",
    "\n",
    "p_dacb = P_d * P_a_d * P_c_a * P_b_c\n",
    "\n",
    "print(f'Probability of dacb: {p_dacb}')\n",
    "\n",
    "#raise NotImplementedError()"
   ]
  },
  {
   "cell_type": "code",
   "execution_count": 9,
   "id": "d53ae9e8",
   "metadata": {
    "ExecuteTime": {
     "end_time": "2024-11-09T12:31:51.578029Z",
     "start_time": "2024-11-09T12:31:51.539457Z"
    },
    "deletable": false,
    "editable": false,
    "nbgrader": {
     "cell_type": "code",
     "checksum": "8ef8bd2acda34727192545521fc47438",
     "grade": true,
     "grade_id": "test_SpeechSystem_B0",
     "locked": true,
     "points": 5,
     "schema_version": 3,
     "solution": false,
     "task": false
    }
   },
   "outputs": [],
   "source": [
    "### This cell contains tests for your solution\n"
   ]
  },
  {
   "cell_type": "markdown",
   "id": "c31385ec",
   "metadata": {
    "deletable": false,
    "editable": false,
    "nbgrader": {
     "cell_type": "markdown",
     "checksum": "6d35bd9ffda4b738098d14b66e637941",
     "grade": false,
     "grade_id": "taskheader_3_3",
     "locked": true,
     "schema_version": 3,
     "solution": false,
     "task": false
    }
   },
   "source": [
    "## Task 3.3\n",
    "\n",
    "**[15 Point(s)]**"
   ]
  },
  {
   "cell_type": "markdown",
   "id": "864d62b4",
   "metadata": {
    "deletable": false,
    "editable": false,
    "nbgrader": {
     "cell_type": "markdown",
     "checksum": "c5106eb4cbd78b12c3b3197d0f9e4a9c",
     "grade": false,
     "grade_id": "SpeechSystem_C_Description0",
     "locked": true,
     "schema_version": 3,
     "solution": false,
     "task": false
    }
   },
   "source": [
    "c) Let us now define a random variable $X$ that counts the occurrences of a given letter in a two-letter sequence. Write the function $f$ defined below, which calculates $P(X)$, the probability mass function of $X$. Verify the results of your function by assuming that $X$ counts the number of **\"a\"** letters in a two-letter sequence; for this case, calculate $P(X)$ by hand and make sure that your function returns the correct values.\n",
    "\n",
    "*Hint 1*: Feel free to define any additional helper functions that might simplify your calculations.\n",
    "\n",
    "*Hint 2*: A test case for your function is given in the cell below. You should obtain the probabilities $P(X=0) = 0.6$, $P(X=1) = 0.38$, and $P(X=2) = 0.02$ for that test case."
   ]
  },
  {
   "cell_type": "code",
   "execution_count": 10,
   "id": "5a486f67",
   "metadata": {
    "ExecuteTime": {
     "end_time": "2024-11-09T12:31:51.630764Z",
     "start_time": "2024-11-09T12:31:51.584696Z"
    },
    "deletable": false,
    "nbgrader": {
     "cell_type": "code",
     "checksum": "ff192d1a42bd22fad85887ca1c1a8dc2",
     "grade": false,
     "grade_id": "SpeechSystem_C",
     "locked": false,
     "schema_version": 3,
     "solution": true,
     "task": false
    }
   },
   "outputs": [
    {
     "name": "stdout",
     "output_type": "stream",
     "text": [
      "[0.6  0.38 0.02]\n"
     ]
    }
   ],
   "source": [
    "import numpy as np\n",
    "\n",
    "def f(priors: np.array,\n",
    "      conditionals: np.array,\n",
    "      letter_idx: int) -> float:\n",
    "    p_x = np.array([0., 0., 0.])\n",
    "\n",
    "    # YOUR CODE HERE\n",
    "    \n",
    "    #P(X=0), probability that target letter do not appear in any position\n",
    "    \n",
    "    for i in range(len(priors)):\n",
    "        if i != letter_idx:\n",
    "            for j in range(len(priors)):\n",
    "                if j != letter_idx:\n",
    "                    p_x[0] += priors[i] * conditionals[i][j]\n",
    "\n",
    "    #P(X=1), probability that target letter appears in one position\n",
    "    \n",
    "    #No target letter in second position\n",
    "    for j in range(len(priors)):\n",
    "        if j != letter_idx:\n",
    "            p_x[1] += priors[letter_idx] * conditionals[letter_idx][j]\n",
    "    \n",
    "    # No target letter in first position\n",
    "    for i in range(len(priors)):\n",
    "        if i != letter_idx:\n",
    "            p_x[1] += priors[i] * conditionals[i][letter_idx]\n",
    "\n",
    "    #P(X=2), probability that target letter appear in both positions\n",
    "    p_x[2] = priors[letter_idx] * conditionals[letter_idx][letter_idx]\n",
    "    \n",
    "    #raise NotImplementedError()\n",
    "\n",
    "    return p_x\n",
    "\n",
    "letters = ['a', 'b', 'c', 'd']\n",
    "priors = np.array([0.1, 0.4, 0.2, 0.3])\n",
    "conditionals = np.array([[0.2, 0.1, 0.6, 0.1], [0.4, 0.2, 0.1, 0.3], \\\n",
    "                         [0.1, 0.2, 0.4, 0.3], [0.4, 0.4, 0.2, 0.]])\n",
    "\n",
    "pmf = f(priors, conditionals, letters.index('a'))\n",
    "print(pmf)\n",
    "assert np.allclose(pmf, np.array([0.6, 0.38, 0.02]))"
   ]
  },
  {
   "cell_type": "code",
   "execution_count": 11,
   "id": "712a916c",
   "metadata": {
    "ExecuteTime": {
     "end_time": "2024-11-09T12:31:51.682298Z",
     "start_time": "2024-11-09T12:31:51.636898Z"
    },
    "deletable": false,
    "editable": false,
    "nbgrader": {
     "cell_type": "code",
     "checksum": "ff3c9582acfd69b95d7824e345203373",
     "grade": true,
     "grade_id": "test_SpeechSystem_C0",
     "locked": true,
     "points": 15,
     "schema_version": 3,
     "solution": false,
     "task": false
    }
   },
   "outputs": [],
   "source": [
    "### This cell contains tests for your solution\n"
   ]
  }
 ],
 "metadata": {
  "kernelspec": {
   "display_name": "Python 3 (ipykernel)",
   "language": "python",
   "name": "python3"
  },
  "language_info": {
   "codemirror_mode": {
    "name": "ipython",
    "version": 3
   },
   "file_extension": ".py",
   "mimetype": "text/x-python",
   "name": "python",
   "nbconvert_exporter": "python",
   "pygments_lexer": "ipython3",
   "version": "3.10.12"
  }
 },
 "nbformat": 4,
 "nbformat_minor": 5
}
