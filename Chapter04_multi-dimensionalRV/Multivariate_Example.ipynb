{
 "cells": [
  {
   "cell_type": "markdown",
   "id": "4424a367-f053-4c8b-8c6a-c4c1ba02917a",
   "metadata": {},
   "source": [
    "##### Example 1:\n",
    "\n",
    "Assume you have a list $A= [1,2,3,4,5,6]$ with random variable if even its $X(w) = 1$ or else it is $X(w) = -1$\n",
    "$$A:X(A) = [1:-1 , 2:1, 3:-1 , 4:1 , 5: -1 , 6:1]$$\n",
    "\n",
    "Assume you have a list $B= [1,2,3,4,5,6]$ with random variable if prime its $X(w) = 1$ or else it is $X(w) = -1$\n",
    "$$B:X(B) = [1:1 , 2:1, 3:1 , 4:-1 , 5: 1 , 6:-1]$$\n",
    "\n",
    "Now find $P(X(A)=-1, X(B)=-1)$ , it means that the number which is not even (i.e odd) and not a prime number "
   ]
  },
  {
   "cell_type": "code",
   "execution_count": 22,
   "id": "aee4dc35-5f6e-43fd-9817-0a01ad54fb60",
   "metadata": {},
   "outputs": [
    {
     "name": "stdout",
     "output_type": "stream",
     "text": [
      "\n",
      "--- Marginal Probabilities ---\n",
      "P(X_A=-1) = 0.50, P(X_A=1) = 0.50\n",
      "P(X_B=-1) = 0.50, P(X_B=1) = 0.50\n",
      "\n"
     ]
    },
    {
     "name": "stdin",
     "output_type": "stream",
     "text": [
      "Enter value for X_A (-1 or 1):  -1\n",
      "Enter value for X_B (-1 or 1):  -1\n"
     ]
    },
    {
     "name": "stdout",
     "output_type": "stream",
     "text": [
      "\n",
      "--- Joint Probability Results ---\n",
      "Dependent case (actual frequency): P(X_A=-1, X_B=-1) = 0.1667\n",
      "Independent case (product of marginals): P(X_A=-1, X_B=-1) = 0.2500\n",
      "\n",
      "⚠️ Variables X_A and X_B appear to be **dependent**.\n"
     ]
    }
   ],
   "source": [
    "# Improved solution for both dependence and independence cases\n",
    "A = {1: -1, 2: 1, 3: -1, 4: 1, 5: -1, 6: 1}\n",
    "B = {1: -1, 2: 1, 3: 1, 4: -1, 5: 1, 6: -1}\n",
    "\n",
    "# Total outcomes\n",
    "total = len(A)\n",
    "\n",
    "# Calculate marginal probabilities\n",
    "P_M1_A = sum(1 for v in A.values() if v == -1) / total\n",
    "P_P1_A = 1 - P_M1_A  # For X_A=1\n",
    "\n",
    "P_M1_B = sum(1 for v in B.values() if v == -1) / total\n",
    "P_P1_B = 1 - P_M1_B  # For X_B=1\n",
    "\n",
    "# Display marginal probabilities\n",
    "print(\"\\n--- Marginal Probabilities ---\")\n",
    "print(f\"P(X_A=-1) = {P_M1_A:.2f}, P(X_A=1) = {P_P1_A:.2f}\")\n",
    "print(f\"P(X_B=-1) = {P_M1_B:.2f}, P(X_B=1) = {P_P1_B:.2f}\\n\")\n",
    "\n",
    "# Function to calculate joint probability based on dependence\n",
    "def joint_probability_dependent(a, b):\n",
    "    count = sum(1 for i in A if A[i] == a and B[i] == b)\n",
    "    return count / total\n",
    "\n",
    "# Function to calculate joint probability assuming independence\n",
    "def joint_probability_independent(a, b):\n",
    "    pa = P_M1_A if a == -1 else P_P1_A\n",
    "    pb = P_M1_B if b == -1 else P_P1_B\n",
    "    return pa * pb\n",
    "\n",
    "# Input handling\n",
    "try:\n",
    "    a = int(input(\"Enter value for X_A (-1 or 1): \"))\n",
    "    b = int(input(\"Enter value for X_B (-1 or 1): \"))\n",
    "\n",
    "    if a not in [-1, 1] or b not in [-1, 1]:\n",
    "        raise ValueError(\"Values must be -1 or 1.\")\n",
    "\n",
    "    # Dependent case\n",
    "    dep_prob = joint_probability_dependent(a, b)\n",
    "    # Independent case\n",
    "    indep_prob = joint_probability_independent(a, b)\n",
    "\n",
    "    print(\"\\n--- Joint Probability Results ---\")\n",
    "    print(f\"Dependent case (actual frequency): P(X_A={a}, X_B={b}) = {dep_prob:.4f}\")\n",
    "    print(f\"Independent case (product of marginals): P(X_A={a}, X_B={b}) = {indep_prob:.4f}\")\n",
    "\n",
    "    # Check dependence\n",
    "    if abs(dep_prob - indep_prob) < 1e-6:\n",
    "        print(\"\\n✅ Variables X_A and X_B appear to be **independent**.\")\n",
    "    else:\n",
    "        print(\"\\n⚠️ Variables X_A and X_B appear to be **dependent**.\")\n",
    "\n",
    "except ValueError as e:\n",
    "    print(f\"Invalid input: {e}\")\n"
   ]
  },
  {
   "cell_type": "code",
   "execution_count": null,
   "id": "14831e9e-bb9f-43e4-bb12-10b82be02dc0",
   "metadata": {},
   "outputs": [],
   "source": []
  }
 ],
 "metadata": {
  "kernelspec": {
   "display_name": "Python 3 (ipykernel)",
   "language": "python",
   "name": "python3"
  },
  "language_info": {
   "codemirror_mode": {
    "name": "ipython",
    "version": 3
   },
   "file_extension": ".py",
   "mimetype": "text/x-python",
   "name": "python",
   "nbconvert_exporter": "python",
   "pygments_lexer": "ipython3",
   "version": "3.10.12"
  }
 },
 "nbformat": 4,
 "nbformat_minor": 5
}
