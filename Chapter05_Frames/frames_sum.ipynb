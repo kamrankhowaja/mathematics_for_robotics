{
 "cells": [
  {
   "cell_type": "markdown",
   "id": "243ed617",
   "metadata": {
    "slideshow": {
     "slide_type": "slide"
    }
   },
   "source": [
    "# <center>1. Coordinate frames and transformations</center>\n",
    "\n",
    "##  <center>Management Summary </center>\n",
    "\n",
    "\n",
    "<center><img src=\"https://www.h-brs.de/files/logo_print_studierende.jpg\" alt=\"H-BRS Logo\" width=\"40%\" style=\"margin-top:2ex\"/></center>\n",
    "\n",
    "#### <center>Prof. Dr. Paul Plöger<br>2024-04-08</center>"
   ]
  },
  {
   "cell_type": "markdown",
   "id": "7fe9b3d3",
   "metadata": {
    "slideshow": {
     "slide_type": "slide"
    }
   },
   "source": [
    "## **Examples**:\n",
    "  - concrete scenarios: \n",
    "    - <a target=\"_blank\" href=\"frames.pdf#page=4&view=FitV\">robot laser scanners => box's position</a>.\n",
    "    - <a target=\"_blank\" href=\"frames.pdf#page=6&view=FitV\">robotic manipulation => orientation and position for items like screws </a>.\n",
    "    - <a target=\"_blank\" href=\"frames.pdf#page=30&view=FitV\">explanatory examples =>  transformations in 2D and 3D spaces</a>.\n"
   ]
  },
  {
   "cell_type": "markdown",
   "id": "6e990852",
   "metadata": {
    "slideshow": {
     "slide_type": "slide"
    }
   },
   "source": [
    "## **Problems**:\n",
    "  - Tasks involving calculating positions and orientations relative to two different reference frames $A,B$.\n",
    "  - Use of homogeneous transformations ${}^B_AT$ to combine rotation and translations in ***<u>ONE</u>*** matrix.\n",
    "  - optimisation of computational strategies to process the transformation (matrices)."
   ]
  },
  {
   "cell_type": "markdown",
   "id": "82558e7e",
   "metadata": {
    "slideshow": {
     "slide_type": "slide"
    }
   },
   "source": [
    "## **Mathematical basic terms**: \n",
    "\n",
    "- Linear algebra\n",
    "  - matrices, vectors, coordinate zeros, \n",
    "  - chaining (compositions) of transformations, \n",
    "  - basis vectors and change of basis\n",
    "  \n",
    "- fundamental principles and theorems underlying coordinate transformations\n",
    "  - object positions  == <u>***(coordinates) vectors***</u>\n",
    "  - orientations  == <u>***rotation matrices***</u>\n",
    "\n"
   ]
  },
  {
   "cell_type": "markdown",
   "id": "29f9a366",
   "metadata": {
    "heading_collapsed": true,
    "hide_input": true,
    "slideshow": {
     "slide_type": "slide"
    }
   },
   "source": [
    "## **Methods**:\n",
    "  - Determination of <a target=\"_blank\" href=\"frames.pdf#page=52&view=FitV\">fixed angles<a> for comprehensive object orientation description.\n",
    "  - calculating inverse transforms : $ {}^B_AR^{-1}={}^A_BR={}^B_A R^T$.\n",
    "  - 3D transformation representation\n",
    "  - extended by a \"<a target=\"_blank\" href=\"frames.pdf#page=47&view=FitV\">homogeneous coordinate</a>\" $\\begin{bmatrix} .\\\\.\\\\.\\\\1\\end{bmatrix}$   \n",
    "    \n",
    "    (more precisely: embedding in $\\mathbb{R^4}$)  \n",
    "  - inverse of ${}^B_AT^{-1}$ : similar to rotation"
   ]
  },
  {
   "cell_type": "markdown",
   "id": "62a35ebf",
   "metadata": {
    "slideshow": {
     "slide_type": "slide"
    }
   },
   "source": [
    "## **Definitions**:\n",
    "  - **Coordinate Frames**:  \n",
    "    The  <a target=\"_blank\" href=\"frames.pdf#page=33&view=FitV\">reference systems</a> used to define<br> the position and orientation of objects in space.\n",
    "  - **Rotations**:  \n",
    "    is a square matrix, \n",
    "    columns are unit vectors,<br> \n",
    "    <a target=\"_blank\" href=\"frames.pdf#page=30&view=FitV\">all pairwise perpendicular,</a> \n",
    "    norm preserving,\n",
    "    $det(R)=1$  \n",
    "  - **Homogeneous Coordinates**:  \n",
    "    An extension of traditional Cartesian coordinates   \n",
    "    used for simplifying the representation of transformations.\n",
    "  - **Homogeneous Transformation**:  \n",
    "    Mathematical operation that change ***both***<br> <a target=\"_blank\" href=\"frames.pdf#page=34&view=FitV\">the position and orientation</a>  of objects within a coordinate frame.\n",
    "  - **Inverse Transforms**:   \n",
    "    Operations that <a target=\"_blank\" href=\"frames.pdf#page=44&view=FitV\">reverse the effects of a previous transformation,</a><br>returning an object to its original state or frame.\n",
    "  - **Euler Angles versus Fixed-Angles notation**:  \n",
    "    <a target=\"_blank\" href=\"frames.pdf#page=58&view=FitV\">three angles $\\alpha,\\beta, \\gamma$  represent the orientation of a rigid body in 3D space</a>:  \n",
    "    - relative to WHAT:\n",
    "         a <a target=\"_blank\" href=\"frames.pdf#page=57&view=FitV\">fixed coordinate system</a> \n",
    "        (aka ***<u>world</u>*** coordinates) \n",
    "    - a <a target=\"_blank\" href=\"frames.pdf#page=56&view=FitV\">moving body frame (Euler angles)</a>\n",
    "        (the ***<u>dice</u>*** coordinate system: axis through faces ⚀ ⚂ ⚄)\n",
    "    - <a target=\"_blank\" href=\"frames.pdf#page=58&view=FitV\">relation between both decriptions</a>\n",
    "    "
   ]
  },
  {
   "cell_type": "markdown",
   "id": "f5342e23",
   "metadata": {
    "slideshow": {
     "slide_type": "slide"
    }
   },
   "source": [
    "## **Algorithms**:\n",
    "  - <a target=\"_blank\" href=\"frames.pdf#page=60&view=FitV\">efficient computation of transformations </a>, \n",
    "  - emphasising computational strategies.\n",
    "  - sequential versus block wise multiplication for complex matrix transformations.\n",
    "  - Comparison between <a target=\"_blank\" href=\"frames.pdf#page=61&view=FitV\">direct and cross-product methods for rotation operations,<a>  \n",
    "    highlights computational efficiencies."
   ]
  }
 ],
 "metadata": {
  "celltoolbar": "Slideshow",
  "jupytext": {
   "formats": "md,ipynb"
  },
  "kernelspec": {
   "display_name": "Python 3 (ipykernel)",
   "language": "python",
   "name": "python3"
  },
  "language_info": {
   "codemirror_mode": {
    "name": "ipython",
    "version": 3
   },
   "file_extension": ".py",
   "mimetype": "text/x-python",
   "name": "python",
   "nbconvert_exporter": "python",
   "pygments_lexer": "ipython3",
   "version": "3.10.12"
  },
  "rise": {
   "enable_chalkboard": true,
   "header": "<h3> &nbsp;&nbsp; H-BRS &nbsp;&nbsp; / &nbsp;&nbsp; FB02 &nbsp;&nbsp; / &nbsp;&nbsp; Prof. Dr. P.G.Plöger</h3>",
   "progress": true,
   "scroll": true,
   "slideNumber": "c/t",
   "transition": "none"
  }
 },
 "nbformat": 4,
 "nbformat_minor": 5
}
